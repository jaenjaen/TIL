{
 "cells": [
  {
   "cell_type": "markdown",
   "metadata": {},
   "source": [
    "## 변수와 데이터 타입\n",
    "#### 파이썬에서의 데이타 타입들"
   ]
  },
  {
   "cell_type": "code",
   "execution_count": 14,
   "metadata": {},
   "outputs": [
    {
     "data": {
      "text/plain": [
       "' 긴 주석은 single quotation 3개\\n    int - 정수\\n    float - 실수\\n    bool - False, True\\n    str - 문자열\\n    list - 순서가 있는 값들의 집합\\n    tuple - 순서가 있는 값들의 집합 변경불가\\n    set - 순서가 없지만 중복이 안되는 집합\\n    dic - 키와 값으로 데이타를 저장\\n'"
      ]
     },
     "execution_count": 14,
     "metadata": {},
     "output_type": "execute_result"
    }
   ],
   "source": [
    "''' 긴 주석은 single quotation 3개\n",
    "    int - 정수\n",
    "    float - 실수\n",
    "    bool - False, True\n",
    "    str - 문자열\n",
    "    list - 순서가 있는 값들의 집합\n",
    "    tuple - 순서가 있는 값들의 집합 변경불가\n",
    "    set - 순서가 없지만 중복이 안되는 집합\n",
    "    dic - 키와 값으로 데이타를 저장\n",
    "'''"
   ]
  },
  {
   "cell_type": "code",
   "execution_count": 15,
   "metadata": {},
   "outputs": [
    {
     "name": "stdout",
     "output_type": "stream",
     "text": [
      "Hello Python\n"
     ]
    }
   ],
   "source": [
    "testStr = \"Hello Python\"\n",
    "print(testStr)\n",
    "\n",
    "#Ctrl+/가 주석\n",
    "#alt+enter 새로운 Cell 만들면서 실행\n",
    "#markdown은 ESC+M"
   ]
  },
  {
   "cell_type": "code",
   "execution_count": 18,
   "metadata": {},
   "outputs": [
    {
     "name": "stdout",
     "output_type": "stream",
     "text": [
      "3\n",
      "3.5\n",
      "HELLO\n",
      "**************************************************\n",
      "<class 'int'>\n",
      "<class 'float'>\n",
      "<class 'str'>\n"
     ]
    }
   ],
   "source": [
    "a = 3\n",
    "b = 3.5\n",
    "c = \"HELLO\"\n",
    "print(a)\n",
    "print(b)\n",
    "print(c)\n",
    "print('*'*50)\n",
    "print(type(a))\n",
    "print(type(b))\n",
    "print(type(c))"
   ]
  },
  {
   "cell_type": "code",
   "execution_count": 23,
   "metadata": {},
   "outputs": [
    {
     "name": "stdout",
     "output_type": "stream",
     "text": [
      "당신의 나이를 입력하세요: 345\n",
      "나이:  345 살\n"
     ]
    }
   ],
   "source": [
    "'''\n",
    "    input()을 통하여 값을 받아옴\n",
    "    자료형은 무조건 문자열 반환\n",
    "'''\n",
    "data = input('당신의 나이를 입력하세요: ')\n",
    "print(\"나이: \",data,\"살\")\n"
   ]
  },
  {
   "cell_type": "code",
   "execution_count": 24,
   "metadata": {},
   "outputs": [
    {
     "name": "stdout",
     "output_type": "stream",
     "text": [
      "True\n",
      "False\n",
      "<class 'int'>\n",
      "<class 'float'>\n"
     ]
    }
   ],
   "source": [
    "d = 3\n",
    "e = 3.0\n",
    "print(d==e)\n",
    "print(type(d)==type(e))\n",
    "print(type(d))\n",
    "print(type(e))"
   ]
  },
  {
   "cell_type": "markdown",
   "metadata": {},
   "source": [
    "## 연산자와 포메팅\n"
   ]
  },
  {
   "cell_type": "code",
   "execution_count": 28,
   "metadata": {},
   "outputs": [
    {
     "name": "stdout",
     "output_type": "stream",
     "text": [
      "1.6666666666666667\n",
      "1\n",
      "2\n",
      "<class 'int'>\n"
     ]
    }
   ],
   "source": [
    "num1 = 5\n",
    "num2 = 3\n",
    "print(num1/num2) #결과가 float로 반환\n",
    "print(num1//num2) #결과가 int로 반환\n",
    "remain = num1 % num2\n",
    "print(remain)\n",
    "print(type(remain))\n",
    "\n",
    "#tab 자동완성"
   ]
  },
  {
   "cell_type": "code",
   "execution_count": 29,
   "metadata": {
    "collapsed": true
   },
   "outputs": [
    {
     "data": {
      "text/plain": [
       "['__abs__',\n",
       " '__add__',\n",
       " '__and__',\n",
       " '__bool__',\n",
       " '__ceil__',\n",
       " '__class__',\n",
       " '__delattr__',\n",
       " '__dir__',\n",
       " '__divmod__',\n",
       " '__doc__',\n",
       " '__eq__',\n",
       " '__float__',\n",
       " '__floor__',\n",
       " '__floordiv__',\n",
       " '__format__',\n",
       " '__ge__',\n",
       " '__getattribute__',\n",
       " '__getnewargs__',\n",
       " '__gt__',\n",
       " '__hash__',\n",
       " '__index__',\n",
       " '__init__',\n",
       " '__init_subclass__',\n",
       " '__int__',\n",
       " '__invert__',\n",
       " '__le__',\n",
       " '__lshift__',\n",
       " '__lt__',\n",
       " '__mod__',\n",
       " '__mul__',\n",
       " '__ne__',\n",
       " '__neg__',\n",
       " '__new__',\n",
       " '__or__',\n",
       " '__pos__',\n",
       " '__pow__',\n",
       " '__radd__',\n",
       " '__rand__',\n",
       " '__rdivmod__',\n",
       " '__reduce__',\n",
       " '__reduce_ex__',\n",
       " '__repr__',\n",
       " '__rfloordiv__',\n",
       " '__rlshift__',\n",
       " '__rmod__',\n",
       " '__rmul__',\n",
       " '__ror__',\n",
       " '__round__',\n",
       " '__rpow__',\n",
       " '__rrshift__',\n",
       " '__rshift__',\n",
       " '__rsub__',\n",
       " '__rtruediv__',\n",
       " '__rxor__',\n",
       " '__setattr__',\n",
       " '__sizeof__',\n",
       " '__str__',\n",
       " '__sub__',\n",
       " '__subclasshook__',\n",
       " '__truediv__',\n",
       " '__trunc__',\n",
       " '__xor__',\n",
       " 'bit_length',\n",
       " 'conjugate',\n",
       " 'denominator',\n",
       " 'from_bytes',\n",
       " 'imag',\n",
       " 'numerator',\n",
       " 'real',\n",
       " 'to_bytes']"
      ]
     },
     "execution_count": 29,
     "metadata": {},
     "output_type": "execute_result"
    }
   ],
   "source": [
    "'''\n",
    "    dir은 변수가 가진 속성을 보여줄 때 사용\n",
    "    파이썬의 모든 변수는 객체이다. 그렇기 떄문에 속성과 메소드가 존재함.\n",
    "    타입을 변환하는 함수 : \n",
    "'''\n",
    "dir(num1)"
   ]
  },
  {
   "cell_type": "code",
   "execution_count": 33,
   "metadata": {},
   "outputs": [
    {
     "name": "stdout",
     "output_type": "stream",
     "text": [
      "0\n",
      "1\n",
      "3\n",
      "3.0\n",
      "45\n"
     ]
    },
    {
     "data": {
      "text/plain": [
       "111"
      ]
     },
     "execution_count": 33,
     "metadata": {},
     "output_type": "execute_result"
    }
   ],
   "source": [
    "#형변환 함수\n",
    "'''\n",
    "int()\n",
    "float()\n",
    "str()\n",
    "list()\n",
    "tuple()\n",
    "'''\n",
    "\n",
    "print(int(False))\n",
    "print(int(True))\n",
    "print(int(e))\n",
    "print(float(a))\n",
    "print(round(44.89))\n",
    "int('111')"
   ]
  },
  {
   "cell_type": "code",
   "execution_count": 35,
   "metadata": {},
   "outputs": [
    {
     "name": "stdout",
     "output_type": "stream",
     "text": [
      "James 의  나이는  55 살 입니다.\n"
     ]
    }
   ],
   "source": [
    "name = \"James\"\n",
    "age = 55\n",
    "\n",
    "print(name,\"의  나이는 \",age,\"살 입니다.\")"
   ]
  },
  {
   "cell_type": "code",
   "execution_count": 38,
   "metadata": {},
   "outputs": [
    {
     "name": "stdout",
     "output_type": "stream",
     "text": [
      "정수 입력: 17\n",
      "<class 'str'>\n",
      "<class 'int'>\n"
     ]
    },
    {
     "data": {
      "text/plain": [
       "17"
      ]
     },
     "execution_count": 38,
     "metadata": {},
     "output_type": "execute_result"
    }
   ],
   "source": [
    "num3 = input(\"정수 입력: \")\n",
    "print(type(num3))\n",
    "num4 = int(num3)\n",
    "print(type(num4))\n",
    "num4"
   ]
  },
  {
   "cell_type": "markdown",
   "metadata": {},
   "source": [
    "### 문제1."
   ]
  },
  {
   "cell_type": "code",
   "execution_count": 76,
   "metadata": {},
   "outputs": [
    {
     "name": "stdout",
     "output_type": "stream",
     "text": [
      "초를 입력하세요: 3700\n",
      "3700 초는 1 시간 1 분 40 초 입니다.\n",
      "3700초는 1시간 1분 40초 입니다.\n"
     ]
    }
   ],
   "source": [
    "#키보드로부터 초를 입력받아 다음과 같이 출력합니다. (3700초 입력)\n",
    "# 3700초는 1시간 1분 40초 입니다.를 출력해야함.\n",
    "\n",
    "sec = int(input(\"초를 입력하세요: \"))\n",
    "hour = sec//(60*60)\n",
    "minute = (sec % (60*60))//60\n",
    "sec2 = sec%60\n",
    "print(sec,'초는',hour,\"시간\",minute,\"분\",sec2,\"초 입니다.\")\n",
    "\n",
    "#포멧팅을 사용해 동일한 결과.\n",
    "print(\"%d초는 %d시간 %d분 %d초 입니다.\"%(sec, hour,minute,sec2))"
   ]
  },
  {
   "cell_type": "code",
   "execution_count": 64,
   "metadata": {},
   "outputs": [
    {
     "name": "stdout",
     "output_type": "stream",
     "text": [
      "True\n",
      "False\n",
      "2794085039120\n",
      "2794085036496\n"
     ]
    }
   ],
   "source": [
    "'''\n",
    "immutable 타입으로는\n",
    "tuple(),숫자(int,float), str\n",
    "'''\n",
    "a=257\n",
    "b=257\n",
    "print(a==b)\n",
    "print(a is b #값은 같지만 다른 객체임\n",
    "print(id(a))\n",
    "print(id(b))"
   ]
  },
  {
   "cell_type": "code",
   "execution_count": 67,
   "metadata": {},
   "outputs": [
    {
     "name": "stdout",
     "output_type": "stream",
     "text": [
      "True\n",
      "True\n",
      "140716764412528\n",
      "140716764412528\n"
     ]
    }
   ],
   "source": [
    "'''\n",
    "위의 결과와 해당의 결과가 다른 이유?\n",
    "위의 결과가 맞는 결과이지만\n",
    "-5~256 데이터분석과 머신러닝에서 가장 많이 쓰는 값, 메모리를 효율적으로 관리하기 위하여\n",
    "       해당 범위의 값은 한번 변수(객체)를 만들고 나서는 다시 만들지 않음.\n",
    "       immutable의 원리가 적용되지 않음.\n",
    "'''\n",
    "a=200\n",
    "b=200\n",
    "\n",
    "print(a==b)\n",
    "print(a is b) \n",
    "print(id(a))\n",
    "print(id(b))"
   ]
  },
  {
   "cell_type": "code",
   "execution_count": 68,
   "metadata": {},
   "outputs": [
    {
     "name": "stdout",
     "output_type": "stream",
     "text": [
      "\n",
      "            this is\n",
      "            MyStr3 Test\n",
      "            Hello!\n",
      "\n"
     ]
    }
   ],
   "source": [
    "#문자열 literal 작은따옴표 또는 큰 따옴표로 감쌈\n",
    "#문자열을 여러줄로 만들어줄 경우도 사용함\n",
    "mtStr1 = 'hello'\n",
    "mtStr2 = \"hello\"\n",
    "mtStr3 = '''\n",
    "            this is\n",
    "            MyStr3 Test\n",
    "            Hello!\n",
    "'''\n",
    "print(mtStr3)"
   ]
  },
  {
   "cell_type": "code",
   "execution_count": 75,
   "metadata": {},
   "outputs": [
    {
     "name": "stdout",
     "output_type": "stream",
     "text": [
      "손흥민의 나이는 27살 이고, 이번 경기 평점은 9.57입니다\n",
      "오늘은 2020년 7월 6일 입니다.\n"
     ]
    }
   ],
   "source": [
    "#formating\n",
    "#1.\n",
    "name = '손흥민'\n",
    "age = 27\n",
    "grade = 9.567\n",
    "print(\"%s의 나이는 %d살 이고, 이번 경기 평점은 %0.2f입니다\"%(name, age, grade))\n",
    "\n",
    "#2.\n",
    "import time\n",
    "now = time.localtime()\n",
    "print('오늘은 %d년 %d월 %d일 입니다.'%(now.tm_year,now.tm_mon,now.tm_mday))"
   ]
  },
  {
   "cell_type": "code",
   "execution_count": null,
   "metadata": {},
   "outputs": [],
   "source": []
  },
  {
   "cell_type": "code",
   "execution_count": null,
   "metadata": {},
   "outputs": [],
   "source": []
  },
  {
   "cell_type": "code",
   "execution_count": null,
   "metadata": {},
   "outputs": [],
   "source": []
  },
  {
   "cell_type": "code",
   "execution_count": null,
   "metadata": {},
   "outputs": [],
   "source": []
  },
  {
   "cell_type": "code",
   "execution_count": null,
   "metadata": {},
   "outputs": [],
   "source": []
  },
  {
   "cell_type": "code",
   "execution_count": null,
   "metadata": {},
   "outputs": [],
   "source": []
  }
 ],
 "metadata": {
  "kernelspec": {
   "display_name": "Python 3",
   "language": "python",
   "name": "python3"
  },
  "language_info": {
   "codemirror_mode": {
    "name": "ipython",
    "version": 3
   },
   "file_extension": ".py",
   "mimetype": "text/x-python",
   "name": "python",
   "nbconvert_exporter": "python",
   "pygments_lexer": "ipython3",
   "version": "3.7.6"
  }
 },
 "nbformat": 4,
 "nbformat_minor": 4
}
