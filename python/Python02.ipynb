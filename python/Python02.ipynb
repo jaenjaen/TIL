{
 "cells": [
  {
   "cell_type": "markdown",
   "metadata": {},
   "source": [
    "## 문자열\n",
    "### 인덱싱, 슬라이싱"
   ]
  },
  {
   "cell_type": "code",
   "execution_count": 1,
   "metadata": {},
   "outputs": [
    {
     "name": "stdout",
     "output_type": "stream",
     "text": [
      "20180522\n",
      "Rainy\n",
      "1\n"
     ]
    }
   ],
   "source": [
    "#PDF page 2 -40\n",
    "que = '20180522Rainy'\n",
    "date = que[:8]\n",
    "weather = que[8:]\n",
    "print(date)\n",
    "print(weather)\n",
    "\n",
    "pin = '881120-1064533'\n",
    "gender = pin[7]\n",
    "print(gender)"
   ]
  },
  {
   "cell_type": "code",
   "execution_count": 2,
   "metadata": {},
   "outputs": [
    {
     "name": "stdout",
     "output_type": "stream",
     "text": [
      "['기생충', ' 야구소녀', ' 1987', ' 킹덤', ' 낙원의밤', ' 아이언맨', ' 어벤저스']\n",
      "기생충 야구소녀 1987 킹덤 낙원의밤 아이언맨 어벤저스\n"
     ]
    }
   ],
   "source": [
    "#split()함수와 join()함수의 사용 방법\n",
    "#split()을 통해 쪼개어진 문자열들은 list형태로 반환\n",
    "#join()은 특정한 구분자로 나누어져있는 list자료형을 하나의 문자열로 만들어서 반환\n",
    "\n",
    "movies=\"기생충, 야구소녀, 1987, 킹덤, 낙원의밤, 아이언맨, 어벤저스\"\n",
    "movieL = movies.split(\",\")\n",
    "print(movieL)\n",
    "movie = '' #여기에 조인하면서 구분할 표식 넣어주면 그걸 기준으로 문자열이 조인됨\n",
    "movie =movie.join(movieL)\n",
    "print(movie)"
   ]
  },
  {
   "cell_type": "markdown",
   "metadata": {},
   "source": [
    "## 리스트 생성, 수정, 삭제, 추가"
   ]
  },
  {
   "cell_type": "code",
   "execution_count": 3,
   "metadata": {},
   "outputs": [],
   "source": [
    "#1. 리스트 생성\n",
    "myList = [2,5,3,10,4]\n",
    "myList1 = []\n",
    "myList2 = list()\n",
    "\n",
    "myList1.extend(myList) #확장 가능"
   ]
  },
  {
   "cell_type": "code",
   "execution_count": 4,
   "metadata": {},
   "outputs": [
    {
     "data": {
      "text/plain": [
       "[2, 5, 3, -10, 4]"
      ]
     },
     "execution_count": 4,
     "metadata": {},
     "output_type": "execute_result"
    }
   ],
   "source": [
    "#2. 리스트 수정\n",
    "myList[3] = -10\n",
    "myList"
   ]
  },
  {
   "cell_type": "code",
   "execution_count": 5,
   "metadata": {},
   "outputs": [
    {
     "data": {
      "text/plain": [
       "[2, 5, 3, -10, 4]"
      ]
     },
     "execution_count": 5,
     "metadata": {},
     "output_type": "execute_result"
    }
   ],
   "source": [
    "#3. 리스트 추가 append(),insert()\n",
    "#myList.append(100) # 리스트 맨 마지막에 추가\n",
    "#myList.insert(len(myList),-100) #리스트의 원하는 위치에 값 삽입\n",
    "\n",
    "#myList.insert(-1,777) #맨뒤에 바로 앞에 삽입됨\n",
    "#myList.insert(len(myList),888)#맨뒤에 삽입하고 싶으면 len써서 삽입\n",
    "myList"
   ]
  },
  {
   "cell_type": "code",
   "execution_count": 6,
   "metadata": {},
   "outputs": [],
   "source": [
    "#4. 삭제하기\n",
    "'''\n",
    "del: idx삭제\n",
    "remove: 삭제할 값을 직접 입력\n",
    "pop: 맨 마지막 값을 삭제한 후 그 값을 return\n",
    "'''\n",
    "#del myList[3]\n",
    "#del myList[4:7]\n",
    "\n",
    "#myList.remove(4)\n",
    "a = myList.pop()"
   ]
  },
  {
   "cell_type": "code",
   "execution_count": 7,
   "metadata": {},
   "outputs": [
    {
     "name": "stdout",
     "output_type": "stream",
     "text": [
      "[2, 5, 3, -10]\n",
      "4\n"
     ]
    }
   ],
   "source": [
    "print(myList)\n",
    "print(a)"
   ]
  },
  {
   "cell_type": "code",
   "execution_count": 8,
   "metadata": {},
   "outputs": [
    {
     "data": {
      "text/plain": [
       "[2, [10, 20, 30], 3, -10]"
      ]
     },
     "execution_count": 8,
     "metadata": {},
     "output_type": "execute_result"
    }
   ],
   "source": [
    "yourList = [10,20,30]\n",
    "myList[1] = yourList\n",
    "myList"
   ]
  },
  {
   "cell_type": "code",
   "execution_count": 9,
   "metadata": {},
   "outputs": [
    {
     "name": "stdout",
     "output_type": "stream",
     "text": [
      "[2, 3]\n",
      "[1, 2, 3]\n",
      "[5, 6, 7, 8]\n",
      "[6, 7, 8]\n",
      "[8, 7, 6, 5, 4, 3, 2, 1]\n"
     ]
    }
   ],
   "source": [
    "myList = [1,2,3,4,5,6,7,8]\n",
    "\n",
    "# 슬라이싱을 써서 직접 작성\n",
    "#1. 2,3을 return\n",
    "print(myList[1:3])\n",
    "\n",
    "#2. 1,2,3출력\n",
    "print(myList[:3])\n",
    "\n",
    "#3. 5,6,7,8 출력\n",
    "print(myList[-4:])\n",
    "\n",
    "#4. 6,7,8 출력\n",
    "print(myList[-3:])\n",
    "\n",
    "myList.sort(reverse=True)\n",
    "print(myList)"
   ]
  },
  {
   "cell_type": "code",
   "execution_count": 10,
   "metadata": {},
   "outputs": [
    {
     "name": "stdout",
     "output_type": "stream",
     "text": [
      "a\t date\t gender\t movie\t movieL\t movies\t myList\t myList1\t myList2\t \n",
      "pin\t que\t weather\t yourList\t \n"
     ]
    }
   ],
   "source": [
    "'''\n",
    "매직명령어\n",
    "%로 시작함\n",
    "%whos = 지금까지 사용한 객체변수명과 그에 해당하느 간단한 정보를 확인 (타입, 내용)\n",
    "%who = 지금까지 사용한 객체변수명을 리스트로 보여줌\n",
    "'''\n",
    "\n",
    "%who"
   ]
  },
  {
   "cell_type": "code",
   "execution_count": 11,
   "metadata": {},
   "outputs": [
    {
     "data": {
      "text/plain": [
       "'\\n동일한 이름의 변수 선언시 메모리에서 찾는 순서\\n1) 로컬변수 로컬영역에 저장 ->1\\n2) 전역변수 전역영역에 저장 -> 2\\n3) 내장변수는 내장변수영역에 저장 -> 마지막\\n->함수명과 객체변수명을 동일한 이름으로 사용하지 말것\\n-> 사용했다면? restart 해줘서 이전 메모리를 지우고 다시 올림\\nshift+enter를 통해서 처음부터 내려오면서 실행시킬 수 있음\\n'"
      ]
     },
     "execution_count": 11,
     "metadata": {},
     "output_type": "execute_result"
    }
   ],
   "source": [
    "'''\n",
    "동일한 이름의 변수 선언시 메모리에서 찾는 순서\n",
    "1) 로컬변수 로컬영역에 저장 ->1\n",
    "2) 전역변수 전역영역에 저장 -> 2\n",
    "3) 내장변수는 내장변수영역에 저장 -> 마지막\n",
    "->함수명과 객체변수명을 동일한 이름으로 사용하지 말것\n",
    "-> 사용했다면? restart 해줘서 이전 메모리를 지우고 다시 올림\n",
    "shift+enter를 통해서 처음부터 내려오면서 실행시킬 수 있음\n",
    "아니면 >> 눌러서 리스타트+리런\n",
    "'''"
   ]
  },
  {
   "cell_type": "code",
   "execution_count": 12,
   "metadata": {},
   "outputs": [
    {
     "name": "stdout",
     "output_type": "stream",
     "text": [
      "['a', 'b', 'c', 'd']\n"
     ]
    }
   ],
   "source": [
    "aaL = list('abcd') #내장영역\n",
    "print(aaL)\n",
    "# list = [3,4,5] #전역영역\n",
    "# print(list)"
   ]
  },
  {
   "cell_type": "markdown",
   "metadata": {},
   "source": [
    "### 문제2\n",
    "(2-51)"
   ]
  },
  {
   "cell_type": "code",
   "execution_count": 38,
   "metadata": {},
   "outputs": [
    {
     "data": {
      "text/plain": [
       "[2, 4, 5, 3, 1]"
      ]
     },
     "execution_count": 38,
     "metadata": {},
     "output_type": "execute_result"
    }
   ],
   "source": [
    "arr = [1,3,5,4,2]\n",
    "# arr1 = arr[-1:-6:-1]\n",
    "arr1 = arr[::-1]\n",
    "arr1"
   ]
  },
  {
   "cell_type": "markdown",
   "metadata": {},
   "source": [
    "### 문제3\n",
    "(2-52)"
   ]
  },
  {
   "cell_type": "code",
   "execution_count": 41,
   "metadata": {},
   "outputs": [
    {
     "name": "stdout",
     "output_type": "stream",
     "text": [
      "\u001b[1mPython is too interesting\n"
     ]
    }
   ],
   "source": [
    "strArr = ['Python','is','too','interesting']\n",
    "str1 =\" \"\n",
    "str2 = str1.join(strArr)\n",
    "print('\\033[1m'+str2)"
   ]
  },
  {
   "cell_type": "code",
   "execution_count": null,
   "metadata": {},
   "outputs": [],
   "source": []
  },
  {
   "cell_type": "code",
   "execution_count": null,
   "metadata": {},
   "outputs": [],
   "source": []
  },
  {
   "cell_type": "code",
   "execution_count": null,
   "metadata": {},
   "outputs": [],
   "source": []
  },
  {
   "cell_type": "code",
   "execution_count": null,
   "metadata": {},
   "outputs": [],
   "source": []
  }
 ],
 "metadata": {
  "kernelspec": {
   "display_name": "Python 3",
   "language": "python",
   "name": "python3"
  },
  "language_info": {
   "codemirror_mode": {
    "name": "ipython",
    "version": 3
   },
   "file_extension": ".py",
   "mimetype": "text/x-python",
   "name": "python",
   "nbconvert_exporter": "python",
   "pygments_lexer": "ipython3",
   "version": "3.7.6"
  }
 },
 "nbformat": 4,
 "nbformat_minor": 4
}
