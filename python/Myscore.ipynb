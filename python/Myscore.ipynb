{
 "cells": [
  {
   "cell_type": "code",
   "execution_count": null,
   "metadata": {},
   "outputs": [],
   "source": [
    "'''\n",
    "MyScore는 5개의 함수를 가지고 있는 모듈\n",
    "모듈은 반드시 확장자가 py로 끝나야한다.\n",
    "\n",
    "- py확장자로 바꾸는 법\n",
    "1) File>Download as > Python py 선택\n",
    "2) 매직명령어 %%writefile (실행 후 python 파일이 만들어짐)\n",
    "\n",
    "참고로 %% 매직명령어는 무조건 코드의 첫부분에 나와야한다.\n",
    "'''"
   ]
  },
  {
   "cell_type": "code",
   "execution_count": 3,
   "metadata": {},
   "outputs": [
    {
     "name": "stdout",
     "output_type": "stream",
     "text": [
      "Writing MyScore.py\n"
     ]
    }
   ],
   "source": [
    "%%writefile MyScore.py\n",
    "def getSum(data):\n",
    "    result = 0\n",
    "    for i in data:\n",
    "        result+=i\n",
    "    return result\n",
    "\n",
    "def getMean(data):\n",
    "    return getSum(data)//len(data)\n",
    "\n",
    "def getMax(data):\n",
    "    maxD = data[0]\n",
    "    for d in data[1:]:\n",
    "        if maxD < d:\n",
    "            maxD = d\n",
    "    return maxD\n",
    "\n",
    "def getMin(data):\n",
    "    minD = data[0]\n",
    "    for d in data[1:]:\n",
    "        if minD > d:\n",
    "            minD = d\n",
    "    return minD\n",
    "\n",
    "def getTwoSum(num2,num1=1): #num1이 큰 값이 왔을 때\n",
    "    total=0\n",
    "    if num1>num2:\n",
    "        num1,num2 = num2,num1\n",
    "    for i in range(num1, num2+1):\n",
    "        total +=i\n",
    "    return total"
   ]
  },
  {
   "cell_type": "code",
   "execution_count": null,
   "metadata": {},
   "outputs": [],
   "source": []
  },
  {
   "cell_type": "code",
   "execution_count": null,
   "metadata": {},
   "outputs": [],
   "source": []
  },
  {
   "cell_type": "code",
   "execution_count": null,
   "metadata": {},
   "outputs": [],
   "source": []
  },
  {
   "cell_type": "code",
   "execution_count": null,
   "metadata": {},
   "outputs": [],
   "source": []
  },
  {
   "cell_type": "code",
   "execution_count": null,
   "metadata": {},
   "outputs": [],
   "source": []
  }
 ],
 "metadata": {
  "kernelspec": {
   "display_name": "Python 3",
   "language": "python",
   "name": "python3"
  },
  "language_info": {
   "codemirror_mode": {
    "name": "ipython",
    "version": 3
   },
   "file_extension": ".py",
   "mimetype": "text/x-python",
   "name": "python",
   "nbconvert_exporter": "python",
   "pygments_lexer": "ipython3",
   "version": "3.7.6"
  }
 },
 "nbformat": 4,
 "nbformat_minor": 4
}
