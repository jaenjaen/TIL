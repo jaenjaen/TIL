{
 "cells": [
  {
   "cell_type": "code",
   "execution_count": 2,
   "metadata": {},
   "outputs": [
    {
     "name": "stdout",
     "output_type": "stream",
     "text": [
      "10\n",
      "10\n",
      "******************************\n",
      "리스트 144\n",
      "튜플 128\n"
     ]
    }
   ],
   "source": [
    "tu = (10,20,30,40,50,60,70,80,90,100)\n",
    "li = [10,20,30,40,50,60,70,80,90,100]\n",
    "import sys\n",
    "print(len(tu))\n",
    "print(len(li))\n",
    "print('*'*30)\n",
    "print('리스트',sys.getsizeof(li))\n",
    "print('튜플',sys.getsizeof(tu))"
   ]
  },
  {
   "cell_type": "code",
   "execution_count": 3,
   "metadata": {
    "collapsed": true
   },
   "outputs": [
    {
     "ename": "TypeError",
     "evalue": "'tuple' object does not support item assignment",
     "output_type": "error",
     "traceback": [
      "\u001b[1;31m---------------------------------------------------------------------------\u001b[0m",
      "\u001b[1;31mTypeError\u001b[0m                                 Traceback (most recent call last)",
      "\u001b[1;32m<ipython-input-3-88f628e025ce>\u001b[0m in \u001b[0;36m<module>\u001b[1;34m\u001b[0m\n\u001b[1;32m----> 1\u001b[1;33m \u001b[0mtu\u001b[0m\u001b[1;33m[\u001b[0m\u001b[1;36m3\u001b[0m\u001b[1;33m]\u001b[0m \u001b[1;33m=\u001b[0m \u001b[1;36m77\u001b[0m\u001b[1;33m\u001b[0m\u001b[1;33m\u001b[0m\u001b[0m\n\u001b[0m",
      "\u001b[1;31mTypeError\u001b[0m: 'tuple' object does not support item assignment"
     ]
    }
   ],
   "source": [
    "#tu[3] = 77 \n",
    "# tuple은 변경 삭제 안됨"
   ]
  },
  {
   "cell_type": "markdown",
   "metadata": {},
   "source": [
    "### Dictionary"
   ]
  },
  {
   "cell_type": "code",
   "execution_count": 5,
   "metadata": {},
   "outputs": [
    {
     "name": "stdout",
     "output_type": "stream",
     "text": [
      "{'name': 'DRAM', 'capa': '2GB', 'maker': 'SK-H', 'price': 320000}\n"
     ]
    }
   ],
   "source": [
    "#1. 생성하기\n",
    "proDic = {'name':'DRAM','capa':'2GB','maker':'SK-H','price':320000}\n",
    "print(proDic)"
   ]
  },
  {
   "cell_type": "code",
   "execution_count": 9,
   "metadata": {},
   "outputs": [
    {
     "name": "stdout",
     "output_type": "stream",
     "text": [
      "DRAM\n",
      "DRAM\n"
     ]
    }
   ],
   "source": [
    "#2. 데이터추출\n",
    "'''\n",
    "리스트, 튜플은 데이터 요소를 출력할 때\n",
    "인덱싱이나 슬라이싱 기법을 사용해서 데이터를 추출\n",
    "\n",
    "딕셔너리는 안됨 == 인덱싱 안됨 == 순서없음\n",
    "\n",
    "딕셔너리 데이터 추출방법?\n",
    "key를 이용하여 값을 추출\n",
    "'''\n",
    "\n",
    "print(proDic['name'])\n",
    "print(proDic.get('name'))\n",
    "#위아래 동일 방법"
   ]
  },
  {
   "cell_type": "code",
   "execution_count": 11,
   "metadata": {},
   "outputs": [
    {
     "name": "stdout",
     "output_type": "stream",
     "text": [
      "{'name': 'DRAM', 'capa': '2GB', 'maker': 'SK-H', 'price': 230000}\n"
     ]
    }
   ],
   "source": [
    "#3. 데이터수정\n",
    "proDic['price']=230000\n",
    "print(proDic)"
   ]
  },
  {
   "cell_type": "code",
   "execution_count": 12,
   "metadata": {},
   "outputs": [
    {
     "name": "stdout",
     "output_type": "stream",
     "text": [
      "{'name': 'DRAM', 'capa': '2GB', 'maker': 'SK-H', 'price': 230000, 'loc': '이천', 'pop': 300000}\n"
     ]
    }
   ],
   "source": [
    "#4. 데이터 추가하기, 수정하기\n",
    "addInfo = {'loc':'이천','pop':300000}\n",
    "proDic.update(addInfo)\n",
    "print(proDic)"
   ]
  },
  {
   "cell_type": "code",
   "execution_count": 15,
   "metadata": {},
   "outputs": [
    {
     "name": "stdout",
     "output_type": "stream",
     "text": [
      "{'name': 'DRAM', 'capa': '2GB', 'maker': 'SK-H', 'price': 230000, 'loc': '이천'}\n"
     ]
    }
   ],
   "source": [
    "#5.삭제하기 : del dic[키이름]\n",
    "#del dic[3] 같은건 안됨 왜냐면 인덱싱X\n",
    "del proDic['pop']\n",
    "print(proDic)"
   ]
  },
  {
   "cell_type": "code",
   "execution_count": 17,
   "metadata": {
    "collapsed": true
   },
   "outputs": [
    {
     "data": {
      "text/plain": [
       "'\\n딕셔너리 다룰 때 주의사항\\n값은 중복이 되지만, 키는 중복이 안됨\\n키값이 중복된다면 나중에 추가된 키의 값으로 overwrite됨\\n에러 없음\\n'"
      ]
     },
     "execution_count": 17,
     "metadata": {},
     "output_type": "execute_result"
    }
   ],
   "source": [
    "'''\n",
    "딕셔너리 다룰 때 주의사항\n",
    "값은 중복이 되지만, 키는 중복이 안됨\n",
    "키값이 중복된다면 나중에 추가된 키의 값으로 overwrite됨\n",
    "에러 없음\n",
    "\n",
    "딕셔너리에서 리스트는 키로 올 수 없음\n",
    "그러나 튜플은 가능\n",
    "\n",
    "키는 유니크해야하기 때문에 변경이 불가한 튜플이 가능한 것임\n",
    "'''"
   ]
  },
  {
   "cell_type": "code",
   "execution_count": 20,
   "metadata": {},
   "outputs": [
    {
     "data": {
      "text/plain": [
       "{(1, 2): 'hi'}"
      ]
     },
     "execution_count": 20,
     "metadata": {},
     "output_type": "execute_result"
    }
   ],
   "source": [
    "a = {1:'a',1:'b'}\n",
    "\n",
    "# bb = {[1,2]:'hi'}\n",
    "# bb 안됨\n",
    "\n",
    "c={(1,2):'hi'}\n",
    "c"
   ]
  },
  {
   "cell_type": "markdown",
   "metadata": {},
   "source": [
    "### 딕셔너리에서 함수 사용하기"
   ]
  },
  {
   "cell_type": "code",
   "execution_count": 21,
   "metadata": {},
   "outputs": [
    {
     "data": {
      "text/plain": [
       "{'name': 'Rose', 'age': '24', 'addr': 'seoul', 'phone': '01000000000'}"
      ]
     },
     "execution_count": 21,
     "metadata": {},
     "output_type": "execute_result"
    }
   ],
   "source": [
    "dic={'name':'Rose','age':'24','addr':'seoul','phone':'01000000000'}\n",
    "dic"
   ]
  },
  {
   "cell_type": "code",
   "execution_count": 31,
   "metadata": {},
   "outputs": [
    {
     "name": "stdout",
     "output_type": "stream",
     "text": [
      "['name', 'age', 'addr', 'phone']\n"
     ]
    }
   ],
   "source": [
    "#1. key(), values()\n",
    "keys = dic.keys() #dict_keys타입\n",
    "values = dic.values()#dict_values타입\n",
    "print(list(keys)) #list타입 변환\n",
    "\n",
    "'''\n",
    "dict_keys 객체는 리스트를 사용하는 것과 차이가 있다.\n",
    "그렇기 때문에 리스트 고유의 함수를 수행할 수 없다.\n",
    "append(), insert(), pop(), remove(),sort()\n",
    "for문과 연결...\n",
    "'''"
   ]
  },
  {
   "cell_type": "code",
   "execution_count": 32,
   "metadata": {},
   "outputs": [
    {
     "name": "stdout",
     "output_type": "stream",
     "text": [
      "name\n",
      "age\n",
      "addr\n",
      "phone\n",
      "******************************\n",
      "Rose\n",
      "24\n",
      "seoul\n",
      "01000000000\n",
      "******************************\n"
     ]
    }
   ],
   "source": [
    "for k in dic.keys():\n",
    "    print(k)\n",
    "print('*'*30)\n",
    "for v in dic.values():\n",
    "    print(v)\n",
    "print('*'*30)"
   ]
  },
  {
   "cell_type": "code",
   "execution_count": 34,
   "metadata": {},
   "outputs": [
    {
     "name": "stdout",
     "output_type": "stream",
     "text": [
      "name age addr phone "
     ]
    }
   ],
   "source": [
    "#name age address phone\n",
    "for k in dic.keys():\n",
    "    print(k,end=\" \")"
   ]
  },
  {
   "cell_type": "code",
   "execution_count": 36,
   "metadata": {},
   "outputs": [
    {
     "name": "stdout",
     "output_type": "stream",
     "text": [
      "dict_items([('name', 'Rose'), ('age', '24'), ('addr', 'seoul'), ('phone', '01000000000')])\n"
     ]
    }
   ],
   "source": [
    "#2. key,value 모두 가지고 올때 items씀\n",
    "dic_item = dic.items()\n",
    "print(dic_item) #key와 Value를 쌍으로 묶은 튜플을 반환함"
   ]
  },
  {
   "cell_type": "code",
   "execution_count": 41,
   "metadata": {},
   "outputs": [
    {
     "name": "stdout",
     "output_type": "stream",
     "text": [
      "seoul\n",
      "seoul\n",
      "None\n"
     ]
    }
   ],
   "source": [
    "#3. key로 밸류 얻기 get.\n",
    "dic.get('name')\n",
    "\n",
    "\n",
    "'''\n",
    "None출력되는 경우\n",
    "1) 반환값 없는 함수를 print()안에 적용시킨경우 sort()/리턴값있음 - sorted()\n",
    "2) 딕셔너리에 존재하지 않는 키 값을 받아올때\n",
    "'''\n",
    "\n",
    "print(dic.get('addr'))\n",
    "print(dic['addr'])\n",
    "#print(dic['love'])에러\n",
    "#pint(dic.get('love')) NONE뜸"
   ]
  },
  {
   "cell_type": "code",
   "execution_count": 42,
   "metadata": {},
   "outputs": [
    {
     "data": {
      "text/plain": [
       "True"
      ]
     },
     "execution_count": 42,
     "metadata": {},
     "output_type": "execute_result"
    }
   ],
   "source": [
    "'name' in dic"
   ]
  },
  {
   "cell_type": "markdown",
   "metadata": {},
   "source": [
    "## set"
   ]
  },
  {
   "cell_type": "code",
   "execution_count": 43,
   "metadata": {
    "collapsed": true
   },
   "outputs": [
    {
     "data": {
      "text/plain": [
       "'\\n중복을 허용하지 않는다.\\n순서 없음\\n\\n리스트나 튜플은 순서가 있기 때문에 인덱싱을 통해서 데이터를 추출할 수 있지만\\nset은 인덱싱으로 데이터 추출 안됨\\n\\n만약 set에 저장된 값을 인덱싱, 슬라이싱으로 핸들링하고자 한다면,\\n리스트 혹은 튜플로 자료형을 변환하여야 함.\\n'"
      ]
     },
     "execution_count": 43,
     "metadata": {},
     "output_type": "execute_result"
    }
   ],
   "source": [
    "'''\n",
    "중복을 허용하지 않는다.\n",
    "순서 없음\n",
    "\n",
    "리스트나 튜플은 순서가 있기 때문에 인덱싱을 통해서 데이터를 추출할 수 있지만\n",
    "set은 인덱싱으로 데이터 추출 안됨\n",
    "\n",
    "만약 set에 저장된 값을 인덱싱, 슬라이싱으로 핸들링하고자 한다면,\n",
    "리스트 혹은 튜플로 자료형을 변환하여야 함.\n",
    "'''"
   ]
  },
  {
   "cell_type": "code",
   "execution_count": 45,
   "metadata": {},
   "outputs": [
    {
     "data": {
      "text/plain": [
       "{'a', 'b', 'c'}"
      ]
     },
     "execution_count": 45,
     "metadata": {},
     "output_type": "execute_result"
    }
   ],
   "source": [
    "mySet = {'a','b','c','a','b'}\n",
    "mySet"
   ]
  },
  {
   "cell_type": "code",
   "execution_count": 49,
   "metadata": {},
   "outputs": [
    {
     "name": "stdout",
     "output_type": "stream",
     "text": [
      "[1, 1, 2, 2, 2, 3, 4, 3, 3, 5, 6, 6, 5, 7, 8, 2]\n",
      "{1, 2, 3, 4, 5, 6, 7, 8}\n",
      "[1, 2, 3, 4, 5, 6, 7, 8]\n",
      "[8, 7, 6, 5, 4, 3, 2, 1]\n"
     ]
    }
   ],
   "source": [
    "'''\n",
    " 중복을 허용하지 않는 set의 특징은 다른 자료형에 담긴 데이터의 중복을 제거하기 위한\n",
    " 필터역할을 매우 자주한다.\n",
    "'''\n",
    "a = [1,1,2,2,2,3,4,3,3,5,6,6,5,7,8,2]\n",
    "print(a)\n",
    "\n",
    "setData = set(a)\n",
    "print(setData)\n",
    "\n",
    "listData = list(setData)\n",
    "print(listData)"
   ]
  },
  {
   "cell_type": "code",
   "execution_count": 50,
   "metadata": {},
   "outputs": [
    {
     "name": "stdout",
     "output_type": "stream",
     "text": [
      "[8, 7, 6, 5, 4, 3, 2, 1]\n",
      "******************************\n",
      "[8, 7, 6, 5, 4, 3, 2, 1]\n"
     ]
    }
   ],
   "source": [
    "#sort() 반환값없음 print하면 none\n",
    "#sorted()반환값있음 print하면 출력됨\n",
    "\n",
    "listData.sort(reverse=True)\n",
    "print(listData)\n",
    "print('*'*30)\n",
    "\n",
    "print(sorted(listData, reverse=True))"
   ]
  },
  {
   "cell_type": "code",
   "execution_count": 51,
   "metadata": {},
   "outputs": [
    {
     "name": "stdout",
     "output_type": "stream",
     "text": [
      "Variable   Type           Data/Info\n",
      "-----------------------------------\n",
      "a          list           n=16\n",
      "addInfo    dict           n=2\n",
      "c          dict           n=1\n",
      "dic        dict           n=4\n",
      "dic_item   dict_items     dict_items([('name', 'Ros<...>'phone', '01000000000')])\n",
      "k          str            phone\n",
      "keys       dict_keys      dict_keys(['name', 'age', 'addr', 'phone'])\n",
      "li         list           n=10\n",
      "listData   list           n=8\n",
      "mySet      set            {'a', 'c', 'b'}\n",
      "proDic     dict           n=5\n",
      "setData    set            {1, 2, 3, 4, 5, 6, 7, 8}\n",
      "sys        module         <module 'sys' (built-in)>\n",
      "tu         tuple          n=10\n",
      "v          str            01000000000\n",
      "values     dict_values    dict_values(['Rose', '24'<...> 'seoul', '01000000000'])\n"
     ]
    }
   ],
   "source": [
    "%whos"
   ]
  },
  {
   "cell_type": "markdown",
   "metadata": {},
   "source": [
    "### SET 관련함수"
   ]
  },
  {
   "cell_type": "code",
   "execution_count": 62,
   "metadata": {},
   "outputs": [
    {
     "data": {
      "text/plain": [
       "{1, 2, 3, 4, 5, 6, 7}"
      ]
     },
     "execution_count": 62,
     "metadata": {},
     "output_type": "execute_result"
    }
   ],
   "source": [
    "#1. 추가\n",
    "setData.add(9)\n",
    "setData\n",
    "\n",
    "s1 = set([1,2,3])\n",
    "s1.add(4)\n",
    "\n",
    "s1.add(5)\n",
    "s1.add(6)\n",
    "s1.add(7)\n",
    "s1"
   ]
  },
  {
   "cell_type": "code",
   "execution_count": 68,
   "metadata": {},
   "outputs": [
    {
     "data": {
      "text/plain": [
       "{1, 2, 3, 4, 5, 6, 7, 8, 9, 10, 11}"
      ]
     },
     "execution_count": 68,
     "metadata": {},
     "output_type": "execute_result"
    }
   ],
   "source": [
    "#2. 값 여러개 추가 update() int형 추가 안됨 list형같은 것들만 됨 \n",
    "\n",
    "s2 = {4,5,6}\n",
    "s1.update(s2)\n",
    "\n",
    "s1.update([10,11])\n",
    "s1"
   ]
  },
  {
   "cell_type": "code",
   "execution_count": null,
   "metadata": {},
   "outputs": [],
   "source": []
  },
  {
   "cell_type": "code",
   "execution_count": null,
   "metadata": {},
   "outputs": [],
   "source": []
  },
  {
   "cell_type": "code",
   "execution_count": null,
   "metadata": {},
   "outputs": [],
   "source": []
  },
  {
   "cell_type": "code",
   "execution_count": null,
   "metadata": {},
   "outputs": [],
   "source": []
  },
  {
   "cell_type": "code",
   "execution_count": null,
   "metadata": {},
   "outputs": [],
   "source": []
  }
 ],
 "metadata": {
  "kernelspec": {
   "display_name": "Python 3",
   "language": "python",
   "name": "python3"
  },
  "language_info": {
   "codemirror_mode": {
    "name": "ipython",
    "version": 3
   },
   "file_extension": ".py",
   "mimetype": "text/x-python",
   "name": "python",
   "nbconvert_exporter": "python",
   "pygments_lexer": "ipython3",
   "version": "3.7.6"
  }
 },
 "nbformat": 4,
 "nbformat_minor": 4
}
