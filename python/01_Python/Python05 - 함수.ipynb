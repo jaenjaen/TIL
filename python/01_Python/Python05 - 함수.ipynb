{
 "cells": [
  {
   "cell_type": "markdown",
   "metadata": {},
   "source": [
    "### 함수"
   ]
  },
  {
   "cell_type": "code",
   "execution_count": 1,
   "metadata": {},
   "outputs": [
    {
     "name": "stdout",
     "output_type": "stream",
     "text": [
      "안녕쟈긔\n"
     ]
    }
   ],
   "source": [
    "'''\n",
    "머신러닝, 딥러닝을 하다보면, 함수를 정의해서 사용해야하는 경우가 많다.\n",
    "\n",
    "1. 기본문법\n",
    "def 함수이름(매개변수):\n",
    "    \"\"\"\n",
    "        docstring:함수 기능에 대한 설명\n",
    "    \"\"\"\n",
    "    <수행할문장>\n",
    "    return 리턴값\n",
    "\n",
    "중요)2. 함수를 만드는 4가지 방법\n",
    "        - 위치 매개변수\n",
    "        - 기본 매개변수\n",
    "        - 키워드 매개변수\n",
    "        - 가변 매개변수\n",
    "'''"
   ]
  },
  {
   "cell_type": "code",
   "execution_count": 6,
   "metadata": {},
   "outputs": [],
   "source": [
    "# 1. 위치 매개변수\n",
    "# 가장 기본적인 인자값을 전달하는 방식, 함수에서 정의한 위치대로\n",
    "# 순서를 제대로 안쓰면 다른값이 출력 됨.\n",
    "\n",
    "def calc(n1,n2):\n",
    "    '''\n",
    "    인자 값으로 받은 n1,n2\n",
    "    두값을 더해서 리턴\n",
    "    '''\n",
    "    return n1+n2"
   ]
  },
  {
   "cell_type": "code",
   "execution_count": 4,
   "metadata": {},
   "outputs": [
    {
     "name": "stdout",
     "output_type": "stream",
     "text": [
      "8\n"
     ]
    }
   ],
   "source": [
    "print(calc(3,5))"
   ]
  },
  {
   "cell_type": "code",
   "execution_count": 8,
   "metadata": {},
   "outputs": [],
   "source": [
    "#calc? 함수에 대한 설명\n",
    "#calc?? Source가 어떻게 만들었는지 노출됨"
   ]
  },
  {
   "cell_type": "code",
   "execution_count": 9,
   "metadata": {},
   "outputs": [],
   "source": [
    "#리턴값이 없는 경우\n",
    "def add(a,b):\n",
    "    print(\"%d와 %d의 합은 %d입니다.\"%(a,b,a+b))"
   ]
  },
  {
   "cell_type": "code",
   "execution_count": 11,
   "metadata": {},
   "outputs": [
    {
     "name": "stdout",
     "output_type": "stream",
     "text": [
      "1와 3의 합은 4입니다.\n",
      "809와 707의 합은 1516입니다.\n"
     ]
    }
   ],
   "source": [
    "add(1,3)\n",
    "add(809,707)"
   ]
  },
  {
   "cell_type": "code",
   "execution_count": 12,
   "metadata": {},
   "outputs": [],
   "source": [
    "#2. 기본 매개변수\n",
    "'''\n",
    "기본적인 값을 내포하고있기 때문에\n",
    "값을 써주면 써준 값이 사용되지만,\n",
    "쓰지 않는 경우 default값이 사용됨.\n",
    "기본 매개변수 뒤에는 일반(위치)매개변수를 사용할 수 없다.\n",
    "'''\n",
    "\n",
    "# import random\n",
    "# com = random.randrange?\n",
    "\n"
   ]
  },
  {
   "cell_type": "code",
   "execution_count": 15,
   "metadata": {},
   "outputs": [
    {
     "name": "stdout",
     "output_type": "stream",
     "text": [
      "3\n",
      "3\n"
     ]
    }
   ],
   "source": [
    "def calc2(n1,start=0):\n",
    "    total = 0\n",
    "    \n",
    "    for i in range(start,n1):\n",
    "        total += i\n",
    "    return total\n",
    "\n",
    "print(calc2(3,1))\n",
    "print(calc2(3))"
   ]
  },
  {
   "cell_type": "code",
   "execution_count": 19,
   "metadata": {},
   "outputs": [],
   "source": [
    "'''\n",
    "pandas의 read_csv()를 살펴보면\n",
    "위치 매개변수보다 기본 매개변수를 더 많이 사용함.\n",
    "'''\n",
    "\n",
    "# import pandas as pd\n",
    "# from pandas import DataFrame #안해줘도 되는데 이거 안하면 pd.datafram이런식으로 사용해야함(귀찮으니까)\n",
    "\n",
    "# pd.read_csv?"
   ]
  },
  {
   "cell_type": "code",
   "execution_count": 22,
   "metadata": {},
   "outputs": [
    {
     "name": "stdout",
     "output_type": "stream",
     "text": [
      "나의 이름은 이재은 이고, 나이는 345 , 체중은 123457 입니다.\n",
      "나의 이름은 김뫄뫄 이고, 나이는 999 , 체중은 1234 입니다.\n"
     ]
    }
   ],
   "source": [
    "#3. 키워드 매개변수: 키워드 매개변수간의 순서 상관 없이 직접 매개변수를 지정해서 찾아감 (위치 매개변수 앞에 올 수 없음 무조건 앞)\n",
    "# 약간 생성자 같은 변수임.\n",
    "\n",
    "def calc2(name,age,weight):\n",
    "    print('나의 이름은',name,'이고, 나이는',age,', 체중은',weight,'입니다.')\n",
    "\n",
    "calc2('이재은',345,123457)#위치매개변수\n",
    "calc2(age=999,name='김뫄뫄',weight=1234) #키워드 매개변수"
   ]
  },
  {
   "cell_type": "code",
   "execution_count": 30,
   "metadata": {},
   "outputs": [
    {
     "data": {
      "text/html": [
       "<div>\n",
       "<style scoped>\n",
       "    .dataframe tbody tr th:only-of-type {\n",
       "        vertical-align: middle;\n",
       "    }\n",
       "\n",
       "    .dataframe tbody tr th {\n",
       "        vertical-align: top;\n",
       "    }\n",
       "\n",
       "    .dataframe thead th {\n",
       "        text-align: right;\n",
       "    }\n",
       "</style>\n",
       "<table border=\"1\" class=\"dataframe\">\n",
       "  <thead>\n",
       "    <tr style=\"text-align: right;\">\n",
       "      <th></th>\n",
       "      <th>e</th>\n",
       "      <th>f</th>\n",
       "      <th>g</th>\n",
       "      <th>h</th>\n",
       "    </tr>\n",
       "  </thead>\n",
       "  <tbody>\n",
       "    <tr>\n",
       "      <th>a</th>\n",
       "      <td>0.147762</td>\n",
       "      <td>-0.873714</td>\n",
       "      <td>-0.114113</td>\n",
       "      <td>0.745423</td>\n",
       "    </tr>\n",
       "    <tr>\n",
       "      <th>b</th>\n",
       "      <td>-0.947341</td>\n",
       "      <td>1.461468</td>\n",
       "      <td>-0.326167</td>\n",
       "      <td>-0.610865</td>\n",
       "    </tr>\n",
       "    <tr>\n",
       "      <th>c</th>\n",
       "      <td>0.192784</td>\n",
       "      <td>-0.139443</td>\n",
       "      <td>-0.031095</td>\n",
       "      <td>0.260601</td>\n",
       "    </tr>\n",
       "    <tr>\n",
       "      <th>d</th>\n",
       "      <td>1.020257</td>\n",
       "      <td>0.344018</td>\n",
       "      <td>-0.626301</td>\n",
       "      <td>-2.036362</td>\n",
       "    </tr>\n",
       "  </tbody>\n",
       "</table>\n",
       "</div>"
      ],
      "text/plain": [
       "          e         f         g         h\n",
       "a  0.147762 -0.873714 -0.114113  0.745423\n",
       "b -0.947341  1.461468 -0.326167 -0.610865\n",
       "c  0.192784 -0.139443 -0.031095  0.260601\n",
       "d  1.020257  0.344018 -0.626301 -2.036362"
      ]
     },
     "execution_count": 30,
     "metadata": {},
     "output_type": "execute_result"
    }
   ],
   "source": [
    "#키워드 매개변수의 예\n",
    "import numpy as np\n",
    "import pandas as pd\n",
    "from pandas import DataFrame\n",
    "\n",
    "#random한 값을 가지는 표 생성 index,culum을 설정하지 않으면 자동으로 0부터 정수가 붙음\n",
    "df1 = DataFrame(np.random.randn(4,4),\n",
    "               index = list('abcd'),\n",
    "                columns= list('efgh'))\n",
    "df1"
   ]
  },
  {
   "cell_type": "code",
   "execution_count": 31,
   "metadata": {},
   "outputs": [
    {
     "name": "stdout",
     "output_type": "stream",
     "text": [
      "(3, 4, 5)\n",
      "(3,)\n"
     ]
    }
   ],
   "source": [
    "#4. 가변매개변수 : 인자값이 몇개인지 모르는 상황에서 사용한다\n",
    "# 파이썬에서의 print()\n",
    "# 위치 매개변수와 달리 변수명 앞에 *이 붙는다.\n",
    "# 위치 매개변수 앞에 사용할 수 없고 단 하나만 사용이 가능하다.\n",
    "\n",
    "def calc3(*args):\n",
    "    print(args)\n",
    "\n",
    "#값이 튜플로 출력된다.\n",
    "calc3(3,4,5)\n",
    "calc3(3)"
   ]
  },
  {
   "cell_type": "code",
   "execution_count": 37,
   "metadata": {},
   "outputs": [
    {
     "name": "stdout",
     "output_type": "stream",
     "text": [
      "{'name': 'TITI', 'age': 19, 'addr': 'NY'}\n"
     ]
    }
   ],
   "source": [
    "def calc4(**args2):\n",
    "    print(args2)\n",
    "\n",
    "#calc4(31) error! \n",
    "# **일때는 딕셔너리타으로 인자값이 들어가야함.\n",
    "\n",
    "calc4(name='TITI',age=19,addr=\"NY\")"
   ]
  },
  {
   "cell_type": "code",
   "execution_count": 40,
   "metadata": {},
   "outputs": [
    {
     "name": "stdout",
     "output_type": "stream",
     "text": [
      "Bibi : (1, 2, 3, 4)\n"
     ]
    }
   ],
   "source": [
    "# def calc5(*args,name):\n",
    "#     print(name,':',args)\n",
    "\n",
    "# calc5('hidy','bibi') #위치 매개변수 앞엔 위치 매개변수만 놓일 수 있음.\n",
    "\n",
    "def calc5(name,*args):\n",
    "    print(name,':',args)\n",
    "calc5(\"Bibi\",1,2,3,4)"
   ]
  },
  {
   "cell_type": "markdown",
   "metadata": {},
   "source": [
    "### 문제1. 위치매개변수와 가변매개변수의 사용\n",
    "- 가변매개변수와 위치매개변수를 사용해서 3,6,9가 출력 되도록 함수를 정의\n",
    "- 이때 위치매개변수에는 인자값 3을 넣어서 호출 / for문을 사용"
   ]
  },
  {
   "cell_type": "code",
   "execution_count": 42,
   "metadata": {},
   "outputs": [
    {
     "name": "stdout",
     "output_type": "stream",
     "text": [
      "3\n",
      "6\n",
      "9\n"
     ]
    }
   ],
   "source": [
    "def value_times(times,*sn):\n",
    "    for i in sn:\n",
    "        print(times*i)\n",
    "\n",
    "value_times(3,1,2,3)"
   ]
  },
  {
   "cell_type": "markdown",
   "metadata": {},
   "source": [
    "### 문제2. 가변매개변수와 기본 매개변수\n",
    "- "
   ]
  },
  {
   "cell_type": "code",
   "execution_count": 43,
   "metadata": {},
   "outputs": [],
   "source": [
    "def value_times(*values, times=2): \n",
    "    for v in values:\n",
    "        print(times*v)"
   ]
  },
  {
   "cell_type": "code",
   "execution_count": 46,
   "metadata": {},
   "outputs": [
    {
     "name": "stdout",
     "output_type": "stream",
     "text": [
      "5\n",
      "10\n",
      "15\n",
      "20\n",
      "******************************\n",
      "2\n",
      "4\n",
      "6\n",
      "8\n"
     ]
    }
   ],
   "source": [
    "value_times(1,2,3,4,times=5)\n",
    "print('*'*30)\n",
    "value_times(1,2,3,4)"
   ]
  },
  {
   "cell_type": "code",
   "execution_count": 48,
   "metadata": {},
   "outputs": [
    {
     "name": "stdout",
     "output_type": "stream",
     "text": [
      "2\n",
      "3\n"
     ]
    }
   ],
   "source": [
    "def value_times2(times=2,*values):\n",
    "    for v in values:\n",
    "        print(times*v)\n",
    "\n",
    "value_times2(1,2,3)"
   ]
  },
  {
   "cell_type": "markdown",
   "metadata": {},
   "source": [
    "###  custom 함수 정의하기\n",
    "- python이 제공하는 함수는 사용하지 않고 아래와 같은 기능을 실행할 수 있는 함수 5개를 정의\n",
    "- getSum(data) :  전달받은 데이터의 합을 구해서 return하는 기능\n",
    "- getMean(data) : 전달받은 데이터의 평균 return\n",
    "- getMax(data):  최대값\n",
    "- getMin(data): 최소값\n",
    "- getTwoSum(num2, num1 = 1) : 두수합 리턴"
   ]
  },
  {
   "cell_type": "code",
   "execution_count": 79,
   "metadata": {},
   "outputs": [],
   "source": [
    "def getSum(data):\n",
    "    result = 0\n",
    "    for i in data:\n",
    "        result+=i\n",
    "    return result\n",
    "\n",
    "def getMean(data):\n",
    "    return getSum(data)//len(data)\n",
    "\n",
    "def getMax(data):\n",
    "    maxD = data[0]\n",
    "    for d in data[1:]:\n",
    "        if maxD < d:\n",
    "            maxD = d\n",
    "    return maxD\n",
    "\n",
    "def getMin(data):\n",
    "    minD = data[0]\n",
    "    for d in data[1:]:\n",
    "        if minD > d:\n",
    "            minD = d\n",
    "    return minD\n",
    "\n",
    "def getTwoSum(num2,num1=1): #num1이 큰 값이 왔을 때\n",
    "    total=0\n",
    "    if num1>num2:\n",
    "        num1,num2 = num2,num1\n",
    "    for i in range(num1, num2+1):\n",
    "        total +=i\n",
    "    return total"
   ]
  },
  {
   "cell_type": "code",
   "execution_count": 75,
   "metadata": {},
   "outputs": [
    {
     "name": "stdout",
     "output_type": "stream",
     "text": [
      "25\n",
      "20\n"
     ]
    }
   ],
   "source": [
    "print(getTwoSum(3,7))\n",
    "print(getMax([1,4,7,2,8,9,11,20]))"
   ]
  },
  {
   "cell_type": "code",
   "execution_count": 81,
   "metadata": {},
   "outputs": [
    {
     "name": "stdout",
     "output_type": "stream",
     "text": [
      "값 입력: \n"
     ]
    },
    {
     "ename": "ValueError",
     "evalue": "invalid literal for int() with base 10: ''",
     "output_type": "error",
     "traceback": [
      "\u001b[1;31m---------------------------------------------------------------------------\u001b[0m",
      "\u001b[1;31mValueError\u001b[0m                                Traceback (most recent call last)",
      "\u001b[1;32m<ipython-input-81-3ba67237e318>\u001b[0m in \u001b[0;36m<module>\u001b[1;34m\u001b[0m\n\u001b[0;32m      3\u001b[0m \u001b[0mdataL\u001b[0m\u001b[1;33m\u001b[0m\u001b[1;33m\u001b[0m\u001b[0m\n\u001b[0;32m      4\u001b[0m \u001b[1;33m\u001b[0m\u001b[0m\n\u001b[1;32m----> 5\u001b[1;33m \u001b[0mintData\u001b[0m \u001b[1;33m=\u001b[0m \u001b[1;33m[\u001b[0m\u001b[0mint\u001b[0m\u001b[1;33m(\u001b[0m\u001b[0mi\u001b[0m\u001b[1;33m)\u001b[0m \u001b[1;32mfor\u001b[0m \u001b[0mi\u001b[0m \u001b[1;32min\u001b[0m \u001b[0mdataL\u001b[0m\u001b[1;33m]\u001b[0m\u001b[1;33m\u001b[0m\u001b[1;33m\u001b[0m\u001b[0m\n\u001b[0m\u001b[0;32m      6\u001b[0m \u001b[1;33m\u001b[0m\u001b[0m\n\u001b[0;32m      7\u001b[0m \u001b[1;31m#함수 호출\u001b[0m\u001b[1;33m\u001b[0m\u001b[1;33m\u001b[0m\u001b[1;33m\u001b[0m\u001b[0m\n",
      "\u001b[1;32m<ipython-input-81-3ba67237e318>\u001b[0m in \u001b[0;36m<listcomp>\u001b[1;34m(.0)\u001b[0m\n\u001b[0;32m      3\u001b[0m \u001b[0mdataL\u001b[0m\u001b[1;33m\u001b[0m\u001b[1;33m\u001b[0m\u001b[0m\n\u001b[0;32m      4\u001b[0m \u001b[1;33m\u001b[0m\u001b[0m\n\u001b[1;32m----> 5\u001b[1;33m \u001b[0mintData\u001b[0m \u001b[1;33m=\u001b[0m \u001b[1;33m[\u001b[0m\u001b[0mint\u001b[0m\u001b[1;33m(\u001b[0m\u001b[0mi\u001b[0m\u001b[1;33m)\u001b[0m \u001b[1;32mfor\u001b[0m \u001b[0mi\u001b[0m \u001b[1;32min\u001b[0m \u001b[0mdataL\u001b[0m\u001b[1;33m]\u001b[0m\u001b[1;33m\u001b[0m\u001b[1;33m\u001b[0m\u001b[0m\n\u001b[0m\u001b[0;32m      6\u001b[0m \u001b[1;33m\u001b[0m\u001b[0m\n\u001b[0;32m      7\u001b[0m \u001b[1;31m#함수 호출\u001b[0m\u001b[1;33m\u001b[0m\u001b[1;33m\u001b[0m\u001b[1;33m\u001b[0m\u001b[0m\n",
      "\u001b[1;31mValueError\u001b[0m: invalid literal for int() with base 10: ''"
     ]
    }
   ],
   "source": [
    "#값 입력\n",
    "dataL = input(\"값 입력: \").split(' ')\n",
    "dataL\n",
    "\n",
    "intData = [int(i) for i in dataL]\n",
    "\n",
    "#함수 호출\n",
    "print(\"합:\",getSum(intData))\n",
    "print(\"평균:\",getMean(intData))\n",
    "print(\"최대:\",getMin(intData))\n",
    "print(\"최소:\",getMax(intData))\n",
    "print(\"getTwoSum:\", getTwoSum(5,2))\n",
    "print(\"getTwoSum:\", getTwoSum(4))\n",
    "print(\"getTwoSum:\", getTwoSum(2,5))"
   ]
  }
 ],
 "metadata": {
  "kernelspec": {
   "display_name": "Python 3",
   "language": "python",
   "name": "python3"
  },
  "language_info": {
   "codemirror_mode": {
    "name": "ipython",
    "version": 3
   },
   "file_extension": ".py",
   "mimetype": "text/x-python",
   "name": "python",
   "nbconvert_exporter": "python",
   "pygments_lexer": "ipython3",
   "version": "3.7.6"
  }
 },
 "nbformat": 4,
 "nbformat_minor": 4
}
