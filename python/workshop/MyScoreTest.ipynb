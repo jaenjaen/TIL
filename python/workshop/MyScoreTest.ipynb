{
 "cells": [
  {
   "cell_type": "code",
   "execution_count": 1,
   "metadata": {},
   "outputs": [],
   "source": [
    "from MyScore  import getSum,getMean,getMax,getMin,getTwoSum #메모리에 올라가서 바로 import 가능\n"
   ]
  },
  {
   "cell_type": "code",
   "execution_count": 7,
   "metadata": {},
   "outputs": [
    {
     "name": "stdout",
     "output_type": "stream",
     "text": [
      "값 입력: 37 48 22 55 94 10 22 4 1 58 8 9 2\n",
      "합: 370\n",
      "평균: 28\n",
      "최대: 1\n",
      "최소: 94\n",
      "getTwoSum: 14\n",
      "getTwoSum: 10\n",
      "getTwoSum: 14\n"
     ]
    }
   ],
   "source": [
    "#값 입력\n",
    "dataL = input(\"값 입력: \").split(' ')\n",
    "dataL\n",
    "\n",
    "# intData = [int(i) for i in dataL]\n",
    "intData = list(map(int,dataL))\n",
    "\n",
    "#함수 호출\n",
    "print(\"합:\",getSum(intData))\n",
    "print(\"평균:\",getMean(intData))\n",
    "print(\"최대:\",getMin(intData))\n",
    "print(\"최소:\",getMax(intData))\n",
    "print(\"getTwoSum:\", getTwoSum(5,2))\n",
    "print(\"getTwoSum:\", getTwoSum(4))\n",
    "print(\"getTwoSum:\", getTwoSum(2,5))"
   ]
  }
 ],
 "metadata": {
  "kernelspec": {
   "display_name": "Python 3",
   "language": "python",
   "name": "python3"
  },
  "language_info": {
   "codemirror_mode": {
    "name": "ipython",
    "version": 3
   },
   "file_extension": ".py",
   "mimetype": "text/x-python",
   "name": "python",
   "nbconvert_exporter": "python",
   "pygments_lexer": "ipython3",
   "version": "3.7.6"
  }
 },
 "nbformat": 4,
 "nbformat_minor": 4
}
