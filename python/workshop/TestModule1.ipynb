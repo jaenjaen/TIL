{
 "cells": [
  {
   "cell_type": "code",
   "execution_count": 1,
   "metadata": {},
   "outputs": [],
   "source": [
    "from myGame import makeLotto,meanGrade"
   ]
  },
  {
   "cell_type": "code",
   "execution_count": 3,
   "metadata": {},
   "outputs": [
    {
     "name": "stdout",
     "output_type": "stream",
     "text": [
      "실행할 함수를 선택해주세요\n",
      "1. makeLotto\n",
      "2. meanGrade\n",
      "2\n",
      "성적을 입력하여주세요: \n",
      "성적간 구분은 ,로 합니다.A,A,A,A,A\n",
      "4.0\n"
     ]
    }
   ],
   "source": [
    "select = int(input(\"실행할 함수를 선택해주세요\\n1. makeLotto\\n2. meanGrade\\n\"))\n",
    "\n",
    "if select == 1:\n",
    "    games = int(input(\"로또 몇게임을 진행할까요?\"))\n",
    "    makeLotto(games)\n",
    "    \n",
    "elif select == 2:\n",
    "    grades = input(\"성적을 입력하여주세요: \\n성적간 구분은 ,로 합니다.\").split(\",\")\n",
    "    print(meanGrade(grades))\n",
    "else:\n",
    "    print(\"해당 숫자는 사용할 수 없습니다.\")"
   ]
  }
 ],
 "metadata": {
  "kernelspec": {
   "display_name": "Python 3",
   "language": "python",
   "name": "python3"
  },
  "language_info": {
   "codemirror_mode": {
    "name": "ipython",
    "version": 3
   },
   "file_extension": ".py",
   "mimetype": "text/x-python",
   "name": "python",
   "nbconvert_exporter": "python",
   "pygments_lexer": "ipython3",
   "version": "3.7.6"
  }
 },
 "nbformat": 4,
 "nbformat_minor": 4
}
