{
 "cells": [
  {
   "cell_type": "markdown",
   "metadata": {},
   "source": [
    "## 선형회귀(Linear Regression) - 심화"
   ]
  },
  {
   "cell_type": "markdown",
   "metadata": {},
   "source": [
    "#### Linear Regression을 활용하여 섭씨온도(C, Celsius)를 화씨온도(F, Fahrenheit)로 변환해주는 공식을 만들수 있다. \n",
    "섭씨온도과 화씨온도의 관계는 앞에서 우리가 살펴보았던 선형회귀의 관계를 가지고 있다.\n",
    "#### H(x) = aX + b 에서처럼, F = C*1.8 +32 \n",
    "이때, 1.8과 32라는 값을 모르고 있다고 가정하고, 머신러닝 알고리즘을 이용해서 주어진 섭씨 온도와 화씨온도 데이타 만으로 이 값들을 찾아내는 실습을 진행해보도록 하겠다.\n",
    "Chain Rule 증명 ----> 구글 검색 하면 여기에 사용되는 증명 공식들,,미분, 편미분..공식들이 나온다.참조바람"
   ]
  },
  {
   "cell_type": "markdown",
   "metadata": {},
   "source": [
    "### Configuration (or prerequisite)"
   ]
  },
  {
   "cell_type": "code",
   "execution_count": 1,
   "metadata": {},
   "outputs": [],
   "source": [
    "%matplotlib inline\n",
    "import numpy as np\n",
    "import pandas as pd\n",
    "import matplotlib.pyplot as plt"
   ]
  },
  {
   "cell_type": "markdown",
   "metadata": {},
   "source": [
    "### Generate Dataset"
   ]
  },
  {
   "cell_type": "markdown",
   "metadata": {},
   "source": [
    "#### 선형회귀 문제를 다루기 위한 학습용 데이타셋을 생성\n",
    "0도에서 100도 사이의 값을 갖는 섭씨온도 데이타를 100개 만들어보자\n",
    "이 데이타가 해당 머신러닝 알고리즘에서 사실상 Feature가 될 것이다."
   ]
  },
  {
   "cell_type": "markdown",
   "metadata": {},
   "source": [
    "### 섭씨온도 데이타에 상응하는 화씨온도를 생성\n",
    "#### 우리가 알고있던 기존의 섭씨-화씨변환 공식을 적용해서 위 섭씨온도 데이타에 대응하는 화씨온도 데이타를 생성. \n",
    "이 데이타가 오늘 다룰 학습 모델 알고리즘의 Label이 될 것이다."
   ]
  },
  {
   "cell_type": "code",
   "execution_count": 2,
   "metadata": {},
   "outputs": [],
   "source": [
    "C = np.random.randint(low= 1,high= 101,size= 100)\n"
   ]
  },
  {
   "cell_type": "code",
   "execution_count": 3,
   "metadata": {},
   "outputs": [
    {
     "name": "stdout",
     "output_type": "stream",
     "text": [
      "(100,)\n"
     ]
    },
    {
     "data": {
      "text/plain": [
       "array([25,  3, 12,  1, 26, 12, 59, 90, 79, 55])"
      ]
     },
     "execution_count": 3,
     "metadata": {},
     "output_type": "execute_result"
    }
   ],
   "source": [
    "print(C.shape)\n",
    "C[:10]"
   ]
  },
  {
   "cell_type": "markdown",
   "metadata": {},
   "source": [
    "#### 섭씨 온도에 대응하는 화씨온도 만들기\n",
    "    - 우리가 알고있는 기존의 섭씨 - 화씨 변환공식을 적용하기 위해서 화씨 온도를 생성\n",
    "    - 이 데이터가 오늘 다룰 학습 모델의 라벨이 된다."
   ]
  },
  {
   "cell_type": "code",
   "execution_count": 4,
   "metadata": {},
   "outputs": [
    {
     "data": {
      "text/plain": [
       "array([ 77. ,  37.4,  53.6,  33.8,  78.8,  53.6, 138.2, 194. , 174.2,\n",
       "       131. , 113. , 159.8, 104. , 177.8,  68. ,  73.4, 149. , 118.4,\n",
       "       122. ,  53.6, 102.2, 120.2, 183.2, 206.6, 174.2, 150.8, 186.8,\n",
       "       113. ,  48.2, 201.2, 136.4, 190.4, 183.2, 152.6,  75.2, 177.8,\n",
       "       102.2, 107.6, 199.4, 192.2, 183.2,  46.4,  68. , 174.2,  51.8,\n",
       "       197.6,  35.6, 113. , 140. ,  44.6,  48.2, 147.2,  51.8,  62.6,\n",
       "       158. , 154.4, 125.6,  91.4, 105.8, 203. ,  89.6,  77. ,  73.4,\n",
       "        93.2,  82.4,  44.6,  51.8, 203. ,  82.4,  98.6, 185. , 127.4,\n",
       "        57.2, 107.6,  41. , 165.2,  77. ,  89.6, 107.6, 141.8, 185. ,\n",
       "       194. , 190.4,  96.8, 168.8, 181.4, 203. , 204.8, 181.4,  98.6,\n",
       "       113. , 206.6, 190.4, 132.8,  86. , 185. , 105.8, 120.2,  71.6,\n",
       "        87.8])"
      ]
     },
     "execution_count": 4,
     "metadata": {},
     "output_type": "execute_result"
    }
   ],
   "source": [
    "F = C*1.8+32\n",
    "F"
   ]
  },
  {
   "cell_type": "code",
   "execution_count": 5,
   "metadata": {},
   "outputs": [
    {
     "name": "stdout",
     "output_type": "stream",
     "text": [
      "(100,)\n"
     ]
    },
    {
     "data": {
      "text/plain": [
       "array([ 77. ,  37.4,  53.6,  33.8,  78.8,  53.6, 138.2, 194. , 174.2,\n",
       "       131. ])"
      ]
     },
     "execution_count": 5,
     "metadata": {},
     "output_type": "execute_result"
    }
   ],
   "source": [
    "print(F.shape)\n",
    "F[:10]"
   ]
  },
  {
   "cell_type": "markdown",
   "metadata": {},
   "source": [
    "### Visualization\n",
    "    - 위에서 만든 Feature와 Label을 직관적으로 확인할 수 있는 선형을 그림"
   ]
  },
  {
   "cell_type": "code",
   "execution_count": 6,
   "metadata": {},
   "outputs": [
    {
     "data": {
      "image/png": "[encoded data removed]",
      "text/plain": [
       "<Figure size 432x288 with 1 Axes>"
      ]
     },
     "metadata": {
      "needs_background": "light"
     },
     "output_type": "display_data"
    }
   ],
   "source": [
    "plt. scatter(C,F)\n",
    "plt.xlabel('Celsius')\n",
    "plt.ylabel('Fahrenheit')\n",
    "plt.show()"
   ]
  },
  {
   "cell_type": "markdown",
   "metadata": {},
   "source": [
    "### Bias (편향 찾기) -- Weight는 1.8"
   ]
  },
  {
   "cell_type": "markdown",
   "metadata": {},
   "source": [
    "#### Weight는 1.8로 주고 Bias를 직관적으로 한번 찾아보겠다."
   ]
  },
  {
   "cell_type": "code",
   "execution_count": 7,
   "metadata": {},
   "outputs": [],
   "source": [
    "X = C\n",
    "y = F #라벨이라 small case"
   ]
  },
  {
   "cell_type": "code",
   "execution_count": 8,
   "metadata": {},
   "outputs": [
    {
     "name": "stdout",
     "output_type": "stream",
     "text": [
      "1.8 0.9922909314859267\n"
     ]
    }
   ],
   "source": [
    "w=1.8\n",
    "b = np.random.uniform(low=-1.0,high= 1.0)\n",
    "\n",
    "print(w,b)"
   ]
  },
  {
   "cell_type": "code",
   "execution_count": 9,
   "metadata": {},
   "outputs": [
    {
     "data": {
      "text/plain": [
       "array([ 45.99229093,   6.39229093,  22.59229093,   2.79229093,\n",
       "        47.79229093,  22.59229093, 107.19229093, 162.99229093,\n",
       "       143.19229093,  99.99229093])"
      ]
     },
     "execution_count": 9,
     "metadata": {},
     "output_type": "execute_result"
    }
   ],
   "source": [
    "y_predict = w*X+b\n",
    "y_predict[:10]"
   ]
  },
  {
   "cell_type": "code",
   "execution_count": 10,
   "metadata": {},
   "outputs": [
    {
     "data": {
      "image/png": "[encoded data removed]",
      "text/plain": [
       "<Figure size 432x288 with 1 Axes>"
      ]
     },
     "metadata": {
      "needs_background": "light"
     },
     "output_type": "display_data"
    }
   ],
   "source": [
    "plt.scatter(C,F)\n",
    "plt.plot(C,y_predict,c='red')\n",
    "plt.show() # bias때문에 오차생김."
   ]
  },
  {
   "cell_type": "markdown",
   "metadata": {},
   "source": [
    "#### Bias 보정"
   ]
  },
  {
   "cell_type": "code",
   "execution_count": 11,
   "metadata": {},
   "outputs": [
    {
     "data": {
      "text/plain": [
       "31.999999999999993"
      ]
     },
     "execution_count": 11,
     "metadata": {},
     "output_type": "execute_result"
    }
   ],
   "source": [
    "b = b - (y_predict - y).mean() # b-=(y_predict - y).mean()\n",
    "b"
   ]
  },
  {
   "cell_type": "markdown",
   "metadata": {},
   "source": [
    "### 새로운 예측"
   ]
  },
  {
   "cell_type": "code",
   "execution_count": 12,
   "metadata": {},
   "outputs": [
    {
     "data": {
      "text/plain": [
       "array([ 77. ,  37.4,  53.6,  33.8,  78.8,  53.6, 138.2, 194. , 174.2,\n",
       "       131. ])"
      ]
     },
     "execution_count": 12,
     "metadata": {},
     "output_type": "execute_result"
    }
   ],
   "source": [
    "y_predict = w * X + b\n",
    "y_predict[:10]"
   ]
  },
  {
   "cell_type": "code",
   "execution_count": 13,
   "metadata": {},
   "outputs": [
    {
     "data": {
      "image/png": "[encoded data removed]",
      "text/plain": [
       "<Figure size 432x288 with 1 Axes>"
      ]
     },
     "metadata": {
      "needs_background": "light"
     },
     "output_type": "display_data"
    }
   ],
   "source": [
    "plt.scatter(C,F)\n",
    "plt.plot(C,y_predict,c='red')\n",
    "plt.show() # bias때문에 오차생김."
   ]
  },
  {
   "cell_type": "markdown",
   "metadata": {},
   "source": [
    "### 정규분포에 해당하는 weight, bias 값을 랜덤하게 초기화\n",
    "    - 실제값과 예측한 결과 값 사이에 오차가 발생할 것이다.\n",
    "    - 오차를 줄여가야함. loss Function이 0에 가까워져야함."
   ]
  },
  {
   "cell_type": "code",
   "execution_count": 14,
   "metadata": {},
   "outputs": [
    {
     "data": {
      "text/plain": [
       "(-0.3215775172686699, 0.3134832591669592)"
      ]
     },
     "execution_count": 14,
     "metadata": {},
     "output_type": "execute_result"
    }
   ],
   "source": [
    "w = np.random.uniform(-1,1) #uniform 정규분포에 의거하여 랜덤하게 값을 추출\n",
    "b = np.random.uniform(-1,1)\n",
    "\n",
    "w,b"
   ]
  },
  {
   "cell_type": "code",
   "execution_count": 15,
   "metadata": {},
   "outputs": [
    {
     "data": {
      "text/plain": [
       "array([-7.72595467e+00, -6.51249293e-01, -3.54544695e+00, -8.09425810e-03,\n",
       "       -8.04753219e+00, -3.54544695e+00, -1.86595903e+01, -2.86284933e+01,\n",
       "       -2.50911406e+01, -1.73732802e+01])"
      ]
     },
     "execution_count": 15,
     "metadata": {},
     "output_type": "execute_result"
    }
   ],
   "source": [
    "y_predict = w*X+b\n",
    "y_predict[:10]"
   ]
  },
  {
   "cell_type": "code",
   "execution_count": 16,
   "metadata": {},
   "outputs": [
    {
     "data": {
      "image/png": "[encoded data removed]",
      "text/plain": [
       "<Figure size 432x288 with 1 Axes>"
      ]
     },
     "metadata": {
      "needs_background": "light"
     },
     "output_type": "display_data"
    }
   ],
   "source": [
    "plt.scatter(C,F)\n",
    "plt.plot(C,y_predict,c='red')\n",
    "plt.show() "
   ]
  },
  {
   "cell_type": "markdown",
   "metadata": {},
   "source": [
    "### Gradient Descent"
   ]
  },
  {
   "cell_type": "markdown",
   "metadata": {},
   "source": [
    "### 가중치(Weight, W), 편향(Bias, B) 찾기\n",
    "#### 이제 경사하강법(Gradient Descent)을 사용하여 섭씨온도를 화씨온도로 변환해줄 주 있는 공식을 찾아보겠다.\n",
    "공식의 세부내용은 모른다치고, 두 변수(X,y)가 선형(Linear)과 관계있음을 가정(y=X * w + b)하여 가중치(weight)와 편차(bias)를 정의해 둔다. 그리고 경사하강법을 이용해서 선형회귀를 학습시킨다.\n",
    "학습이 완료되면, 얻어진 최적의 가중치와 편차로 섭씨온도를 화씨온도로 변환해주는 공식을 만들어 줄수 있다.\n",
    "학습은 모든 epoch이 끝날 때까지 반복할 수도 있지만, 여기선 오차(error)가 0.1 이하가 되면 학습을 종료하도록 한다."
   ]
  },
  {
   "cell_type": "markdown",
   "metadata": {},
   "source": [
    "### Predict"
   ]
  },
  {
   "cell_type": "code",
   "execution_count": 22,
   "metadata": {},
   "outputs": [
    {
     "name": "stdout",
     "output_type": "stream",
     "text": [
      "    0 w=2.351, b=0.698, error=161.833\n",
      "10000 w=2.017, b=17.312, error=6.314\n",
      "20000 w=1.902, b=25.108, error=2.963\n",
      "30000 w=1.848, b=28.766, error=1.390\n",
      "40000 w=1.822, b=30.483, error=0.652\n",
      "50000 w=1.811, b=31.288, error=0.306\n",
      "60000 w=1.805, b=31.666, error=0.144\n",
      "****************************************************************************************** 자고싶다\n",
      "64782 w=1.803, b=31.767, error=0.100\n"
     ]
    }
   ],
   "source": [
    "num_epoch=100000#학습 횟수\n",
    "learning_rate = 0.0003 #학습 속도 작을수록 weight와 b값이 미세하게 조정됨(학습시간 오래걸림,최적의 값을 찾을 수 있음)\n",
    "w = np.random.uniform(-1,1)\n",
    "b = np.random.uniform(-1,1)\n",
    "\n",
    "for epoch in range(num_epoch):\n",
    "    y_predict = w*X+b\n",
    "    \n",
    "    \n",
    "    #현재 오차를 구함\n",
    "    #(y_predict - y)**2\n",
    "    error = np.abs(y_predict - y).mean()\n",
    "    \n",
    "    if error <0.1:\n",
    "        break \n",
    "    \n",
    "    #w와 b를 보정 미분(편미분) - BackPropagation\n",
    "    #learning_rate * ((y_predict-y)*X).mean()\n",
    "    w -= learning_rate * ((y_predict-y)*X).mean()\n",
    "    b -= learning_rate * (y_predict-y).mean()\n",
    "    \n",
    "    #10000회마다 ephch,w,b,error 출력해 어떤 양상을 띄는지 보여줄것.\n",
    "    if epoch % 10000 == 0:\n",
    "        print(f'{epoch:5} w={w:.3f}, b={b:.3f}, error={error:.3f}')\n",
    "\n",
    "print('***'*30,'자고싶다')\n",
    "print(f'{epoch:5} w={w:.3f}, b={b:.3f}, error={error:.3f}')"
   ]
  },
  {
   "cell_type": "markdown",
   "metadata": {},
   "source": [
    "#### 선형 회귀의 학습이 끝났으면, 이제 이 머신러닝 알고리즘을 활용하여 변환공식을 완성하고, 주어진 섭씨온도를 화씨온도로 변환(혹은 섭씨온도로 화씨온도를 예측)할 수 있습니다. 앞서 만들어준 데이터를 그대로 활용하여 주어진 섭씨온도(C)로 화씨온도를 예측해보겠습니다."
   ]
  },
  {
   "cell_type": "code",
   "execution_count": 23,
   "metadata": {},
   "outputs": [
    {
     "data": {
      "text/plain": [
       "array([ 76.85325483,  37.17768616,  53.40860062,  33.57081628,\n",
       "        78.65668977,  53.40860062, 138.17004278, 194.07652591,\n",
       "       174.23874158, 130.95630302])"
      ]
     },
     "execution_count": 23,
     "metadata": {},
     "output_type": "execute_result"
    }
   ],
   "source": [
    "y_predict = w * C + b\n",
    "y_predict[:10]"
   ]
  },
  {
   "cell_type": "code",
   "execution_count": 24,
   "metadata": {},
   "outputs": [
    {
     "data": {
      "text/html": [
       "<div>\n",
       "<style scoped>\n",
       "    .dataframe tbody tr th:only-of-type {\n",
       "        vertical-align: middle;\n",
       "    }\n",
       "\n",
       "    .dataframe tbody tr th {\n",
       "        vertical-align: top;\n",
       "    }\n",
       "\n",
       "    .dataframe thead th {\n",
       "        text-align: right;\n",
       "    }\n",
       "</style>\n",
       "<table border=\"1\" class=\"dataframe\">\n",
       "  <thead>\n",
       "    <tr style=\"text-align: right;\">\n",
       "      <th></th>\n",
       "      <th>C</th>\n",
       "      <th>F</th>\n",
       "      <th>F(predict)</th>\n",
       "    </tr>\n",
       "  </thead>\n",
       "  <tbody>\n",
       "    <tr>\n",
       "      <th>0</th>\n",
       "      <td>25</td>\n",
       "      <td>77.0</td>\n",
       "      <td>76.853255</td>\n",
       "    </tr>\n",
       "    <tr>\n",
       "      <th>1</th>\n",
       "      <td>3</td>\n",
       "      <td>37.4</td>\n",
       "      <td>37.177686</td>\n",
       "    </tr>\n",
       "    <tr>\n",
       "      <th>2</th>\n",
       "      <td>12</td>\n",
       "      <td>53.6</td>\n",
       "      <td>53.408601</td>\n",
       "    </tr>\n",
       "    <tr>\n",
       "      <th>3</th>\n",
       "      <td>1</td>\n",
       "      <td>33.8</td>\n",
       "      <td>33.570816</td>\n",
       "    </tr>\n",
       "    <tr>\n",
       "      <th>4</th>\n",
       "      <td>26</td>\n",
       "      <td>78.8</td>\n",
       "      <td>78.656690</td>\n",
       "    </tr>\n",
       "    <tr>\n",
       "      <th>5</th>\n",
       "      <td>12</td>\n",
       "      <td>53.6</td>\n",
       "      <td>53.408601</td>\n",
       "    </tr>\n",
       "    <tr>\n",
       "      <th>6</th>\n",
       "      <td>59</td>\n",
       "      <td>138.2</td>\n",
       "      <td>138.170043</td>\n",
       "    </tr>\n",
       "    <tr>\n",
       "      <th>7</th>\n",
       "      <td>90</td>\n",
       "      <td>194.0</td>\n",
       "      <td>194.076526</td>\n",
       "    </tr>\n",
       "    <tr>\n",
       "      <th>8</th>\n",
       "      <td>79</td>\n",
       "      <td>174.2</td>\n",
       "      <td>174.238742</td>\n",
       "    </tr>\n",
       "    <tr>\n",
       "      <th>9</th>\n",
       "      <td>55</td>\n",
       "      <td>131.0</td>\n",
       "      <td>130.956303</td>\n",
       "    </tr>\n",
       "  </tbody>\n",
       "</table>\n",
       "</div>"
      ],
      "text/plain": [
       "    C      F  F(predict)\n",
       "0  25   77.0   76.853255\n",
       "1   3   37.4   37.177686\n",
       "2  12   53.6   53.408601\n",
       "3   1   33.8   33.570816\n",
       "4  26   78.8   78.656690\n",
       "5  12   53.6   53.408601\n",
       "6  59  138.2  138.170043\n",
       "7  90  194.0  194.076526\n",
       "8  79  174.2  174.238742\n",
       "9  55  131.0  130.956303"
      ]
     },
     "execution_count": 24,
     "metadata": {},
     "output_type": "execute_result"
    }
   ],
   "source": [
    "result = pd.DataFrame({'C':C,'F':F,'F(predict)':y_predict})\n",
    "result.head(10)"
   ]
  },
  {
   "cell_type": "code",
   "execution_count": 25,
   "metadata": {},
   "outputs": [
    {
     "data": {
      "image/png": "[encoded data removed]",
      "text/plain": [
       "<Figure size 432x288 with 1 Axes>"
      ]
     },
     "metadata": {
      "needs_background": "light"
     },
     "output_type": "display_data"
    }
   ],
   "source": [
    "plt.scatter(C,F)\n",
    "plt.plot(C,y_predict,c='r')\n",
    "plt.show()"
   ]
  }
 ],
 "metadata": {
  "kernelspec": {
   "display_name": "Python 3",
   "language": "python",
   "name": "python3"
  },
  "language_info": {
   "codemirror_mode": {
    "name": "ipython",
    "version": 3
   },
   "file_extension": ".py",
   "mimetype": "text/x-python",
   "name": "python",
   "nbconvert_exporter": "python",
   "pygments_lexer": "ipython3",
   "version": "3.7.7"
  }
 },
 "nbformat": 4,
 "nbformat_minor": 4
}
