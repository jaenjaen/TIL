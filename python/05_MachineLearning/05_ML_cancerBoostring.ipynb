{
 "cells": [
  {
   "cell_type": "markdown",
   "metadata": {},
   "source": [
    "### GBM(Gradient Boosting Machine)\n",
    "    - DecisionTree -> Ensemble\n",
    "    1) Bagging 알고리즘 -> RandomForest Machine\n",
    "    2) Boosting 알고리즘 -> GradientBoosting Machine\n",
    "    \n",
    "    * Gradient Boost Machine\n",
    "        모델을 합슥하고 결과를 예측. 이때 잘못 예측한 결과에 따라서 데이터(속성,feature)의 가중치를 조절해가면서\n",
    "        학습하는 알고리즘이 구현되어있다. \n",
    "        이때, 속성들의 가중치를 업데이트 하는 방법으로 경사하강법(Gradient Descent)가 사용됨\n",
    "        이때 경사하강법을 사용하려면 편미분이 사용됨\n",
    "        \n",
    "        Gradient Boost Machine에서는 이전에 볼 수 없었던, Hyper Parameter값들도 많이 증가한다.\n",
    "        그 중에 가장 대표적인 Hyper Parameter는 learning_rate(학습 속도를 조절하는 매개변수)이다."
   ]
  },
  {
   "cell_type": "code",
   "execution_count": 1,
   "metadata": {},
   "outputs": [],
   "source": [
    "from sklearn.datasets import load_breast_cancer\n",
    "from sklearn.ensemble import GradientBoostingClassifier\n",
    "from sklearn.model_selection import train_test_split\n",
    "import matplotlib.pyplot as plt\n",
    "import numpy as np"
   ]
  },
  {
   "cell_type": "code",
   "execution_count": 2,
   "metadata": {},
   "outputs": [],
   "source": [
    "cancer = load_breast_cancer()"
   ]
  },
  {
   "cell_type": "code",
   "execution_count": 3,
   "metadata": {},
   "outputs": [],
   "source": [
    "X_train,X_test,y_train,y_test = train_test_split(cancer.data,cancer.target)"
   ]
  },
  {
   "cell_type": "code",
   "execution_count": 10,
   "metadata": {},
   "outputs": [
    {
     "name": "stdout",
     "output_type": "stream",
     "text": [
      "**************************************************\n",
      "Training Data Set Accuracy: 0.990610\n",
      "Test Data Set Accuracy: 0.930070\n"
     ]
    }
   ],
   "source": [
    "# gbc=GradientBoostingClassifier(random_state=0) # 1.0  |  0.93\n",
    "# gbc=GradientBoostingClassifier(random_state=0,max_depth=1) # max_depth=1 - .995  | .930\n",
    "gbc=GradientBoostingClassifier(random_state=0,learning_rate=0.01) # learing_rate=0.01  .990  |  .937\n",
    "\n",
    "gbc.fit(X_train,y_train)\n",
    "\n",
    "print('*'*50)\n",
    "print('Training Data Set Accuracy: {:3f}'.format(gbc.score(X_train,y_train)))\n",
    "print('Test Data Set Accuracy: {:3f}'.format(gbc.score(X_test,y_test)))"
   ]
  },
  {
   "cell_type": "markdown",
   "metadata": {},
   "source": [
    "### Grid Search\n",
    "    - 우리가 지정해준 몇 가지의 잠재적인 파라미터 후보군들의 조합중에서 가장 좋은 조합을 찾아줌\n",
    "    - 일일이 파라미터들을 대입해 가면서 작업하는 부분을 Grid Search가 대신 해줌.\n",
    "    \n",
    "    - 사이언티스트가 지정해준 하이퍼파라미터 후보군의 갯수에 비례하여 처리시간이 늘어나기 때문에 생각보다 매우 긴 시간이 소요됨.\n",
    "    - sklearn.model_selction에 속해있음."
   ]
  },
  {
   "cell_type": "code",
   "execution_count": 11,
   "metadata": {},
   "outputs": [],
   "source": [
    "from sklearn.model_selection import GridSearchCV"
   ]
  },
  {
   "cell_type": "code",
   "execution_count": 12,
   "metadata": {},
   "outputs": [],
   "source": [
    "param_grid={\n",
    "    'n_estimators':[100,150,200,250],\n",
    "    'max_depth':[4,6,9],\n",
    "    'learning_rate':[0.1,0.01,0.001]\n",
    "}"
   ]
  },
  {
   "cell_type": "code",
   "execution_count": 13,
   "metadata": {},
   "outputs": [
    {
     "data": {
      "text/plain": [
       "GridSearchCV(estimator=GradientBoostingClassifier(), n_jobs=-1,\n",
       "             param_grid={'learning_rate': [0.1, 0.01, 0.001],\n",
       "                         'max_depth': [4, 6, 9],\n",
       "                         'n_estimators': [100, 150, 200, 250]})"
      ]
     },
     "execution_count": 13,
     "metadata": {},
     "output_type": "execute_result"
    }
   ],
   "source": [
    "gbmodel = GradientBoostingClassifier()\n",
    "\n",
    "#모델,parameters,사용할 cpu의 개수\n",
    "grid_search = GridSearchCV(gbmodel,\n",
    "                          param_grid,\n",
    "                          n_jobs=-1)\n",
    "\n",
    "grid_search.fit(X_train,y_train)"
   ]
  },
  {
   "cell_type": "code",
   "execution_count": 14,
   "metadata": {},
   "outputs": [
    {
     "data": {
      "text/plain": [
       "{'learning_rate': 0.1, 'max_depth': 4, 'n_estimators': 200}"
      ]
     },
     "execution_count": 14,
     "metadata": {},
     "output_type": "execute_result"
    }
   ],
   "source": [
    "grid_search.best_params_"
   ]
  },
  {
   "cell_type": "markdown",
   "metadata": {},
   "source": [
    "### 새로운 모델 생성"
   ]
  },
  {
   "cell_type": "code",
   "execution_count": 16,
   "metadata": {},
   "outputs": [
    {
     "name": "stdout",
     "output_type": "stream",
     "text": [
      "Train score:  1.0\n",
      "Test Score:  0.9440559440559441\n"
     ]
    }
   ],
   "source": [
    "newmodel = GradientBoostingClassifier(random_state=100,learning_rate=0.1,n_estimators=150)\n",
    "newmodel.fit(X_train,y_train)\n",
    "\n",
    "train_score = newmodel.score(X_train,y_train)\n",
    "test_score = newmodel.score(X_test,y_test)\n",
    "print(\"Train score: \",train_score)\n",
    "print(\"Test Score: \",test_score)"
   ]
  }
 ],
 "metadata": {
  "kernelspec": {
   "display_name": "Python 3",
   "language": "python",
   "name": "python3"
  },
  "language_info": {
   "codemirror_mode": {
    "name": "ipython",
    "version": 3
   },
   "file_extension": ".py",
   "mimetype": "text/x-python",
   "name": "python",
   "nbconvert_exporter": "python",
   "pygments_lexer": "ipython3",
   "version": "3.7.7"
  }
 },
 "nbformat": 4,
 "nbformat_minor": 4
}
