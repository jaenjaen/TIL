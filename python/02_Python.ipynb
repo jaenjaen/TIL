{
 "cells": [
  {
   "cell_type": "markdown",
   "metadata": {},
   "source": [
    "## 문자열\n",
    "### 인덱싱, 슬라이싱"
   ]
  },
  {
   "cell_type": "code",
   "execution_count": 6,
   "metadata": {},
   "outputs": [
    {
     "name": "stdout",
     "output_type": "stream",
     "text": [
      "20180522\n",
      "Rainy\n",
      "1\n"
     ]
    }
   ],
   "source": [
    "#PDF page 2 -40\n",
    "que = '20180522Rainy'\n",
    "date = que[:8]\n",
    "weather = que[8:]\n",
    "print(date)\n",
    "print(weather)\n",
    "\n",
    "pin = '881120-1064533'\n",
    "gender = pin[7]\n",
    "print(gender)"
   ]
  },
  {
   "cell_type": "code",
   "execution_count": 18,
   "metadata": {},
   "outputs": [
    {
     "name": "stdout",
     "output_type": "stream",
     "text": [
      "['기생충', ' 야구소녀', ' 1987', ' 킹덤', ' 낙원의밤', ' 아이언맨', ' 어벤저스']\n",
      "기생충 야구소녀 1987 킹덤 낙원의밤 아이언맨 어벤저스\n"
     ]
    }
   ],
   "source": [
    "#split()함수와 join()함수의 사용 방법\n",
    "#split()을 통해 쪼개어진 문자열들은 list형태로 반환\n",
    "#join()은 특정한 구분자로 나누어져있는 list자료형을 하나의 문자열로 만들어서 반환\n",
    "\n",
    "movies=\"기생충, 야구소녀, 1987, 킹덤, 낙원의밤, 아이언맨, 어벤저스\"\n",
    "movieL = movies.split(\",\")\n",
    "print(movieL)\n",
    "movie = '' #여기에 조인하면서 구분할 표식 넣어주면 그걸 기준으로 문자열이 조인됨\n",
    "movie =movie.join(movieL)\n",
    "print(movie)"
   ]
  },
  {
   "cell_type": "markdown",
   "metadata": {},
   "source": [
    "## 리스트 생성, 수정, 삭제, 추가"
   ]
  },
  {
   "cell_type": "code",
   "execution_count": 56,
   "metadata": {},
   "outputs": [],
   "source": [
    "#1. 리스트 생성\n",
    "myList = [2,5,3,10,4]\n",
    "myList1 = []\n",
    "myList2 = list()\n",
    "\n",
    "myList1.extend(myList) #확장 가능"
   ]
  },
  {
   "cell_type": "code",
   "execution_count": 57,
   "metadata": {},
   "outputs": [
    {
     "data": {
      "text/plain": [
       "[2, 5, 3, -10, 4]"
      ]
     },
     "execution_count": 57,
     "metadata": {},
     "output_type": "execute_result"
    }
   ],
   "source": [
    "#2. 리스트 수정\n",
    "myList[3] = -10\n",
    "myList"
   ]
  },
  {
   "cell_type": "code",
   "execution_count": 58,
   "metadata": {},
   "outputs": [
    {
     "data": {
      "text/plain": [
       "[2, 5, 3, -10, 4, 100, 777, -100, 888]"
      ]
     },
     "execution_count": 58,
     "metadata": {},
     "output_type": "execute_result"
    }
   ],
   "source": [
    "#3. 리스트 추가 append(),insert()\n",
    "#myList.append(100) # 리스트 맨 마지막에 추가\n",
    "#myList.insert(len(myList),-100) #리스트의 원하는 위치에 값 삽입\n",
    "\n",
    "#myList.insert(-1,777) #맨뒤에 바로 앞에 삽입됨\n",
    "#myList.insert(len(myList),888)#맨뒤에 삽입하고 싶으면 len써서 삽입\n",
    "myList"
   ]
  },
  {
   "cell_type": "code",
   "execution_count": 66,
   "metadata": {},
   "outputs": [],
   "source": [
    "#4. 삭제하기\n",
    "'''\n",
    "del: idx삭제\n",
    "remove: 삭제할 값을 직접 입력\n",
    "pop: 맨 마지막 값을 삭제한 후 그 값을 return\n",
    "'''\n",
    "#del myList[3]\n",
    "#del myList[4:7]\n",
    "\n",
    "#myList.remove(4)\n",
    "a = myList.pop()"
   ]
  },
  {
   "cell_type": "code",
   "execution_count": 68,
   "metadata": {},
   "outputs": [
    {
     "name": "stdout",
     "output_type": "stream",
     "text": [
      "[2, 5, 3]\n",
      "888\n"
     ]
    }
   ],
   "source": [
    "print(myList)\n",
    "print(a)"
   ]
  },
  {
   "cell_type": "code",
   "execution_count": 70,
   "metadata": {},
   "outputs": [
    {
     "data": {
      "text/plain": [
       "[2, [10, 20, 30], 3]"
      ]
     },
     "execution_count": 70,
     "metadata": {},
     "output_type": "execute_result"
    }
   ],
   "source": [
    "yourList = [10,20,30]\n",
    "myList[1] = yourList\n",
    "myList"
   ]
  },
  {
   "cell_type": "code",
   "execution_count": 83,
   "metadata": {},
   "outputs": [
    {
     "name": "stdout",
     "output_type": "stream",
     "text": [
      "[2, 3]\n",
      "[1, 2, 3]\n",
      "[5, 6, 7, 8]\n",
      "[6, 7, 8]\n",
      "[8, 7, 6, 5, 4, 3, 2, 1]\n"
     ]
    }
   ],
   "source": [
    "myList = [1,2,3,4,5,6,7,8]\n",
    "\n",
    "# 슬라이싱을 써서 직접 작성\n",
    "#1. 2,3을 return\n",
    "print(myList[1:3])\n",
    "\n",
    "#2. 1,2,3출력\n",
    "print(myList[:3])\n",
    "\n",
    "#3. 5,6,7,8 출력\n",
    "print(myList[-4:])\n",
    "\n",
    "#4. 6,7,8 출력\n",
    "print(myList[-3:])\n",
    "\n",
    "myList.sort(reverse=True)\n",
    "print(myList)"
   ]
  },
  {
   "cell_type": "code",
   "execution_count": null,
   "metadata": {},
   "outputs": [],
   "source": []
  },
  {
   "cell_type": "code",
   "execution_count": null,
   "metadata": {},
   "outputs": [],
   "source": []
  },
  {
   "cell_type": "code",
   "execution_count": null,
   "metadata": {},
   "outputs": [],
   "source": []
  },
  {
   "cell_type": "code",
   "execution_count": null,
   "metadata": {},
   "outputs": [],
   "source": []
  },
  {
   "cell_type": "code",
   "execution_count": null,
   "metadata": {},
   "outputs": [],
   "source": []
  },
  {
   "cell_type": "code",
   "execution_count": null,
   "metadata": {},
   "outputs": [],
   "source": []
  },
  {
   "cell_type": "code",
   "execution_count": null,
   "metadata": {},
   "outputs": [],
   "source": []
  },
  {
   "cell_type": "code",
   "execution_count": null,
   "metadata": {},
   "outputs": [],
   "source": []
  },
  {
   "cell_type": "code",
   "execution_count": null,
   "metadata": {},
   "outputs": [],
   "source": []
  },
  {
   "cell_type": "code",
   "execution_count": null,
   "metadata": {},
   "outputs": [],
   "source": []
  }
 ],
 "metadata": {
  "kernelspec": {
   "display_name": "Python 3",
   "language": "python",
   "name": "python3"
  },
  "language_info": {
   "codemirror_mode": {
    "name": "ipython",
    "version": 3
   },
   "file_extension": ".py",
   "mimetype": "text/x-python",
   "name": "python",
   "nbconvert_exporter": "python",
   "pygments_lexer": "ipython3",
   "version": "3.7.6"
  }
 },
 "nbformat": 4,
 "nbformat_minor": 4
}
