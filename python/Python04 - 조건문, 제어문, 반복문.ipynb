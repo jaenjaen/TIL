{
 "cells": [
  {
   "cell_type": "markdown",
   "metadata": {},
   "source": [
    "### 조건문,제어문(if, elif, else)"
   ]
  },
  {
   "cell_type": "code",
   "execution_count": 2,
   "metadata": {},
   "outputs": [
    {
     "name": "stdout",
     "output_type": "stream",
     "text": [
      "a is 3\n"
     ]
    }
   ],
   "source": [
    "a = 3\n",
    "if a%2 == 0:\n",
    "    print('even')\n",
    "else:\n",
    "    if(a==1):\n",
    "        print('a is 1')\n",
    "    elif(a==3):\n",
    "        print('a is 3')"
   ]
  },
  {
   "cell_type": "code",
   "execution_count": 5,
   "metadata": {},
   "outputs": [
    {
     "name": "stdout",
     "output_type": "stream",
     "text": [
      "성적을 입력하세요: 77\n",
      "C\n"
     ]
    }
   ],
   "source": [
    "#연습문제 2-69p\n",
    "\n",
    "num = int(input(\"성적을 입력하세요: \"))\n",
    "grade = 'D'\n",
    "\n",
    "if num >=90:\n",
    "    grade = 'A'\n",
    "elif num>=80:\n",
    "    grade = 'B'\n",
    "elif num>=70:\n",
    "    grade = 'C'\n",
    "else :\n",
    "    grade = 'D'\n",
    "\n",
    "print(grade)"
   ]
  },
  {
   "cell_type": "markdown",
   "metadata": {},
   "source": [
    "### 반복문(for, while) --- range()"
   ]
  },
  {
   "cell_type": "code",
   "execution_count": 8,
   "metadata": {},
   "outputs": [
    {
     "name": "stdout",
     "output_type": "stream",
     "text": [
      "신비한 동물 사전\n",
      "#살아있다\n",
      "결백\n",
      "기생충\n",
      "아가씨\n",
      "시계태엽오렌지\n",
      "******************************\n",
      "신비한 동물 사전\n",
      "#살아있다\n",
      "결백\n",
      "기생충\n",
      "아가씨\n",
      "시계태엽오렌지\n"
     ]
    }
   ],
   "source": [
    "mov = ['신비한 동물 사전','#살아있다','결백','기생충','아가씨','시계태엽오렌지']\n",
    "\n",
    "for m in mov:\n",
    "    print(m)\n",
    "\n",
    "print('*'*30)\n",
    "\n",
    "for i in range(len(mov)):\n",
    "    print(mov[i])"
   ]
  },
  {
   "cell_type": "markdown",
   "metadata": {},
   "source": [
    "### 문제2\n",
    "#### 입력 받은 값의 전체 합을 구하세요.\n",
    "#### 입력한 값들은 3,4,5,6 으로 하자."
   ]
  },
  {
   "cell_type": "code",
   "execution_count": 15,
   "metadata": {},
   "outputs": [
    {
     "name": "stdout",
     "output_type": "stream",
     "text": [
      "값 네개를 입력하세요: 3 4 5 6\n",
      "총합:  18\n"
     ]
    }
   ],
   "source": [
    "data = input(\"값 네개를 입력하세요: \").split(\" \")\n",
    "ans = 0\n",
    "\n",
    "# for n in data:\n",
    "#     ans+=int(n)\n",
    "\n",
    "# print(\"총합: \",ans)\n",
    "\n",
    "# for idx in range(len(data)):\n",
    "#     ans += int(data[idx])\n",
    "# print(\"총합: \",ans)\n",
    "\n",
    "intData = [int(i) for i in data]\n",
    "print(\"총합: \",sum(intData))"
   ]
  },
  {
   "cell_type": "markdown",
   "metadata": {},
   "source": [
    "### 문제3."
   ]
  },
  {
   "cell_type": "code",
   "execution_count": 16,
   "metadata": {
    "collapsed": true
   },
   "outputs": [
    {
     "data": {
      "text/plain": [
       "\"\\nnumlist = [5,10,11,3,2,100]\\nnumlist 데이타를 이요해서 다음과 같이 출력하세요.\\n['홀','짝','홀','홀','짝','짝']\\n\""
      ]
     },
     "execution_count": 16,
     "metadata": {},
     "output_type": "execute_result"
    }
   ],
   "source": [
    "'''\n",
    "numlist = [5,10,11,3,2,100]\n",
    "numlist 데이타를 이요해서 다음과 같이 출력하세요.\n",
    "['홀','짝','홀','홀','짝','짝']\n",
    "'''"
   ]
  },
  {
   "cell_type": "code",
   "execution_count": 20,
   "metadata": {},
   "outputs": [
    {
     "name": "stdout",
     "output_type": "stream",
     "text": [
      "['홀', '짝', '홀', '홀', '짝', '짝']\n"
     ]
    }
   ],
   "source": [
    "li = [5,10,11,3,2,100]\n",
    "# tmp = []\n",
    "# for i in li:\n",
    "#     if i%2 == 0:\n",
    "#         tmp.append('짝')\n",
    "#     else:\n",
    "#         tmp.append('홀')\n",
    "\n",
    "# print(tmp)\n",
    "\n",
    "# for idx in range(len(li)):\n",
    "#     if li[idx]%2 == 0:\n",
    "#         li[idx] = '짝'\n",
    "#     else:\n",
    "#         li[idx] = '홀'\n",
    "# print(li)\n",
    "\n",
    "li = ['짝' if i%2==0 else '홀' for i in li] #[출력값 if조건문 else 출력값 for 파라미터 in 배열]\n",
    "print(li)"
   ]
  },
  {
   "cell_type": "markdown",
   "metadata": {},
   "source": [
    "### 이중 for문 (이차원배열에 쓰려고)\n",
    "\n"
   ]
  },
  {
   "cell_type": "code",
   "execution_count": 23,
   "metadata": {},
   "outputs": [
    {
     "data": {
      "text/plain": [
       "[[1, 2, 3], [4, 5, 6], [7, 8, 9]]"
      ]
     },
     "execution_count": 23,
     "metadata": {},
     "output_type": "execute_result"
    }
   ],
   "source": [
    "matrix = [[1,2,3],[4,5,6],[7,8,9]]\n",
    "matrix"
   ]
  },
  {
   "cell_type": "code",
   "execution_count": 36,
   "metadata": {},
   "outputs": [
    {
     "name": "stdout",
     "output_type": "stream",
     "text": [
      "1   2   3   \n",
      "4   5   6   \n",
      "7   8   9   \n"
     ]
    }
   ],
   "source": [
    "# for i in matrix:\n",
    "#     print(i)\n",
    "\n",
    "# for i in range(len(matrix)):\n",
    "#     print(matrix[i])\n",
    "\n",
    "#이중포문\n",
    "# for i in range(len(matrix)):\n",
    "#     for j in range(len(matrix[i])):\n",
    "#         print(matrix[i][j],' ', end=\"\\n\")\n",
    "\n",
    "for row in matrix:\n",
    "    for col in row:\n",
    "        print(col,' ', end=' ')\n",
    "    print()"
   ]
  },
  {
   "cell_type": "markdown",
   "metadata": {},
   "source": [
    "### while문"
   ]
  },
  {
   "cell_type": "code",
   "execution_count": 5,
   "metadata": {},
   "outputs": [
    {
     "name": "stdout",
     "output_type": "stream",
     "text": [
      "100까지의 총합: 5050\n",
      "******************************\n",
      "100까지의 총합: 5050\n"
     ]
    }
   ],
   "source": [
    "'''\n",
    "1부터 100까지의 합을 구한다\n",
    "1)while 1<101 2) while true\n",
    "'''\n",
    "i = 1\n",
    "tot1 = 0\n",
    "while i<101:\n",
    "    tot1 +=i\n",
    "    i+=1\n",
    "\n",
    "print('100까지의 총합:',tot1)\n",
    "print('*'*30)\n",
    "\n",
    "j=1\n",
    "tot2 =0\n",
    "while True:\n",
    "    if j==101:\n",
    "        break\n",
    "    tot2 += j\n",
    "    j += 1\n",
    "print('100까지의 총합:',tot2)"
   ]
  },
  {
   "cell_type": "code",
   "execution_count": 9,
   "metadata": {},
   "outputs": [
    {
     "name": "stdout",
     "output_type": "stream",
     "text": [
      "0\n",
      "1\n",
      "continue loop 2\n",
      "3\n",
      "Pass~ 4\n",
      "4\n",
      "5\n",
      "break! 6\n"
     ]
    }
   ],
   "source": [
    "# continue, break, pass\n",
    "\n",
    "for i in range(10):\n",
    "    if i==2:\n",
    "        print ('continue loop',i)\n",
    "        continue # 밑에 것을 수행하지 않지만 루프를 계속 돌겠다는 뜻\n",
    "    if i==6:\n",
    "        print('break!',i)\n",
    "        break\n",
    "    if i==4:\n",
    "        print(\"Pass~\",i) #그냥 패스,, if문도 실행하고 if문 나와서 for문에 남은 구문을 다 실행 안써도됨.. 이거 왜있는겨?\n",
    "        pass\n",
    "    print(i)\n"
   ]
  },
  {
   "cell_type": "markdown",
   "metadata": {},
   "source": [
    "#### 문제 Number Guess 번호 맞추기 게임!\n",
    "* 랜덤 숫자를 하나 지정하고(random.randrange())\n",
    "* 키보드로 특정한 숫자를 입력받아서\n",
    "* 입력된 값이 더 작으면 작습니다 출력 -> 큰값 입력하도록\n",
    "* 더 큰 값이 입력되면 큽니다 출력 -> 작은 값을 입력하도록\n",
    "* 값이 맞다면 총 n번만에 정답을 맞췄습니다. 출력"
   ]
  },
  {
   "cell_type": "code",
   "execution_count": null,
   "metadata": {},
   "outputs": [],
   "source": [
    "##### import random\n",
    "\n",
    "ans = random.randrange(1,21)\n",
    "cnt = 1\n",
    "while True:\n",
    "    userNum = int(input(\"1~20사이의 비교할 값을 입력해주세요:\"))\n",
    "    \n",
    "    if ans == userNum:\n",
    "        print(\"%d번만에 정답을 맞췄습니다. 정답:%d\"%(cnt,ans))\n",
    "        break\n",
    "    elif ans > userNum:\n",
    "        print(\"%d보다 큰 숫자입니다.\"%(userNum))\n",
    "        print()\n",
    "        cnt+=1\n",
    "        continue\n",
    "    else :\n",
    "        print(\"%d보다 작은 숫자입니다.\"%(userNum))\n",
    "        print()\n",
    "        cnt+=1\n",
    "        continue"
   ]
  }
 ],
 "metadata": {
  "kernelspec": {
   "display_name": "Python 3",
   "language": "python",
   "name": "python3"
  },
  "language_info": {
   "codemirror_mode": {
    "name": "ipython",
    "version": 3
   },
   "file_extension": ".py",
   "mimetype": "text/x-python",
   "name": "python",
   "nbconvert_exporter": "python",
   "pygments_lexer": "ipython3",
   "version": "3.7.6"
  }
 },
 "nbformat": 4,
 "nbformat_minor": 4
}
