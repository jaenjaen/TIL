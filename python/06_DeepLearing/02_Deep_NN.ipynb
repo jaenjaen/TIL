{
 "cells": [
  {
   "cell_type": "code",
   "execution_count": 1,
   "metadata": {},
   "outputs": [],
   "source": [
    "import torch\n",
    "import torchvision #pytorch lib에서 vision은 img processing에 특화된 라이브러리\n",
    "import torch.nn as nn #nn: neural Network \n",
    "import numpy as np\n",
    "import torchvision.transforms as transforms #transforms는 Data aumentation을 위한것."
   ]
  },
  {
   "cell_type": "markdown",
   "metadata": {},
   "source": [
    "### Create Tensor -> Generating Neural Net "
   ]
  },
  {
   "cell_type": "code",
   "execution_count": 2,
   "metadata": {},
   "outputs": [
    {
     "name": "stdout",
     "output_type": "stream",
     "text": [
      "tensor(1., requires_grad=True) tensor(2., requires_grad=True) tensor(3., requires_grad=True)\n"
     ]
    }
   ],
   "source": [
    "x = torch.tensor(1.,requires_grad=True)\n",
    "w = torch.tensor(2.,requires_grad=True)\n",
    "b = torch.tensor(3.,requires_grad=True)\n",
    "\n",
    "#w*X+b\n",
    "print(x,w,b)"
   ]
  },
  {
   "cell_type": "code",
   "execution_count": 4,
   "metadata": {},
   "outputs": [
    {
     "name": "stdout",
     "output_type": "stream",
     "text": [
      "tensor(2.)\n",
      "tensor(1.)\n",
      "tensor(1.)\n"
     ]
    }
   ],
   "source": [
    "y = w*x+b # 1차원 y=2x+3\n",
    "\n",
    "y.backward()\n",
    "\n",
    "print(x.grad)\n",
    "print(w.grad)\n",
    "print(b.grad)"
   ]
  },
  {
   "cell_type": "markdown",
   "metadata": {},
   "source": [
    "### Create Tensor 2차원 "
   ]
  },
  {
   "cell_type": "code",
   "execution_count": 10,
   "metadata": {},
   "outputs": [
    {
     "name": "stdout",
     "output_type": "stream",
     "text": [
      "Weight Parameter containing:\n",
      "tensor([[-0.2413, -0.0197,  0.4853],\n",
      "        [-0.4531, -0.1696, -0.0609]], requires_grad=True)\n",
      "Bias Parameter containing:\n",
      "tensor([-0.3761, -0.4359], requires_grad=True)\n",
      "<generator object Module.parameters at 0x00000187CA0A2448>\n"
     ]
    }
   ],
   "source": [
    "x = torch.randn(10,3)\n",
    "y = torch.randn(10,2)\n",
    "x\n",
    "y\n",
    "\n",
    "linear = nn.Linear(3,2) #여기선 weight뿐 만 아니라 bias까지 합해진값임\n",
    "\n",
    "print('Weight',linear.weight)\n",
    "print('Bias',linear.bias) # bias는 변하는 값이 아니라 상수같은 존재임 (10행이지만 중복이라 한줄만 출력)\n",
    "\n",
    "print(linear.parameters()) #리니어모델의 학습주체를 감추고 있는 객체(weight,bias)"
   ]
  },
  {
   "cell_type": "code",
   "execution_count": 16,
   "metadata": {},
   "outputs": [
    {
     "name": "stdout",
     "output_type": "stream",
     "text": [
      "Loss before Backpropagation: 1.090638518333435\n",
      "dL/dW 로스가 나오는데 w가 얼마나 책임이 있는지? tensor([[ 0.2091, -0.4662,  0.5720],\n",
      "        [-0.4710, -0.5763, -0.0054]])\n",
      "dL/db tensor([-0.4198, -0.0090])\n",
      "Loss after Backpropagation: 1.077524185180664\n"
     ]
    }
   ],
   "source": [
    "loss_function = nn.MSELoss() #미리 로스함수 정의하고 사용 나중에 \n",
    "optimizer = torch.optim.SGD(linear.parameters(),lr=0.01)\n",
    "\n",
    "pred = linear(x) # 모델에 X를 입력하면 예측값이 나온다.\n",
    "\n",
    "loss = loss_function(pred,y)\n",
    "print('Loss before Backpropagation:',loss.item()) #item을 사용하면 값만 뽑을 수 있음\n",
    "\n",
    "loss.backward()\n",
    "\n",
    "print('dL/dW 로스가 나오는데 w가 얼마나 책임이 있는지?',linear.weight.grad)\n",
    "print('dL/db',linear.bias.grad)\n",
    "\n",
    "optimizer.step() #이 때, 수정된 값으로 실질적인 학습이 진행된다. - 하강\n",
    "\n",
    "#반복효과\n",
    "pred = linear(x)\n",
    "loss = loss_function(pred,y)\n",
    "print('Loss after Backpropagation:',loss.item()) #for문을 돌리면서 하면 어떻게 loss가 주는지 알 수 있음"
   ]
  }
 ],
 "metadata": {
  "kernelspec": {
   "display_name": "Python 3",
   "language": "python",
   "name": "python3"
  },
  "language_info": {
   "codemirror_mode": {
    "name": "ipython",
    "version": 3
   },
   "file_extension": ".py",
   "mimetype": "text/x-python",
   "name": "python",
   "nbconvert_exporter": "python",
   "pygments_lexer": "ipython3",
   "version": "3.7.7"
  }
 },
 "nbformat": 4,
 "nbformat_minor": 4
}
