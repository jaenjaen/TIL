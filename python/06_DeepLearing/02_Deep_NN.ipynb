{
 "cells": [
  {
   "cell_type": "code",
   "execution_count": 1,
   "metadata": {},
   "outputs": [],
   "source": [
    "import torch\n",
    "import torchvision #pytorch lib에서 vision은 img processing에 특화된 라이브러리\n",
    "import torch.nn as nn #nn: neural Network \n",
    "import numpy as np\n",
    "import torchvision.transforms as transforms #transforms는 Data aumentation을 위한것."
   ]
  },
  {
   "cell_type": "markdown",
   "metadata": {},
   "source": [
    "### Create Tensor -> Generating Neural Net "
   ]
  },
  {
   "cell_type": "code",
   "execution_count": 2,
   "metadata": {},
   "outputs": [
    {
     "name": "stdout",
     "output_type": "stream",
     "text": [
      "tensor(1., requires_grad=True) tensor(2., requires_grad=True) tensor(3., requires_grad=True)\n"
     ]
    }
   ],
   "source": [
    "x = torch.tensor(1.,requires_grad=True)\n",
    "w = torch.tensor(2.,requires_grad=True)\n",
    "b = torch.tensor(3.,requires_grad=True)\n",
    "\n",
    "#w*X+b\n",
    "print(x,w,b)"
   ]
  },
  {
   "cell_type": "code",
   "execution_count": 3,
   "metadata": {},
   "outputs": [
    {
     "name": "stdout",
     "output_type": "stream",
     "text": [
      "tensor(2.)\n",
      "tensor(1.)\n",
      "tensor(1.)\n"
     ]
    }
   ],
   "source": [
    "y = w*x+b # 1차원 y=2x+3\n",
    "\n",
    "y.backward()\n",
    "\n",
    "print(x.grad)\n",
    "print(w.grad)\n",
    "print(b.grad)"
   ]
  },
  {
   "cell_type": "markdown",
   "metadata": {},
   "source": [
    "### Create Tensor 2차원 "
   ]
  },
  {
   "cell_type": "code",
   "execution_count": 4,
   "metadata": {},
   "outputs": [
    {
     "name": "stdout",
     "output_type": "stream",
     "text": [
      "Weight Parameter containing:\n",
      "tensor([[-0.4243,  0.4577, -0.3191],\n",
      "        [ 0.1662, -0.4878,  0.0531]], requires_grad=True)\n",
      "Bias Parameter containing:\n",
      "tensor([-0.5283,  0.3526], requires_grad=True)\n",
      "<generator object Module.parameters at 0x000001FF9826C348>\n"
     ]
    }
   ],
   "source": [
    "x = torch.randn(10,3)\n",
    "y = torch.randn(10,2)\n",
    "x\n",
    "y\n",
    "\n",
    "linear = nn.Linear(3,2) #여기선 weight뿐 만 아니라 bias까지 합해진값임\n",
    "\n",
    "print('Weight',linear.weight)\n",
    "print('Bias',linear.bias) # bias는 변하는 값이 아니라 상수같은 존재임 (10행이지만 중복이라 한줄만 출력)\n",
    "\n",
    "print(linear.parameters()) #리니어모델의 학습주체를 감추고 있는 객체(weight,bias)"
   ]
  },
  {
   "cell_type": "code",
   "execution_count": 5,
   "metadata": {},
   "outputs": [
    {
     "name": "stdout",
     "output_type": "stream",
     "text": [
      "Loss before Backpropagation: 1.268657922744751\n",
      "dL/dW 로스가 나오는데 w가 얼마나 책임이 있는지? tensor([[-0.2851,  0.3760, -0.1825],\n",
      "        [ 0.1788, -0.3534,  0.5108]])\n",
      "dL/db tensor([-0.4416,  0.5624])\n",
      "Loss after Backpropagation: 1.2568557262420654\n"
     ]
    }
   ],
   "source": [
    "loss_function = nn.MSELoss() #미리 로스함수 정의하고 사용 나중에 \n",
    "'''\n",
    "학습의 주체를 인자값으로 넣어야함\n",
    "linear.parameters() - 학습해야하는 weight와 bias가 들어가있음\n",
    "\n",
    "'''\n",
    "optimizer = torch.optim.SGD(linear.parameters(),lr=0.01) \n",
    "\n",
    "pred = linear(x) # 모델에 X를 입력하면 예측값이 나온다.\n",
    "\n",
    "loss = loss_function(pred,y)\n",
    "print('Loss before Backpropagation:',loss.item()) #item을 사용하면 값만 뽑을 수 있음\n",
    "\n",
    "loss.backward()\n",
    "\n",
    "print('dL/dW 로스가 나오는데 w가 얼마나 책임이 있는지?',linear.weight.grad)\n",
    "print('dL/db',linear.bias.grad)\n",
    "#----------------------------foward propargation\n",
    "\n",
    "optimizer.step() #이 때, 수정된 값으로 실질적인 학습이 진행된다. - 하강\n",
    "\n",
    "#반복효과\n",
    "pred = linear(x)\n",
    "loss = loss_function(pred,y)\n",
    "print('Loss after Backpropagation:',loss.item()) #for문을 돌리면서 하면 어떻게 loss가 주는지 알 수 있음"
   ]
  },
  {
   "cell_type": "markdown",
   "metadata": {},
   "source": [
    "### Neural Net Flow\n",
    "    1. 모델 정의\n",
    "    2. 모델에 값을 입력해 예측값 할당\n",
    "    3. get the Loss\n",
    "    4. Backward()\n",
    "    5. 학습진행 step()"
   ]
  }
 ],
 "metadata": {
  "kernelspec": {
   "display_name": "Python 3",
   "language": "python",
   "name": "python3"
  },
  "language_info": {
   "codemirror_mode": {
    "name": "ipython",
    "version": 3
   },
   "file_extension": ".py",
   "mimetype": "text/x-python",
   "name": "python",
   "nbconvert_exporter": "python",
   "pygments_lexer": "ipython3",
   "version": "3.7.7"
  }
 },
 "nbformat": 4,
 "nbformat_minor": 4
}
