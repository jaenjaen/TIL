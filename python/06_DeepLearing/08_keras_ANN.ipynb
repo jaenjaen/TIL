{
 "cells": [
  {
   "cell_type": "code",
   "execution_count": 1,
   "metadata": {},
   "outputs": [],
   "source": [
    "import numpy as np\n",
    "from keras import datasets\n",
    "from keras import models, layers\n",
    "from keras.utils import np_utils"
   ]
  },
  {
   "cell_type": "code",
   "execution_count": 2,
   "metadata": {},
   "outputs": [],
   "source": [
    "#1.DataLoader\n",
    "(X_train,y_train),(X_test,y_test) = datasets.mnist.load_data()"
   ]
  },
  {
   "cell_type": "code",
   "execution_count": 3,
   "metadata": {},
   "outputs": [
    {
     "name": "stdout",
     "output_type": "stream",
     "text": [
      "[[  0   0   0   0   0   0   0   0   0   0   0   0   0   0   0   0   0   0\n",
      "    0   0   0   0   0   0   0   0   0   0]\n",
      " [  0   0   0   0   0   0   0   0   0   0   0   0   0   0   0   0   0   0\n",
      "    0   0   0   0   0   0   0   0   0   0]\n",
      " [  0   0   0   0   0   0   0   0   0   0   0   0   0   0   0   0   0   0\n",
      "    0   0   0   0   0   0   0   0   0   0]\n",
      " [  0   0   0   0   0   0   0   0   0   0   0   0   0   0   0   0   0   0\n",
      "    0   0   0   0   0   0   0   0   0   0]\n",
      " [  0   0   0   0   0   0   0   0   0   0   0   0   0   0   0   0   0   0\n",
      "    0   0   0   0   0   0   0   0   0   0]\n",
      " [  0   0   0   0   0   0   0   0   0   0   0   0   3  18  18  18 126 136\n",
      "  175  26 166 255 247 127   0   0   0   0]\n",
      " [  0   0   0   0   0   0   0   0  30  36  94 154 170 253 253 253 253 253\n",
      "  225 172 253 242 195  64   0   0   0   0]\n",
      " [  0   0   0   0   0   0   0  49 238 253 253 253 253 253 253 253 253 251\n",
      "   93  82  82  56  39   0   0   0   0   0]\n",
      " [  0   0   0   0   0   0   0  18 219 253 253 253 253 253 198 182 247 241\n",
      "    0   0   0   0   0   0   0   0   0   0]\n",
      " [  0   0   0   0   0   0   0   0  80 156 107 253 253 205  11   0  43 154\n",
      "    0   0   0   0   0   0   0   0   0   0]\n",
      " [  0   0   0   0   0   0   0   0   0  14   1 154 253  90   0   0   0   0\n",
      "    0   0   0   0   0   0   0   0   0   0]\n",
      " [  0   0   0   0   0   0   0   0   0   0   0 139 253 190   2   0   0   0\n",
      "    0   0   0   0   0   0   0   0   0   0]\n",
      " [  0   0   0   0   0   0   0   0   0   0   0  11 190 253  70   0   0   0\n",
      "    0   0   0   0   0   0   0   0   0   0]\n",
      " [  0   0   0   0   0   0   0   0   0   0   0   0  35 241 225 160 108   1\n",
      "    0   0   0   0   0   0   0   0   0   0]\n",
      " [  0   0   0   0   0   0   0   0   0   0   0   0   0  81 240 253 253 119\n",
      "   25   0   0   0   0   0   0   0   0   0]\n",
      " [  0   0   0   0   0   0   0   0   0   0   0   0   0   0  45 186 253 253\n",
      "  150  27   0   0   0   0   0   0   0   0]\n",
      " [  0   0   0   0   0   0   0   0   0   0   0   0   0   0   0  16  93 252\n",
      "  253 187   0   0   0   0   0   0   0   0]\n",
      " [  0   0   0   0   0   0   0   0   0   0   0   0   0   0   0   0   0 249\n",
      "  253 249  64   0   0   0   0   0   0   0]\n",
      " [  0   0   0   0   0   0   0   0   0   0   0   0   0   0  46 130 183 253\n",
      "  253 207   2   0   0   0   0   0   0   0]\n",
      " [  0   0   0   0   0   0   0   0   0   0   0   0  39 148 229 253 253 253\n",
      "  250 182   0   0   0   0   0   0   0   0]\n",
      " [  0   0   0   0   0   0   0   0   0   0  24 114 221 253 253 253 253 201\n",
      "   78   0   0   0   0   0   0   0   0   0]\n",
      " [  0   0   0   0   0   0   0   0  23  66 213 253 253 253 253 198  81   2\n",
      "    0   0   0   0   0   0   0   0   0   0]\n",
      " [  0   0   0   0   0   0  18 171 219 253 253 253 253 195  80   9   0   0\n",
      "    0   0   0   0   0   0   0   0   0   0]\n",
      " [  0   0   0   0  55 172 226 253 253 253 253 244 133  11   0   0   0   0\n",
      "    0   0   0   0   0   0   0   0   0   0]\n",
      " [  0   0   0   0 136 253 253 253 212 135 132  16   0   0   0   0   0   0\n",
      "    0   0   0   0   0   0   0   0   0   0]\n",
      " [  0   0   0   0   0   0   0   0   0   0   0   0   0   0   0   0   0   0\n",
      "    0   0   0   0   0   0   0   0   0   0]\n",
      " [  0   0   0   0   0   0   0   0   0   0   0   0   0   0   0   0   0   0\n",
      "    0   0   0   0   0   0   0   0   0   0]\n",
      " [  0   0   0   0   0   0   0   0   0   0   0   0   0   0   0   0   0   0\n",
      "    0   0   0   0   0   0   0   0   0   0]]\n",
      "5\n"
     ]
    }
   ],
   "source": [
    "print(X_train[0])\n",
    "print(y_train[0])"
   ]
  },
  {
   "cell_type": "code",
   "execution_count": 4,
   "metadata": {},
   "outputs": [
    {
     "data": {
      "text/plain": [
       "(60000, 28, 28)"
      ]
     },
     "execution_count": 4,
     "metadata": {},
     "output_type": "execute_result"
    }
   ],
   "source": [
    "X_train.shape"
   ]
  },
  {
   "cell_type": "code",
   "execution_count": 5,
   "metadata": {},
   "outputs": [],
   "source": [
    "#2. \n",
    "L,W,H = X_train.shape\n",
    "\n",
    "X_train = X_train.reshape(-1,W*H) #1차원으로 펼침\n",
    "X_test = X_test.reshape(-1,W*H)"
   ]
  },
  {
   "cell_type": "code",
   "execution_count": 6,
   "metadata": {},
   "outputs": [
    {
     "name": "stdout",
     "output_type": "stream",
     "text": [
      "(60000, 784)\n",
      "(10000, 784)\n"
     ]
    }
   ],
   "source": [
    "print(X_train.shape)\n",
    "print(X_test.shape)"
   ]
  },
  {
   "cell_type": "code",
   "execution_count": 7,
   "metadata": {},
   "outputs": [
    {
     "name": "stdout",
     "output_type": "stream",
     "text": [
      "[0.         0.         0.         0.         0.         0.\n",
      " 0.         0.         0.         0.         0.         0.\n",
      " 0.         0.         0.         0.         0.         0.\n",
      " 0.         0.         0.         0.         0.         0.\n",
      " 0.         0.         0.         0.         0.         0.\n",
      " 0.         0.         0.         0.         0.         0.\n",
      " 0.         0.         0.         0.         0.         0.\n",
      " 0.         0.         0.         0.         0.         0.\n",
      " 0.         0.         0.         0.         0.         0.\n",
      " 0.         0.         0.         0.         0.         0.\n",
      " 0.         0.         0.         0.         0.         0.\n",
      " 0.         0.         0.         0.         0.         0.\n",
      " 0.         0.         0.         0.         0.         0.\n",
      " 0.         0.         0.         0.         0.         0.\n",
      " 0.         0.         0.         0.         0.         0.\n",
      " 0.         0.         0.         0.         0.         0.\n",
      " 0.         0.         0.         0.         0.         0.\n",
      " 0.         0.         0.         0.         0.         0.\n",
      " 0.         0.         0.         0.         0.         0.\n",
      " 0.         0.         0.         0.         0.         0.\n",
      " 0.         0.         0.         0.         0.         0.\n",
      " 0.         0.         0.         0.         0.         0.\n",
      " 0.         0.         0.         0.         0.         0.\n",
      " 0.         0.         0.         0.         0.         0.\n",
      " 0.         0.         0.         0.         0.         0.\n",
      " 0.         0.         0.01176471 0.07058824 0.07058824 0.07058824\n",
      " 0.49411765 0.53333333 0.68627451 0.10196078 0.65098039 1.\n",
      " 0.96862745 0.49803922 0.         0.         0.         0.\n",
      " 0.         0.         0.         0.         0.         0.\n",
      " 0.         0.         0.11764706 0.14117647 0.36862745 0.60392157\n",
      " 0.66666667 0.99215686 0.99215686 0.99215686 0.99215686 0.99215686\n",
      " 0.88235294 0.6745098  0.99215686 0.94901961 0.76470588 0.25098039\n",
      " 0.         0.         0.         0.         0.         0.\n",
      " 0.         0.         0.         0.         0.         0.19215686\n",
      " 0.93333333 0.99215686 0.99215686 0.99215686 0.99215686 0.99215686\n",
      " 0.99215686 0.99215686 0.99215686 0.98431373 0.36470588 0.32156863\n",
      " 0.32156863 0.21960784 0.15294118 0.         0.         0.\n",
      " 0.         0.         0.         0.         0.         0.\n",
      " 0.         0.         0.         0.07058824 0.85882353 0.99215686\n",
      " 0.99215686 0.99215686 0.99215686 0.99215686 0.77647059 0.71372549\n",
      " 0.96862745 0.94509804 0.         0.         0.         0.\n",
      " 0.         0.         0.         0.         0.         0.\n",
      " 0.         0.         0.         0.         0.         0.\n",
      " 0.         0.         0.31372549 0.61176471 0.41960784 0.99215686\n",
      " 0.99215686 0.80392157 0.04313725 0.         0.16862745 0.60392157\n",
      " 0.         0.         0.         0.         0.         0.\n",
      " 0.         0.         0.         0.         0.         0.\n",
      " 0.         0.         0.         0.         0.         0.\n",
      " 0.         0.05490196 0.00392157 0.60392157 0.99215686 0.35294118\n",
      " 0.         0.         0.         0.         0.         0.\n",
      " 0.         0.         0.         0.         0.         0.\n",
      " 0.         0.         0.         0.         0.         0.\n",
      " 0.         0.         0.         0.         0.         0.\n",
      " 0.         0.54509804 0.99215686 0.74509804 0.00784314 0.\n",
      " 0.         0.         0.         0.         0.         0.\n",
      " 0.         0.         0.         0.         0.         0.\n",
      " 0.         0.         0.         0.         0.         0.\n",
      " 0.         0.         0.         0.         0.         0.04313725\n",
      " 0.74509804 0.99215686 0.2745098  0.         0.         0.\n",
      " 0.         0.         0.         0.         0.         0.\n",
      " 0.         0.         0.         0.         0.         0.\n",
      " 0.         0.         0.         0.         0.         0.\n",
      " 0.         0.         0.         0.         0.1372549  0.94509804\n",
      " 0.88235294 0.62745098 0.42352941 0.00392157 0.         0.\n",
      " 0.         0.         0.         0.         0.         0.\n",
      " 0.         0.         0.         0.         0.         0.\n",
      " 0.         0.         0.         0.         0.         0.\n",
      " 0.         0.         0.         0.31764706 0.94117647 0.99215686\n",
      " 0.99215686 0.46666667 0.09803922 0.         0.         0.\n",
      " 0.         0.         0.         0.         0.         0.\n",
      " 0.         0.         0.         0.         0.         0.\n",
      " 0.         0.         0.         0.         0.         0.\n",
      " 0.         0.         0.17647059 0.72941176 0.99215686 0.99215686\n",
      " 0.58823529 0.10588235 0.         0.         0.         0.\n",
      " 0.         0.         0.         0.         0.         0.\n",
      " 0.         0.         0.         0.         0.         0.\n",
      " 0.         0.         0.         0.         0.         0.\n",
      " 0.         0.0627451  0.36470588 0.98823529 0.99215686 0.73333333\n",
      " 0.         0.         0.         0.         0.         0.\n",
      " 0.         0.         0.         0.         0.         0.\n",
      " 0.         0.         0.         0.         0.         0.\n",
      " 0.         0.         0.         0.         0.         0.\n",
      " 0.         0.97647059 0.99215686 0.97647059 0.25098039 0.\n",
      " 0.         0.         0.         0.         0.         0.\n",
      " 0.         0.         0.         0.         0.         0.\n",
      " 0.         0.         0.         0.         0.         0.\n",
      " 0.         0.         0.18039216 0.50980392 0.71764706 0.99215686\n",
      " 0.99215686 0.81176471 0.00784314 0.         0.         0.\n",
      " 0.         0.         0.         0.         0.         0.\n",
      " 0.         0.         0.         0.         0.         0.\n",
      " 0.         0.         0.         0.         0.15294118 0.58039216\n",
      " 0.89803922 0.99215686 0.99215686 0.99215686 0.98039216 0.71372549\n",
      " 0.         0.         0.         0.         0.         0.\n",
      " 0.         0.         0.         0.         0.         0.\n",
      " 0.         0.         0.         0.         0.         0.\n",
      " 0.09411765 0.44705882 0.86666667 0.99215686 0.99215686 0.99215686\n",
      " 0.99215686 0.78823529 0.30588235 0.         0.         0.\n",
      " 0.         0.         0.         0.         0.         0.\n",
      " 0.         0.         0.         0.         0.         0.\n",
      " 0.         0.         0.09019608 0.25882353 0.83529412 0.99215686\n",
      " 0.99215686 0.99215686 0.99215686 0.77647059 0.31764706 0.00784314\n",
      " 0.         0.         0.         0.         0.         0.\n",
      " 0.         0.         0.         0.         0.         0.\n",
      " 0.         0.         0.         0.         0.07058824 0.67058824\n",
      " 0.85882353 0.99215686 0.99215686 0.99215686 0.99215686 0.76470588\n",
      " 0.31372549 0.03529412 0.         0.         0.         0.\n",
      " 0.         0.         0.         0.         0.         0.\n",
      " 0.         0.         0.         0.         0.         0.\n",
      " 0.21568627 0.6745098  0.88627451 0.99215686 0.99215686 0.99215686\n",
      " 0.99215686 0.95686275 0.52156863 0.04313725 0.         0.\n",
      " 0.         0.         0.         0.         0.         0.\n",
      " 0.         0.         0.         0.         0.         0.\n",
      " 0.         0.         0.         0.         0.53333333 0.99215686\n",
      " 0.99215686 0.99215686 0.83137255 0.52941176 0.51764706 0.0627451\n",
      " 0.         0.         0.         0.         0.         0.\n",
      " 0.         0.         0.         0.         0.         0.\n",
      " 0.         0.         0.         0.         0.         0.\n",
      " 0.         0.         0.         0.         0.         0.\n",
      " 0.         0.         0.         0.         0.         0.\n",
      " 0.         0.         0.         0.         0.         0.\n",
      " 0.         0.         0.         0.         0.         0.\n",
      " 0.         0.         0.         0.         0.         0.\n",
      " 0.         0.         0.         0.         0.         0.\n",
      " 0.         0.         0.         0.         0.         0.\n",
      " 0.         0.         0.         0.         0.         0.\n",
      " 0.         0.         0.         0.         0.         0.\n",
      " 0.         0.         0.         0.         0.         0.\n",
      " 0.         0.         0.         0.         0.         0.\n",
      " 0.         0.         0.         0.         0.         0.\n",
      " 0.         0.         0.         0.         0.         0.\n",
      " 0.         0.         0.         0.        ]\n"
     ]
    }
   ],
   "source": [
    "#입력데이터 전처리\n",
    "X_train = X_train/255\n",
    "X_test = X_test/255\n",
    "print(X_train[0])"
   ]
  },
  {
   "cell_type": "code",
   "execution_count": 8,
   "metadata": {},
   "outputs": [],
   "source": [
    "#3. Y  입력 데이터 전처리\n",
    "'''\n",
    "output에서는 총 10개의 카테고리가 있다.\n",
    "각각의 노드에서 이미지에 해당하는 예측 값을 \n",
    "0~1사이의 확률 분포로 만들 필요가 있음\n",
    "One Hot Encoding방식으로 변환해줌\n",
    "np_uTILS.TO_CATEGORICAL()()함수를 사용한다\n",
    "'''\n",
    "\n",
    "Y_train = np_utils.to_categorical(y_train)\n",
    "Y_test = np_utils.to_categorical(y_test)"
   ]
  },
  {
   "cell_type": "code",
   "execution_count": 9,
   "metadata": {},
   "outputs": [
    {
     "name": "stdout",
     "output_type": "stream",
     "text": [
      "[[0. 0. 0. ... 0. 0. 0.]\n",
      " [1. 0. 0. ... 0. 0. 0.]\n",
      " [0. 0. 0. ... 0. 0. 0.]\n",
      " ...\n",
      " [0. 0. 0. ... 0. 0. 0.]\n",
      " [0. 0. 0. ... 0. 0. 0.]\n",
      " [0. 0. 0. ... 0. 1. 0.]]\n",
      "[[0. 0. 0. ... 1. 0. 0.]\n",
      " [0. 0. 1. ... 0. 0. 0.]\n",
      " [0. 1. 0. ... 0. 0. 0.]\n",
      " ...\n",
      " [0. 0. 0. ... 0. 0. 0.]\n",
      " [0. 0. 0. ... 0. 0. 0.]\n",
      " [0. 0. 0. ... 0. 0. 0.]]\n"
     ]
    }
   ],
   "source": [
    "print(Y_train)\n",
    "print(Y_test)"
   ]
  },
  {
   "cell_type": "code",
   "execution_count": 10,
   "metadata": {},
   "outputs": [],
   "source": [
    "#4. Setting Hyper_parameters\n",
    "input_size = 28*28\n",
    "hidden_size = 100\n",
    "num_classes = 10\n",
    "epochs = 10\n",
    "batch_size = 100"
   ]
  },
  {
   "cell_type": "code",
   "execution_count": 11,
   "metadata": {},
   "outputs": [],
   "source": [
    "#5. Model Generator\n",
    "model = models.Sequential()\n",
    "model.add(layers.Dense(hidden_size, activation='relu' ,input_shape=(input_size,)))\n",
    "model.add(layers.Dense(num_classes,activation='softmax'))"
   ]
  },
  {
   "cell_type": "code",
   "execution_count": 12,
   "metadata": {},
   "outputs": [],
   "source": [
    "#6. Compile\n",
    "model.compile('sgd','categorical_crossentropy',metrics=['accuracy']) #metrics는 평가지표"
   ]
  },
  {
   "cell_type": "code",
   "execution_count": 13,
   "metadata": {},
   "outputs": [
    {
     "name": "stdout",
     "output_type": "stream",
     "text": [
      "Epoch 1/10\n",
      "480/480 [==============================] - 1s 3ms/step - loss: 1.1617 - accuracy: 0.7130 - val_loss: 0.6392 - val_accuracy: 0.8495\n",
      "Epoch 2/10\n",
      "480/480 [==============================] - 1s 2ms/step - loss: 0.5626 - accuracy: 0.8583 - val_loss: 0.4515 - val_accuracy: 0.8857\n",
      "Epoch 3/10\n",
      "480/480 [==============================] - 1s 2ms/step - loss: 0.4478 - accuracy: 0.8814 - val_loss: 0.3859 - val_accuracy: 0.8977\n",
      "Epoch 4/10\n",
      "480/480 [==============================] - 1s 2ms/step - loss: 0.3962 - accuracy: 0.8914 - val_loss: 0.3514 - val_accuracy: 0.9061\n",
      "Epoch 5/10\n",
      "480/480 [==============================] - 1s 2ms/step - loss: 0.3646 - accuracy: 0.8981 - val_loss: 0.3284 - val_accuracy: 0.9107\n",
      "Epoch 6/10\n",
      "480/480 [==============================] - 1s 2ms/step - loss: 0.3426 - accuracy: 0.9036 - val_loss: 0.3121 - val_accuracy: 0.9138\n",
      "Epoch 7/10\n",
      "480/480 [==============================] - 1s 2ms/step - loss: 0.3255 - accuracy: 0.9081 - val_loss: 0.2980 - val_accuracy: 0.9193\n",
      "Epoch 8/10\n",
      "480/480 [==============================] - 1s 2ms/step - loss: 0.3113 - accuracy: 0.9119 - val_loss: 0.2869 - val_accuracy: 0.9216\n",
      "Epoch 9/10\n",
      "480/480 [==============================] - 1s 2ms/step - loss: 0.2992 - accuracy: 0.9157 - val_loss: 0.2772 - val_accuracy: 0.9237\n",
      "Epoch 10/10\n",
      "480/480 [==============================] - 1s 2ms/step - loss: 0.2885 - accuracy: 0.9178 - val_loss: 0.2689 - val_accuracy: 0.9258\n"
     ]
    },
    {
     "data": {
      "text/plain": [
       "<tensorflow.python.keras.callbacks.History at 0x1a6bed0f888>"
      ]
     },
     "execution_count": 13,
     "metadata": {},
     "output_type": "execute_result"
    }
   ],
   "source": [
    "#7.Learning\n",
    "model.fit(X_train,Y_train,epochs=epochs,batch_size=batch_size,validation_split=0.2) #validation:Training = 2:8"
   ]
  },
  {
   "cell_type": "code",
   "execution_count": 14,
   "metadata": {},
   "outputs": [
    {
     "name": "stdout",
     "output_type": "stream",
     "text": [
      "100/100 [==============================] - 0s 1ms/step - loss: 0.2706 - accuracy: 0.9258\n",
      "Loss: 0.2706126868724823, Accuracy: 0.9258000254631042\n"
     ]
    }
   ],
   "source": [
    "#8.Test\n",
    "model_performance = model.evaluate(X_test,Y_test,batch_size=batch_size)\n",
    "print('Loss: {}, Accuracy: {}'.format(*model_performance))"
   ]
  },
  {
   "cell_type": "code",
   "execution_count": 27,
   "metadata": {},
   "outputs": [],
   "source": [
    "# 9 .시각화\n",
    "import matplotlib.pyplot as plt\n",
    "\n",
    "def plot_loss(history):\n",
    "    plt.plot(history.history['loss'])\n",
    "    plt.plot(history.history['val_loss'])\n",
    "    plt.title('Model Loss')\n",
    "    plt.ylabel('Loss')\n",
    "    plt.xlabel('Epoch')\n",
    "    plt.legend(['Training,Validation'])\n",
    "    \n",
    "def plot_acc(history):\n",
    "    plt.plot(history.history['accuracy'])\n",
    "    plt.plot(history.history['val_accuracy'])\n",
    "    plt.title('Model Accuracy')\n",
    "    plt.ylabel('Accuracy')\n",
    "    plt.xlabel('Epoch')\n",
    "    plt.legend(['Training,Validation'])"
   ]
  },
  {
   "cell_type": "code",
   "execution_count": 21,
   "metadata": {
    "collapsed": true
   },
   "outputs": [
    {
     "name": "stdout",
     "output_type": "stream",
     "text": [
      "Epoch 1/50\n",
      "480/480 [==============================] - 1s 2ms/step - loss: 0.1171 - accuracy: 0.9678 - val_loss: 0.1339 - val_accuracy: 0.9613\n",
      "Epoch 2/50\n",
      "480/480 [==============================] - 1s 2ms/step - loss: 0.1159 - accuracy: 0.9682 - val_loss: 0.1333 - val_accuracy: 0.9617\n",
      "Epoch 3/50\n",
      "480/480 [==============================] - 1s 2ms/step - loss: 0.1147 - accuracy: 0.9685 - val_loss: 0.1319 - val_accuracy: 0.9623\n",
      "Epoch 4/50\n",
      "480/480 [==============================] - 1s 2ms/step - loss: 0.1134 - accuracy: 0.9686 - val_loss: 0.1311 - val_accuracy: 0.9622\n",
      "Epoch 5/50\n",
      "480/480 [==============================] - 1s 2ms/step - loss: 0.1122 - accuracy: 0.9697 - val_loss: 0.1301 - val_accuracy: 0.9630\n",
      "Epoch 6/50\n",
      "480/480 [==============================] - 1s 2ms/step - loss: 0.1110 - accuracy: 0.9696 - val_loss: 0.1294 - val_accuracy: 0.9635\n",
      "Epoch 7/50\n",
      "480/480 [==============================] - 1s 2ms/step - loss: 0.1099 - accuracy: 0.9699 - val_loss: 0.1291 - val_accuracy: 0.9636\n",
      "Epoch 8/50\n",
      "480/480 [==============================] - 1s 2ms/step - loss: 0.1087 - accuracy: 0.9704 - val_loss: 0.1281 - val_accuracy: 0.9638\n",
      "Epoch 9/50\n",
      "480/480 [==============================] - 1s 2ms/step - loss: 0.1076 - accuracy: 0.9707 - val_loss: 0.1277 - val_accuracy: 0.9638\n",
      "Epoch 10/50\n",
      "480/480 [==============================] - 1s 2ms/step - loss: 0.1066 - accuracy: 0.9709 - val_loss: 0.1265 - val_accuracy: 0.9643\n",
      "Epoch 11/50\n",
      "480/480 [==============================] - 1s 2ms/step - loss: 0.1055 - accuracy: 0.9715 - val_loss: 0.1255 - val_accuracy: 0.9653\n",
      "Epoch 12/50\n",
      "480/480 [==============================] - 1s 3ms/step - loss: 0.1044 - accuracy: 0.9718 - val_loss: 0.1252 - val_accuracy: 0.9646\n",
      "Epoch 13/50\n",
      "480/480 [==============================] - 1s 2ms/step - loss: 0.1034 - accuracy: 0.9723 - val_loss: 0.1244 - val_accuracy: 0.9646\n",
      "Epoch 14/50\n",
      "480/480 [==============================] - 1s 2ms/step - loss: 0.1023 - accuracy: 0.9725 - val_loss: 0.1237 - val_accuracy: 0.9651\n",
      "Epoch 15/50\n",
      "480/480 [==============================] - 1s 2ms/step - loss: 0.1014 - accuracy: 0.9725 - val_loss: 0.1232 - val_accuracy: 0.9651\n",
      "Epoch 16/50\n",
      "480/480 [==============================] - 1s 2ms/step - loss: 0.1003 - accuracy: 0.9730 - val_loss: 0.1221 - val_accuracy: 0.9658\n",
      "Epoch 17/50\n",
      "480/480 [==============================] - 1s 2ms/step - loss: 0.0995 - accuracy: 0.9732 - val_loss: 0.1218 - val_accuracy: 0.9657\n",
      "Epoch 18/50\n",
      "480/480 [==============================] - 1s 3ms/step - loss: 0.0985 - accuracy: 0.9736 - val_loss: 0.1208 - val_accuracy: 0.9657\n",
      "Epoch 19/50\n",
      "480/480 [==============================] - 1s 2ms/step - loss: 0.0975 - accuracy: 0.9739 - val_loss: 0.1212 - val_accuracy: 0.9654\n",
      "Epoch 20/50\n",
      "480/480 [==============================] - 1s 2ms/step - loss: 0.0967 - accuracy: 0.9743 - val_loss: 0.1200 - val_accuracy: 0.9656\n",
      "Epoch 21/50\n",
      "480/480 [==============================] - 1s 2ms/step - loss: 0.0956 - accuracy: 0.9743 - val_loss: 0.1194 - val_accuracy: 0.9661\n",
      "Epoch 22/50\n",
      "480/480 [==============================] - 1s 2ms/step - loss: 0.0949 - accuracy: 0.9746 - val_loss: 0.1186 - val_accuracy: 0.9664\n",
      "Epoch 23/50\n",
      "480/480 [==============================] - 1s 2ms/step - loss: 0.0940 - accuracy: 0.9746 - val_loss: 0.1182 - val_accuracy: 0.9670\n",
      "Epoch 24/50\n",
      "480/480 [==============================] - 1s 2ms/step - loss: 0.0931 - accuracy: 0.9751 - val_loss: 0.1170 - val_accuracy: 0.9672\n",
      "Epoch 25/50\n",
      "480/480 [==============================] - 1s 2ms/step - loss: 0.0923 - accuracy: 0.9754 - val_loss: 0.1170 - val_accuracy: 0.9667\n",
      "Epoch 26/50\n",
      "480/480 [==============================] - 1s 2ms/step - loss: 0.0915 - accuracy: 0.9756 - val_loss: 0.1163 - val_accuracy: 0.9671\n",
      "Epoch 27/50\n",
      "480/480 [==============================] - 1s 2ms/step - loss: 0.0906 - accuracy: 0.9761 - val_loss: 0.1158 - val_accuracy: 0.9678\n",
      "Epoch 28/50\n",
      "480/480 [==============================] - 1s 2ms/step - loss: 0.0898 - accuracy: 0.9764 - val_loss: 0.1155 - val_accuracy: 0.9677\n",
      "Epoch 29/50\n",
      "480/480 [==============================] - 1s 2ms/step - loss: 0.0891 - accuracy: 0.9760 - val_loss: 0.1148 - val_accuracy: 0.9675\n",
      "Epoch 30/50\n",
      "480/480 [==============================] - 1s 2ms/step - loss: 0.0883 - accuracy: 0.9764 - val_loss: 0.1146 - val_accuracy: 0.9676\n",
      "Epoch 31/50\n",
      "480/480 [==============================] - 1s 2ms/step - loss: 0.0876 - accuracy: 0.9766 - val_loss: 0.1139 - val_accuracy: 0.9674\n",
      "Epoch 32/50\n",
      "480/480 [==============================] - 1s 2ms/step - loss: 0.0868 - accuracy: 0.9771 - val_loss: 0.1132 - val_accuracy: 0.9673\n",
      "Epoch 33/50\n",
      "480/480 [==============================] - 1s 2ms/step - loss: 0.0860 - accuracy: 0.9775 - val_loss: 0.1130 - val_accuracy: 0.9684\n",
      "Epoch 34/50\n",
      "480/480 [==============================] - 1s 3ms/step - loss: 0.0853 - accuracy: 0.9774 - val_loss: 0.1125 - val_accuracy: 0.9684\n",
      "Epoch 35/50\n",
      "480/480 [==============================] - 1s 2ms/step - loss: 0.0846 - accuracy: 0.9778 - val_loss: 0.1120 - val_accuracy: 0.9682\n",
      "Epoch 36/50\n",
      "480/480 [==============================] - 1s 2ms/step - loss: 0.0839 - accuracy: 0.9778 - val_loss: 0.1118 - val_accuracy: 0.9680\n",
      "Epoch 37/50\n",
      "480/480 [==============================] - 1s 2ms/step - loss: 0.0832 - accuracy: 0.9779 - val_loss: 0.1111 - val_accuracy: 0.9685\n",
      "Epoch 38/50\n",
      "480/480 [==============================] - 1s 2ms/step - loss: 0.0825 - accuracy: 0.9779 - val_loss: 0.1109 - val_accuracy: 0.9679\n",
      "Epoch 39/50\n",
      "480/480 [==============================] - 1s 2ms/step - loss: 0.0818 - accuracy: 0.9784 - val_loss: 0.1102 - val_accuracy: 0.9678\n",
      "Epoch 40/50\n",
      "480/480 [==============================] - 1s 2ms/step - loss: 0.0811 - accuracy: 0.9786 - val_loss: 0.1097 - val_accuracy: 0.9693\n",
      "Epoch 41/50\n",
      "480/480 [==============================] - 1s 2ms/step - loss: 0.0805 - accuracy: 0.9785 - val_loss: 0.1093 - val_accuracy: 0.9688\n",
      "Epoch 42/50\n",
      "480/480 [==============================] - 1s 2ms/step - loss: 0.0799 - accuracy: 0.9788 - val_loss: 0.1089 - val_accuracy: 0.9690\n",
      "Epoch 43/50\n",
      "480/480 [==============================] - 1s 2ms/step - loss: 0.0792 - accuracy: 0.9787 - val_loss: 0.1090 - val_accuracy: 0.9693\n",
      "Epoch 44/50\n",
      "480/480 [==============================] - 1s 2ms/step - loss: 0.0786 - accuracy: 0.9791 - val_loss: 0.1081 - val_accuracy: 0.9693\n",
      "Epoch 45/50\n",
      "480/480 [==============================] - 1s 2ms/step - loss: 0.0779 - accuracy: 0.9791 - val_loss: 0.1076 - val_accuracy: 0.9688\n",
      "Epoch 46/50\n",
      "480/480 [==============================] - 1s 2ms/step - loss: 0.0773 - accuracy: 0.9793 - val_loss: 0.1074 - val_accuracy: 0.9690\n",
      "Epoch 47/50\n",
      "480/480 [==============================] - 1s 2ms/step - loss: 0.0768 - accuracy: 0.9795 - val_loss: 0.1072 - val_accuracy: 0.9693\n",
      "Epoch 48/50\n",
      "480/480 [==============================] - 1s 2ms/step - loss: 0.0762 - accuracy: 0.9796 - val_loss: 0.1066 - val_accuracy: 0.9693\n",
      "Epoch 49/50\n",
      "480/480 [==============================] - 1s 2ms/step - loss: 0.0755 - accuracy: 0.9798 - val_loss: 0.1065 - val_accuracy: 0.9689\n",
      "Epoch 50/50\n",
      "480/480 [==============================] - 1s 2ms/step - loss: 0.0750 - accuracy: 0.9800 - val_loss: 0.1059 - val_accuracy: 0.9695\n"
     ]
    }
   ],
   "source": [
    "history = model.fit(X_train,Y_train,epochs=50,batch_size=batch_size,validation_split=0.2)"
   ]
  },
  {
   "cell_type": "code",
   "execution_count": 30,
   "metadata": {},
   "outputs": [
    {
     "data": {
      "image/png": "[encoded data removed]",
      "text/plain": [
       "<Figure size 432x288 with 1 Axes>"
      ]
     },
     "metadata": {
      "needs_background": "light"
     },
     "output_type": "display_data"
    }
   ],
   "source": [
    "plot_acc(history)"
   ]
  }
 ],
 "metadata": {
  "kernelspec": {
   "display_name": "Python 3",
   "language": "python",
   "name": "python3"
  },
  "language_info": {
   "codemirror_mode": {
    "name": "ipython",
    "version": 3
   },
   "file_extension": ".py",
   "mimetype": "text/x-python",
   "name": "python",
   "nbconvert_exporter": "python",
   "pygments_lexer": "ipython3",
   "version": "3.7.7"
  }
 },
 "nbformat": 4,
 "nbformat_minor": 4
}
