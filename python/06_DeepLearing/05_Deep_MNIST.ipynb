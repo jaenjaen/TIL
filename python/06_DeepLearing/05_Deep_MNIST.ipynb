{
  "nbformat": 4,
  "nbformat_minor": 0,
  "metadata": {
    "colab": {
      "name": "05_Deep_MNIST",
      "provenance": [],
      "collapsed_sections": []
    },
    "kernelspec": {
      "name": "python3",
      "display_name": "Python 3"
    },
    "accelerator": "GPU"
  },
  "cells": [
    {
      "cell_type": "markdown",
      "metadata": {
        "id": "Jx7_bh0bB740",
        "colab_type": "text"
      },
      "source": [
        "### MNIST 손글씨 예측하기"
      ]
    },
    {
      "cell_type": "code",
      "metadata": {
        "id": "uwc8pvNVCHlO",
        "colab_type": "code",
        "colab": {
          "base_uri": "https://localhost:8080/",
          "height": 34
        },
        "outputId": "eb26b3df-d13c-421d-ed6a-716b1b58e9e4"
      },
      "source": [
        "import torch\n",
        "import torch.nn as nn\n",
        "import torchvision\n",
        "import torchvision.transforms as transforms\n",
        "import matplotlib.pyplot as plt\n",
        "\n",
        "device = torch.device('cuda' if torch.cuda.is_available() else'cpu') #GPU기반의 지원 팩\n",
        "device"
      ],
      "execution_count": 36,
      "outputs": [
        {
          "output_type": "execute_result",
          "data": {
            "text/plain": [
              "device(type='cuda')"
            ]
          },
          "metadata": {
            "tags": []
          },
          "execution_count": 36
        }
      ]
    },
    {
      "cell_type": "markdown",
      "metadata": {
        "id": "h23O0U5iA2oZ",
        "colab_type": "text"
      },
      "source": [
        "### 하이퍼파라미터, DataLoader"
      ]
    },
    {
      "cell_type": "code",
      "metadata": {
        "id": "QzGj3sdhA2rw",
        "colab_type": "code",
        "colab": {}
      },
      "source": [
        "input_size = 784  #28*28*1 MNIST 사이즈\n",
        "hidden_size = 500 #hiddenLayer unit의 개수\n",
        "num_classes = 10 #최종적으로 10가 출력\n",
        "num_epochs = 5\n",
        "batch_size = 100\n",
        "learning_rate = 0.01"
      ],
      "execution_count": 37,
      "outputs": []
    },
    {
      "cell_type": "code",
      "metadata": {
        "id": "ZuS9QaGhEHmt",
        "colab_type": "code",
        "colab": {}
      },
      "source": [
        "train_dataset= torchvision.datasets.MNIST(root='../../data/',\n",
        "                           train = True,\n",
        "                           transform = transforms.ToTensor(),\n",
        "                           download = True)\n",
        "\n",
        "test_dataset = torchvision.datasets.MNIST(root='../../data/',\n",
        "                                          train=False,\n",
        "                                          transform=transforms.ToTensor()) #download는 한번만 해주면 됨 train에서 해줬으면 test에서 따로 안해줘도 사용 가능하다.\n",
        "\n",
        "'''\n",
        "2단계에 걸쳐서 데이타셋을 로딩해온다.\n",
        "DataLoader 내부적으로 멀티쓰레딩 방식으로 랩핑되어 있어서 클래스를 빠르게 로더\n",
        "한번 할 때 마다, 앞에서 정해준 것 처럼 100개씩 로딩한다.\n",
        "이 때, shuffle = True하게 되면 로딩할 때 마다, 데이타의 순서를 바꿔서\n",
        "모델이 답지를 외우는 것을 방지하는 효과를 가지고 있다.\n",
        "Test때는 필요 없음.\n",
        "'''\n",
        "train_loader = torch.utils.data.DataLoader(dataset=train_dataset,\n",
        "                                           batch_size=batch_size,\n",
        "                                           shuffle=True)\n",
        "\n",
        "test_loader = torch.utils.data.DataLoader(dataset=test_dataset,\n",
        "                                          batch_size=batch_size,\n",
        "                                          shuffle = False)\n"
      ],
      "execution_count": 38,
      "outputs": []
    },
    {
      "cell_type": "markdown",
      "metadata": {
        "id": "t9bkOq75HACs",
        "colab_type": "text"
      },
      "source": [
        "### 모델 생성하기 -- Fully Connected Network"
      ]
    },
    {
      "cell_type": "code",
      "metadata": {
        "id": "abS4pJqcEF_-",
        "colab_type": "code",
        "colab": {}
      },
      "source": [
        "class NeuralNet(nn.Module):\n",
        "  def __init__(self,input_size,hidden_size,num_classes):\n",
        "    super(NeuralNet,self).__init__()\n",
        "    self.fc1 = nn.Linear(input_size,hidden_size)\n",
        "    self.relu = nn.ReLU() # 활성화 함수\n",
        "    self.fc2 = nn.Linear(hidden_size,num_classes)\n",
        "\n",
        "  def forward(self,x):\n",
        "    out = self.fc1(x)\n",
        "    out = self.relu(out)\n",
        "    out = self.fc2(out)\n",
        "\n",
        "    return out"
      ],
      "execution_count": 39,
      "outputs": []
    },
    {
      "cell_type": "markdown",
      "metadata": {
        "id": "EgZSSnADEGDc",
        "colab_type": "text"
      },
      "source": [
        "### 인스턴스화"
      ]
    },
    {
      "cell_type": "code",
      "metadata": {
        "id": "VGosQm-BJ-gJ",
        "colab_type": "code",
        "colab": {
          "base_uri": "https://localhost:8080/",
          "height": 545
        },
        "outputId": "62d51a34-1821-4b19-bba7-31e2feb33c66"
      },
      "source": [
        "model = NeuralNet(input_size,hidden_size,num_classes).to(device)\n",
        "loss_function = nn.CrossEntropyLoss()\n",
        "optimizer = torch.optim.Adam(model.parameters(),lr=learning_rate)\n",
        "\n",
        "total_step = len(train_loader) #600\n",
        "\n",
        "for epoch in range(num_epochs): #5번\n",
        "  for i,(images,labels) in enumerate(train_loader): #100개씩 train_loader에 있는 이미지와 라벨을 묶어서 반환 #한번 돌 때 마다 100장씩 로딩한다.\n",
        "    images = images.reshape(-1,28*28).to(device) #-1? 28*28외의 정보를 -1에 다 넣음.펼치는 행위\n",
        "    labels = labels.to(device)\n",
        "\n",
        "    #forwarding\n",
        "    preds = model(images)\n",
        "    loss = loss_function(preds,labels) #두 라벨을 비교\n",
        "\n",
        "    #Backward\n",
        "    optimizer.zero_grad() #optimizer 초기화 무조건 써야함!\n",
        "    loss.backward() #각각의 weight들이 loss에 대해서 얼마나 책임을 져야하는지?\n",
        "    optimizer.step() # 실질적인 weight들의 업데이트가 진행된다.. 학습\n",
        "\n",
        "    #Epoch이 진행됨에 따라 얼마나 loss가 줄어드는지만 확인하면 됨\n",
        "    if (i+1)%100==0:\n",
        "      print('Epoch [{}/{}], Step[{}/{}], Loss: {:.3f}'.format(epoch+1,num_epochs,i+1,total_step,loss.item()))\n"
      ],
      "execution_count": 41,
      "outputs": [
        {
          "output_type": "stream",
          "text": [
            "Epoch [1/5], Step[100/600], Loss: 0.128\n",
            "Epoch [1/5], Step[200/600], Loss: 0.218\n",
            "Epoch [1/5], Step[300/600], Loss: 0.309\n",
            "Epoch [1/5], Step[400/600], Loss: 0.140\n",
            "Epoch [1/5], Step[500/600], Loss: 0.280\n",
            "Epoch [1/5], Step[600/600], Loss: 0.059\n",
            "Epoch [2/5], Step[100/600], Loss: 0.049\n",
            "Epoch [2/5], Step[200/600], Loss: 0.049\n",
            "Epoch [2/5], Step[300/600], Loss: 0.488\n",
            "Epoch [2/5], Step[400/600], Loss: 0.103\n",
            "Epoch [2/5], Step[500/600], Loss: 0.106\n",
            "Epoch [2/5], Step[600/600], Loss: 0.128\n",
            "Epoch [3/5], Step[100/600], Loss: 0.026\n",
            "Epoch [3/5], Step[200/600], Loss: 0.146\n",
            "Epoch [3/5], Step[300/600], Loss: 0.113\n",
            "Epoch [3/5], Step[400/600], Loss: 0.153\n",
            "Epoch [3/5], Step[500/600], Loss: 0.126\n",
            "Epoch [3/5], Step[600/600], Loss: 0.056\n",
            "Epoch [4/5], Step[100/600], Loss: 0.098\n",
            "Epoch [4/5], Step[200/600], Loss: 0.003\n",
            "Epoch [4/5], Step[300/600], Loss: 0.139\n",
            "Epoch [4/5], Step[400/600], Loss: 0.037\n",
            "Epoch [4/5], Step[500/600], Loss: 0.035\n",
            "Epoch [4/5], Step[600/600], Loss: 0.185\n",
            "Epoch [5/5], Step[100/600], Loss: 0.084\n",
            "Epoch [5/5], Step[200/600], Loss: 0.056\n",
            "Epoch [5/5], Step[300/600], Loss: 0.001\n",
            "Epoch [5/5], Step[400/600], Loss: 0.122\n",
            "Epoch [5/5], Step[500/600], Loss: 0.045\n",
            "Epoch [5/5], Step[600/600], Loss: 0.032\n"
          ],
          "name": "stdout"
        }
      ]
    },
    {
      "cell_type": "markdown",
      "metadata": {
        "id": "1T0rBnMwKTLu",
        "colab_type": "text"
      },
      "source": [
        "### Model Test"
      ]
    },
    {
      "cell_type": "code",
      "metadata": {
        "id": "z1bVo90fJ-Yg",
        "colab_type": "code",
        "colab": {
          "base_uri": "https://localhost:8080/",
          "height": 34
        },
        "outputId": "f7ae445f-afac-4137-fde9-b99b1ca498fc"
      },
      "source": [
        "'''\n",
        "with torch.no_grad():\n",
        "  some code\n",
        "-> code부분에서 gradient를 사용하지 않겠다. == backpropargation 안쓰겠다.\n",
        "\n",
        "with torch.grad_enabled(False):\n",
        "  some code\n",
        "위와 동일한 코드임\n",
        "\n",
        "기본적으로 Backpropargation은 *'학 습'*에 있어서 필수이다.\n",
        "메모리적인 부분에서 봤을 때, 이 부분이 동작할 수 있도록 메모리를 훨씬 더 많이 할당함\n",
        "이걸 해주면 메모리를 따로 빼는 부분을 생략한다 그렇기 때문에 하는 것과 하지 않는 것의 퍼포먼스 차이가 큼\n",
        "FCN -- 1차원으로 주욱 늘린다.  <-> CNN은 늘리지 않음 속도는 CNN이 10~100배 빠름. 그렇기 때문에 FCN으로 작업한 것은 성능적으로 CPU에서 돌아가지 못한다.\n",
        "그래서 돌리고 싶으면 GPU로 돌려야함\n",
        "FCN은 초창기 모델이라 잘 사용하지 않고, 부분적으로 사용한다(CNN에서 사용하는데 CNN에서 여러가지 기법을 사용한 뒤 맨 마지막에 FCN으로 output을 분류함.)\n",
        "'''\n",
        "\n",
        "with torch.no_grad(): # no_grad는 학습할 필요가 없을 때 넣어주는 것(== Backward 하지 않음 == (편)미분 안함)\n",
        "  correct = 0\n",
        "  total = 0\n",
        "  \n",
        "  for images,labels in test_loader:\n",
        "    images = images.reshape(-1,28*28).to(device) #안하면 에러 imges.reshpae(-1,784)형태로 넣어도 됨\n",
        "    labels = labels.to(device)\n",
        "    \n",
        "    outputs = model(images)\n",
        "    \n",
        "    #값을 찾을 때 벨류와 인덱스를 함께 리턴해야함, 근데 인덱스==라벨인 경우가 있음\n",
        "    #이런 경우 항상쓰던 entropy나 MSE를 사용하지 않는다.( 다양한 방법이 있다는 소리 )\n",
        "\n",
        "    _,predicted = torch.max(outputs.data,1) #max는 두개의 값을 return 함 -> 80,3 근데 80 안필요해서 앞에 거 버리기위해 _를 씀 (return되나, 사용하지 않는다.)\n",
        "\n",
        "    total += labels.size(0)\n",
        "    correct += (predicted == labels).sum().item()\n",
        "  print('Accuracy of Fully Connected Networks images: {}%'.format(100* correct/total))\n",
        "\n",
        "#모델 저장\n",
        "  torch.save(model.state_dict(),'model.ckpt') #모델의 weight와 bias(모델의 학습대상)을 저장한다."
      ],
      "execution_count": 68,
      "outputs": [
        {
          "output_type": "stream",
          "text": [
            "Accuracy of Fully Connected Networks images: 97.11%\n"
          ],
          "name": "stdout"
        }
      ]
    },
    {
      "cell_type": "code",
      "metadata": {
        "id": "6oJth4KkJ-VA",
        "colab_type": "code",
        "colab": {
          "base_uri": "https://localhost:8080/",
          "height": 34
        },
        "outputId": "c7502bbe-125c-4707-edff-ba2e8506a5fb"
      },
      "source": [
        "images.shape"
      ],
      "execution_count": 44,
      "outputs": [
        {
          "output_type": "execute_result",
          "data": {
            "text/plain": [
              "torch.Size([100, 784])"
            ]
          },
          "metadata": {
            "tags": []
          },
          "execution_count": 44
        }
      ]
    },
    {
      "cell_type": "code",
      "metadata": {
        "id": "gcOaKKJ9J-RC",
        "colab_type": "code",
        "colab": {
          "base_uri": "https://localhost:8080/",
          "height": 282
        },
        "outputId": "9756d488-c530-4635-e56f-dd4e00cc6619"
      },
      "source": [
        "plt.imshow(images[1].cpu().reshape(28,28)) #cpu로 바꾸고 하나로 늘렸던 이미지를 원래 형태로 돌려줘야함\n",
        "\n",
        "print(outputs[1].argmax())"
      ],
      "execution_count": 57,
      "outputs": [
        {
          "output_type": "stream",
          "text": [
            "tensor(2, device='cuda:0')\n"
          ],
          "name": "stdout"
        },
        {
          "output_type": "display_data",
          "data": {
            "image/png": "[encoded data removed]",
            "text/plain": [
              "<Figure size 432x288 with 1 Axes>"
            ]
          },
          "metadata": {
            "tags": [],
            "needs_background": "light"
          }
        }
      ]
    },
    {
      "cell_type": "code",
      "metadata": {
        "id": "Gh998-FMJ-Nk",
        "colab_type": "code",
        "colab": {
          "base_uri": "https://localhost:8080/",
          "height": 34
        },
        "outputId": "ec5333e4-546b-48a2-dac1-43fcaee8f3b2"
      },
      "source": [
        "outputs.shape"
      ],
      "execution_count": 58,
      "outputs": [
        {
          "output_type": "execute_result",
          "data": {
            "text/plain": [
              "torch.Size([100, 10])"
            ]
          },
          "metadata": {
            "tags": []
          },
          "execution_count": 58
        }
      ]
    },
    {
      "cell_type": "code",
      "metadata": {
        "id": "DJ259fWjJ-Kh",
        "colab_type": "code",
        "colab": {
          "base_uri": "https://localhost:8080/",
          "height": 1000
        },
        "outputId": "592179e4-4ff4-4d6a-f109-d6c433092082"
      },
      "source": [
        "for i in range(10):\n",
        "  plt.figure(figsize=(2,2))\n",
        "  plt.imshow(images[i].cpu().reshape(28,28))\n",
        "  print(outputs[i].argmax())"
      ],
      "execution_count": 65,
      "outputs": [
        {
          "output_type": "stream",
          "text": [
            "tensor(7, device='cuda:0')\n",
            "tensor(2, device='cuda:0')\n",
            "tensor(1, device='cuda:0')\n",
            "tensor(0, device='cuda:0')\n",
            "tensor(4, device='cuda:0')\n",
            "tensor(1, device='cuda:0')\n",
            "tensor(4, device='cuda:0')\n",
            "tensor(9, device='cuda:0')\n",
            "tensor(5, device='cuda:0')\n",
            "tensor(9, device='cuda:0')\n"
          ],
          "name": "stdout"
        },
        {
          "output_type": "display_data",
          "data": {
            "image/png": "[encoded data removed]",
            "text/plain": [
              "<Figure size 144x144 with 1 Axes>"
            ]
          },
          "metadata": {
            "tags": [],
            "needs_background": "light"
          }
        },
        {
          "output_type": "display_data",
          "data": {
            "image/png": "[encoded data removed]",
            "text/plain": [
              "<Figure size 144x144 with 1 Axes>"
            ]
          },
          "metadata": {
            "tags": [],
            "needs_background": "light"
          }
        },
        {
          "output_type": "display_data",
          "data": {
            "image/png": "[encoded data removed]",
            "text/plain": [
              "<Figure size 144x144 with 1 Axes>"
            ]
          },
          "metadata": {
            "tags": [],
            "needs_background": "light"
          }
        },
        {
          "output_type": "display_data",
          "data": {
            "image/png": "[encoded data removed]",
            "text/plain": [
              "<Figure size 144x144 with 1 Axes>"
            ]
          },
          "metadata": {
            "tags": [],
            "needs_background": "light"
          }
        },
        {
          "output_type": "display_data",
          "data": {
            "image/png": "[encoded data removed]",
            "text/plain": [
              "<Figure size 144x144 with 1 Axes>"
            ]
          },
          "metadata": {
            "tags": [],
            "needs_background": "light"
          }
        },
        {
          "output_type": "display_data",
          "data": {
            "image/png": "[encoded data removed]",
            "text/plain": [
              "<Figure size 144x144 with 1 Axes>"
            ]
          },
          "metadata": {
            "tags": [],
            "needs_background": "light"
          }
        },
        {
          "output_type": "display_data",
          "data": {
            "image/png": "[encoded data removed]",
            "text/plain": [
              "<Figure size 144x144 with 1 Axes>"
            ]
          },
          "metadata": {
            "tags": [],
            "needs_background": "light"
          }
        },
        {
          "output_type": "display_data",
          "data": {
            "image/png": "[encoded data removed]",
            "text/plain": [
              "<Figure size 144x144 with 1 Axes>"
            ]
          },
          "metadata": {
            "tags": [],
            "needs_background": "light"
          }
        },
        {
          "output_type": "display_data",
          "data": {
            "image/png": "[encoded data removed]",
            "text/plain": [
              "<Figure size 144x144 with 1 Axes>"
            ]
          },
          "metadata": {
            "tags": [],
            "needs_background": "light"
          }
        },
        {
          "output_type": "display_data",
          "data": {
            "image/png": "[encoded data removed]",
            "text/plain": [
              "<Figure size 144x144 with 1 Axes>"
            ]
          },
          "metadata": {
            "tags": [],
            "needs_background": "light"
          }
        }
      ]
    },
    {
      "cell_type": "code",
      "metadata": {
        "id": "CehenKLyJ-Gl",
        "colab_type": "code",
        "colab": {}
      },
      "source": [
        ""
      ],
      "execution_count": null,
      "outputs": []
    },
    {
      "cell_type": "code",
      "metadata": {
        "id": "cS7mIMlXJ92c",
        "colab_type": "code",
        "colab": {}
      },
      "source": [
        ""
      ],
      "execution_count": null,
      "outputs": []
    },
    {
      "cell_type": "code",
      "metadata": {
        "id": "UU98YISwJ9gF",
        "colab_type": "code",
        "colab": {}
      },
      "source": [
        ""
      ],
      "execution_count": null,
      "outputs": []
    },
    {
      "cell_type": "code",
      "metadata": {
        "id": "oemV7S8lA2zW",
        "colab_type": "code",
        "colab": {}
      },
      "source": [
        ""
      ],
      "execution_count": null,
      "outputs": []
    },
    {
      "cell_type": "code",
      "metadata": {
        "id": "2V0GhlbmA22N",
        "colab_type": "code",
        "colab": {}
      },
      "source": [
        ""
      ],
      "execution_count": null,
      "outputs": []
    },
    {
      "cell_type": "code",
      "metadata": {
        "id": "dHHNKUlTA25P",
        "colab_type": "code",
        "colab": {}
      },
      "source": [
        ""
      ],
      "execution_count": null,
      "outputs": []
    },
    {
      "cell_type": "code",
      "metadata": {
        "id": "ojt__WgRA28H",
        "colab_type": "code",
        "colab": {}
      },
      "source": [
        ""
      ],
      "execution_count": null,
      "outputs": []
    },
    {
      "cell_type": "code",
      "metadata": {
        "id": "31-_F6_TA2-7",
        "colab_type": "code",
        "colab": {}
      },
      "source": [
        ""
      ],
      "execution_count": null,
      "outputs": []
    },
    {
      "cell_type": "code",
      "metadata": {
        "id": "S6iKo-VpA3B1",
        "colab_type": "code",
        "colab": {}
      },
      "source": [
        ""
      ],
      "execution_count": null,
      "outputs": []
    }
  ]
}