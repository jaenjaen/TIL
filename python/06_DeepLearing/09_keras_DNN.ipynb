{
 "cells": [
  {
   "cell_type": "code",
   "execution_count": 1,
   "metadata": {},
   "outputs": [],
   "source": [
    "import numpy as np\n",
    "from keras import datasets\n",
    "from keras import models, layers\n",
    "from keras.utils import np_utils\n",
    "import matplotlib.pyplot as plt"
   ]
  },
  {
   "cell_type": "code",
   "execution_count": 2,
   "metadata": {},
   "outputs": [],
   "source": [
    "(X_train,y_train),(X_test,y_test)=datasets.fashion_mnist.load_data()"
   ]
  },
  {
   "cell_type": "code",
   "execution_count": 3,
   "metadata": {},
   "outputs": [
    {
     "data": {
      "text/plain": [
       "<matplotlib.image.AxesImage at 0x2027de5c548>"
      ]
     },
     "execution_count": 3,
     "metadata": {},
     "output_type": "execute_result"
    },
    {
     "data": {
      "image/png": "[encoded data removed]",
      "text/plain": [
       "<Figure size 432x288 with 1 Axes>"
      ]
     },
     "metadata": {
      "needs_background": "light"
     },
     "output_type": "display_data"
    }
   ],
   "source": [
    "plt.imshow(X_train[0],cmap='gray')"
   ]
  },
  {
   "cell_type": "code",
   "execution_count": 4,
   "metadata": {},
   "outputs": [],
   "source": [
    "L, W, H = X_train.shape\n",
    "X_train = X_train.reshape(-1,W*H)\n",
    "X_test = X_test.reshape(-1,W*H)"
   ]
  },
  {
   "cell_type": "code",
   "execution_count": 5,
   "metadata": {},
   "outputs": [],
   "source": [
    "X_train = X_train/255\n",
    "X_test = X_test/255"
   ]
  },
  {
   "cell_type": "code",
   "execution_count": 6,
   "metadata": {},
   "outputs": [],
   "source": [
    "Y_train = np_utils.to_categorical(y_train)\n",
    "Y_test = np_utils.to_categorical(y_test)"
   ]
  },
  {
   "cell_type": "code",
   "execution_count": 7,
   "metadata": {},
   "outputs": [],
   "source": [
    "model = models.Sequential()"
   ]
  },
  {
   "cell_type": "code",
   "execution_count": 21,
   "metadata": {},
   "outputs": [
    {
     "name": "stdout",
     "output_type": "stream",
     "text": [
      "Epoch 1/20\n",
      "480/480 [==============================] - 1s 3ms/step - loss: 2.1238 - accuracy: 0.3698 - val_loss: 1.8334 - val_accuracy: 0.8565\n",
      "Epoch 2/20\n",
      "480/480 [==============================] - 1s 2ms/step - loss: 1.5470 - accuracy: 0.7397 - val_loss: 1.0100 - val_accuracy: 0.8789\n",
      "Epoch 3/20\n",
      "480/480 [==============================] - 1s 2ms/step - loss: 0.9120 - accuracy: 0.8442 - val_loss: 0.5472 - val_accuracy: 0.8789\n",
      "Epoch 4/20\n",
      "480/480 [==============================] - 1s 2ms/step - loss: 0.6337 - accuracy: 0.8708 - val_loss: 0.4374 - val_accuracy: 0.8822\n",
      "Epoch 5/20\n",
      "480/480 [==============================] - 1s 2ms/step - loss: 0.5274 - accuracy: 0.8804 - val_loss: 0.4261 - val_accuracy: 0.8787\n",
      "Epoch 6/20\n",
      "480/480 [==============================] - 1s 2ms/step - loss: 0.4816 - accuracy: 0.8847 - val_loss: 0.4126 - val_accuracy: 0.8807\n",
      "Epoch 7/20\n",
      "480/480 [==============================] - 1s 2ms/step - loss: 0.4574 - accuracy: 0.8871 - val_loss: 0.4068 - val_accuracy: 0.8830\n",
      "Epoch 8/20\n",
      "480/480 [==============================] - 1s 2ms/step - loss: 0.4414 - accuracy: 0.8893 - val_loss: 0.3984 - val_accuracy: 0.8843\n",
      "Epoch 9/20\n",
      "480/480 [==============================] - 1s 2ms/step - loss: 0.4250 - accuracy: 0.8925 - val_loss: 0.4073 - val_accuracy: 0.8821\n",
      "Epoch 10/20\n",
      "480/480 [==============================] - 1s 2ms/step - loss: 0.4073 - accuracy: 0.8945 - val_loss: 0.4161 - val_accuracy: 0.8771\n",
      "Epoch 11/20\n",
      "480/480 [==============================] - 1s 2ms/step - loss: 0.4010 - accuracy: 0.8946 - val_loss: 0.4219 - val_accuracy: 0.8801\n",
      "Epoch 12/20\n",
      "480/480 [==============================] - 1s 2ms/step - loss: 0.3922 - accuracy: 0.8984 - val_loss: 0.4032 - val_accuracy: 0.8840\n",
      "Epoch 13/20\n",
      "480/480 [==============================] - 1s 2ms/step - loss: 0.3774 - accuracy: 0.9004 - val_loss: 0.4169 - val_accuracy: 0.8798\n",
      "Epoch 14/20\n",
      "480/480 [==============================] - 1s 2ms/step - loss: 0.3785 - accuracy: 0.8993 - val_loss: 0.4035 - val_accuracy: 0.8821\n",
      "Epoch 15/20\n",
      "480/480 [==============================] - 1s 3ms/step - loss: 0.3692 - accuracy: 0.9017 - val_loss: 0.4007 - val_accuracy: 0.8837\n",
      "Epoch 16/20\n",
      "480/480 [==============================] - 1s 2ms/step - loss: 0.3594 - accuracy: 0.9033 - val_loss: 0.4164 - val_accuracy: 0.8828\n",
      "Epoch 17/20\n",
      "480/480 [==============================] - 1s 2ms/step - loss: 0.3578 - accuracy: 0.9033 - val_loss: 0.4002 - val_accuracy: 0.8843\n",
      "Epoch 18/20\n",
      "480/480 [==============================] - 1s 2ms/step - loss: 0.3519 - accuracy: 0.9056 - val_loss: 0.4009 - val_accuracy: 0.8823\n",
      "Epoch 19/20\n",
      "480/480 [==============================] - 1s 2ms/step - loss: 0.3445 - accuracy: 0.9047 - val_loss: 0.4105 - val_accuracy: 0.8823\n",
      "Epoch 20/20\n",
      "480/480 [==============================] - 1s 2ms/step - loss: 0.3394 - accuracy: 0.9072 - val_loss: 0.3936 - val_accuracy: 0.8863\n",
      "100/100 [==============================] - 0s 1ms/step - loss: 0.4117 - accuracy: 0.8757\n",
      "Loss:0.4117363393306732, Accuracy:0.8756999969482422\n"
     ]
    }
   ],
   "source": [
    "model.add(layers.Dense(100,activation='relu',input_shape=(W*H,)))\n",
    "model.add(layers.Dropout(0.5)) # 절반을 가지치겠단 소리\n",
    "model.add(layers.Dense(50,activation='relu')) # input_shape는 처음에만 넣어야함\n",
    "model.add(layers.Dropout(0.25)) \n",
    "model.add(layers.Dense(10,activation='softmax'))\n",
    "\n",
    "model.compile('sgd','categorical_crossentropy',metrics=['accuracy'])\n",
    "\n",
    "model.fit(X_train,Y_train,epochs=20, batch_size=100,validation_split=0.2)\n",
    "\n",
    "model_eval=model.evaluate(X_test,Y_test, batch_size=100)\n",
    "print('Loss:{}, Accuracy:{}'.format(*model_eval))"
   ]
  },
  {
   "cell_type": "code",
   "execution_count": 9,
   "metadata": {},
   "outputs": [],
   "source": [
    "def plot_loss(history):\n",
    "    plt.plot(history.history['loss'])\n",
    "    plt.plot(history.history['val_loss'])\n",
    "    plt.title('Model Loss')\n",
    "    plt.ylabel('Loss')\n",
    "    plt.xlabel('Epoch')\n",
    "    plt.legend(['Training,Validation'])\n",
    "    \n",
    "def plot_acc(history):\n",
    "    plt.plot(history.history['accuracy'])\n",
    "    plt.plot(history.history['val_accuracy'])\n",
    "    plt.title('Model Accuracy')\n",
    "    plt.ylabel('Accuracy')\n",
    "    plt.xlabel('Epoch')\n",
    "    plt.legend(['Training,Validation'])"
   ]
  },
  {
   "cell_type": "code",
   "execution_count": 10,
   "metadata": {},
   "outputs": [
    {
     "name": "stdout",
     "output_type": "stream",
     "text": [
      "Epoch 1/50\n",
      "480/480 [==============================] - 1s 2ms/step - loss: 0.3751 - accuracy: 0.8697 - val_loss: 0.3951 - val_accuracy: 0.8641\n",
      "Epoch 2/50\n",
      "480/480 [==============================] - 1s 2ms/step - loss: 0.3708 - accuracy: 0.8707 - val_loss: 0.3933 - val_accuracy: 0.8629\n",
      "Epoch 3/50\n",
      "480/480 [==============================] - 1s 2ms/step - loss: 0.3678 - accuracy: 0.8723 - val_loss: 0.3851 - val_accuracy: 0.8658\n",
      "Epoch 4/50\n",
      "480/480 [==============================] - 1s 2ms/step - loss: 0.3648 - accuracy: 0.8730 - val_loss: 0.3864 - val_accuracy: 0.8674\n",
      "Epoch 5/50\n",
      "480/480 [==============================] - 1s 2ms/step - loss: 0.3612 - accuracy: 0.8731 - val_loss: 0.3919 - val_accuracy: 0.8627\n",
      "Epoch 6/50\n",
      "480/480 [==============================] - 1s 2ms/step - loss: 0.3583 - accuracy: 0.8750 - val_loss: 0.3893 - val_accuracy: 0.8687\n",
      "Epoch 7/50\n",
      "480/480 [==============================] - 1s 2ms/step - loss: 0.3551 - accuracy: 0.8761 - val_loss: 0.3786 - val_accuracy: 0.8678\n",
      "Epoch 8/50\n",
      "480/480 [==============================] - 1s 2ms/step - loss: 0.3519 - accuracy: 0.8764 - val_loss: 0.3795 - val_accuracy: 0.8657\n",
      "Epoch 9/50\n",
      "480/480 [==============================] - 1s 2ms/step - loss: 0.3491 - accuracy: 0.8780 - val_loss: 0.3718 - val_accuracy: 0.8708\n",
      "Epoch 10/50\n",
      "480/480 [==============================] - 1s 2ms/step - loss: 0.3462 - accuracy: 0.8791 - val_loss: 0.3727 - val_accuracy: 0.8712\n",
      "Epoch 11/50\n",
      "480/480 [==============================] - 1s 2ms/step - loss: 0.3433 - accuracy: 0.8790 - val_loss: 0.3798 - val_accuracy: 0.8698\n",
      "Epoch 12/50\n",
      "480/480 [==============================] - 1s 2ms/step - loss: 0.3402 - accuracy: 0.8803 - val_loss: 0.3677 - val_accuracy: 0.8731\n",
      "Epoch 13/50\n",
      "480/480 [==============================] - 1s 2ms/step - loss: 0.3363 - accuracy: 0.8820 - val_loss: 0.3731 - val_accuracy: 0.8701\n",
      "Epoch 14/50\n",
      "480/480 [==============================] - 1s 2ms/step - loss: 0.3351 - accuracy: 0.8827 - val_loss: 0.3963 - val_accuracy: 0.8607\n",
      "Epoch 15/50\n",
      "480/480 [==============================] - 1s 2ms/step - loss: 0.3333 - accuracy: 0.8826 - val_loss: 0.3739 - val_accuracy: 0.8659\n",
      "Epoch 16/50\n",
      "480/480 [==============================] - 1s 2ms/step - loss: 0.3296 - accuracy: 0.8835 - val_loss: 0.3716 - val_accuracy: 0.8699\n",
      "Epoch 17/50\n",
      "480/480 [==============================] - 1s 2ms/step - loss: 0.3290 - accuracy: 0.8834 - val_loss: 0.3598 - val_accuracy: 0.8773\n",
      "Epoch 18/50\n",
      "480/480 [==============================] - 1s 2ms/step - loss: 0.3251 - accuracy: 0.8858 - val_loss: 0.3669 - val_accuracy: 0.8708\n",
      "Epoch 19/50\n",
      "480/480 [==============================] - 1s 2ms/step - loss: 0.3231 - accuracy: 0.8860 - val_loss: 0.3636 - val_accuracy: 0.8750\n",
      "Epoch 20/50\n",
      "480/480 [==============================] - 1s 2ms/step - loss: 0.3202 - accuracy: 0.8869 - val_loss: 0.3618 - val_accuracy: 0.8743\n",
      "Epoch 21/50\n",
      "480/480 [==============================] - 1s 2ms/step - loss: 0.3179 - accuracy: 0.8880 - val_loss: 0.3558 - val_accuracy: 0.8768\n",
      "Epoch 22/50\n",
      "480/480 [==============================] - 1s 2ms/step - loss: 0.3161 - accuracy: 0.8883 - val_loss: 0.3533 - val_accuracy: 0.8776\n",
      "Epoch 23/50\n",
      "480/480 [==============================] - 1s 2ms/step - loss: 0.3147 - accuracy: 0.8888 - val_loss: 0.3534 - val_accuracy: 0.8773\n",
      "Epoch 24/50\n",
      "480/480 [==============================] - 1s 2ms/step - loss: 0.3124 - accuracy: 0.8890 - val_loss: 0.3542 - val_accuracy: 0.8763\n",
      "Epoch 25/50\n",
      "480/480 [==============================] - 1s 2ms/step - loss: 0.3107 - accuracy: 0.8900 - val_loss: 0.3557 - val_accuracy: 0.8752\n",
      "Epoch 26/50\n",
      "480/480 [==============================] - 1s 2ms/step - loss: 0.3079 - accuracy: 0.8907 - val_loss: 0.3641 - val_accuracy: 0.8731\n",
      "Epoch 27/50\n",
      "480/480 [==============================] - 1s 2ms/step - loss: 0.3073 - accuracy: 0.8920 - val_loss: 0.3517 - val_accuracy: 0.8779\n",
      "Epoch 28/50\n",
      "480/480 [==============================] - 1s 2ms/step - loss: 0.3044 - accuracy: 0.8916 - val_loss: 0.3652 - val_accuracy: 0.8724\n",
      "Epoch 29/50\n",
      "480/480 [==============================] - 1s 2ms/step - loss: 0.3033 - accuracy: 0.8917 - val_loss: 0.3553 - val_accuracy: 0.8758\n",
      "Epoch 30/50\n",
      "480/480 [==============================] - 1s 2ms/step - loss: 0.3010 - accuracy: 0.8936 - val_loss: 0.3452 - val_accuracy: 0.8790\n",
      "Epoch 31/50\n",
      "480/480 [==============================] - 1s 2ms/step - loss: 0.2987 - accuracy: 0.8943 - val_loss: 0.3466 - val_accuracy: 0.8792\n",
      "Epoch 32/50\n",
      "480/480 [==============================] - 1s 2ms/step - loss: 0.2969 - accuracy: 0.8935 - val_loss: 0.3424 - val_accuracy: 0.8808\n",
      "Epoch 33/50\n",
      "480/480 [==============================] - 1s 2ms/step - loss: 0.2953 - accuracy: 0.8948 - val_loss: 0.3453 - val_accuracy: 0.8806\n",
      "Epoch 34/50\n",
      "480/480 [==============================] - 1s 2ms/step - loss: 0.2923 - accuracy: 0.8957 - val_loss: 0.3446 - val_accuracy: 0.8803\n",
      "Epoch 35/50\n",
      "480/480 [==============================] - 1s 2ms/step - loss: 0.2912 - accuracy: 0.8959 - val_loss: 0.3526 - val_accuracy: 0.8763\n",
      "Epoch 36/50\n",
      "480/480 [==============================] - 1s 2ms/step - loss: 0.2894 - accuracy: 0.8966 - val_loss: 0.3424 - val_accuracy: 0.8816\n",
      "Epoch 37/50\n",
      "480/480 [==============================] - 1s 2ms/step - loss: 0.2871 - accuracy: 0.8980 - val_loss: 0.3447 - val_accuracy: 0.8808\n",
      "Epoch 38/50\n",
      "480/480 [==============================] - 1s 2ms/step - loss: 0.2863 - accuracy: 0.8981 - val_loss: 0.3389 - val_accuracy: 0.8834\n",
      "Epoch 39/50\n",
      "480/480 [==============================] - 1s 2ms/step - loss: 0.2848 - accuracy: 0.8982 - val_loss: 0.3359 - val_accuracy: 0.8821\n",
      "Epoch 40/50\n",
      "480/480 [==============================] - 1s 2ms/step - loss: 0.2829 - accuracy: 0.8988 - val_loss: 0.3558 - val_accuracy: 0.8777\n",
      "Epoch 41/50\n",
      "480/480 [==============================] - 1s 2ms/step - loss: 0.2816 - accuracy: 0.9006 - val_loss: 0.3429 - val_accuracy: 0.8801\n",
      "Epoch 42/50\n",
      "480/480 [==============================] - 1s 2ms/step - loss: 0.2805 - accuracy: 0.9004 - val_loss: 0.3395 - val_accuracy: 0.8818\n",
      "Epoch 43/50\n",
      "480/480 [==============================] - 1s 2ms/step - loss: 0.2781 - accuracy: 0.9007 - val_loss: 0.3457 - val_accuracy: 0.8791\n",
      "Epoch 44/50\n",
      "480/480 [==============================] - 1s 2ms/step - loss: 0.2768 - accuracy: 0.9000 - val_loss: 0.3351 - val_accuracy: 0.8823\n",
      "Epoch 45/50\n",
      "480/480 [==============================] - 1s 2ms/step - loss: 0.2753 - accuracy: 0.9009 - val_loss: 0.3464 - val_accuracy: 0.8783\n",
      "Epoch 46/50\n",
      "480/480 [==============================] - 1s 2ms/step - loss: 0.2729 - accuracy: 0.9024 - val_loss: 0.3549 - val_accuracy: 0.8765\n",
      "Epoch 47/50\n",
      "480/480 [==============================] - 1s 2ms/step - loss: 0.2722 - accuracy: 0.9020 - val_loss: 0.3356 - val_accuracy: 0.8823\n",
      "Epoch 48/50\n",
      "480/480 [==============================] - 1s 2ms/step - loss: 0.2704 - accuracy: 0.9034 - val_loss: 0.3328 - val_accuracy: 0.8838\n",
      "Epoch 49/50\n",
      "480/480 [==============================] - 1s 2ms/step - loss: 0.2680 - accuracy: 0.9046 - val_loss: 0.3324 - val_accuracy: 0.8848\n",
      "Epoch 50/50\n",
      "480/480 [==============================] - 1s 2ms/step - loss: 0.2666 - accuracy: 0.9044 - val_loss: 0.3419 - val_accuracy: 0.8814\n"
     ]
    }
   ],
   "source": [
    "history = model.fit(X_train,Y_train,epochs=50,batch_size=100,validation_split=0.2)"
   ]
  },
  {
   "cell_type": "code",
   "execution_count": 22,
   "metadata": {},
   "outputs": [
    {
     "data": {
      "image/png": "[encoded data removed]",
      "text/plain": [
       "<Figure size 432x288 with 1 Axes>"
      ]
     },
     "metadata": {
      "needs_background": "light"
     },
     "output_type": "display_data"
    }
   ],
   "source": [
    "plot_loss(history)\n",
    "plot_acc(history)"
   ]
  },
  {
   "cell_type": "markdown",
   "metadata": {},
   "source": [
    "### image Data Plotting"
   ]
  },
  {
   "cell_type": "code",
   "execution_count": 12,
   "metadata": {},
   "outputs": [
    {
     "data": {
      "text/plain": [
       "<matplotlib.image.AxesImage at 0x2027ce66b88>"
      ]
     },
     "execution_count": 12,
     "metadata": {},
     "output_type": "execute_result"
    },
    {
     "data": {
      "image/png": "[encoded data removed]",
      "text/plain": [
       "<Figure size 432x288 with 1 Axes>"
      ]
     },
     "metadata": {
      "needs_background": "light"
     },
     "output_type": "display_data"
    }
   ],
   "source": [
    "plt.imshow(X_train[0].reshape(W,H),cmap='gray')"
   ]
  },
  {
   "cell_type": "code",
   "execution_count": 13,
   "metadata": {},
   "outputs": [
    {
     "data": {
      "text/plain": [
       "<matplotlib.image.AxesImage at 0x2027cddb208>"
      ]
     },
     "execution_count": 13,
     "metadata": {},
     "output_type": "execute_result"
    },
    {
     "data": {
      "image/png": "[encoded data removed]",
      "text/plain": [
       "<Figure size 432x288 with 1 Axes>"
      ]
     },
     "metadata": {
      "needs_background": "light"
     },
     "output_type": "display_data"
    }
   ],
   "source": [
    "plt.imshow(X_train[100].reshape(W,H),cmap='gray')"
   ]
  },
  {
   "cell_type": "code",
   "execution_count": 14,
   "metadata": {},
   "outputs": [
    {
     "data": {
      "text/plain": [
       "<matplotlib.image.AxesImage at 0x2027cf0ee08>"
      ]
     },
     "execution_count": 14,
     "metadata": {},
     "output_type": "execute_result"
    },
    {
     "data": {
      "image/png": "[encoded data removed]",
      "text/plain": [
       "<Figure size 432x288 with 1 Axes>"
      ]
     },
     "metadata": {
      "needs_background": "light"
     },
     "output_type": "display_data"
    }
   ],
   "source": [
    "plt.imshow(X_train[200].reshape(W,H),cmap='gray')"
   ]
  },
  {
   "cell_type": "code",
   "execution_count": 15,
   "metadata": {},
   "outputs": [
    {
     "data": {
      "text/plain": [
       "<matplotlib.image.AxesImage at 0x2027cf7a848>"
      ]
     },
     "execution_count": 15,
     "metadata": {},
     "output_type": "execute_result"
    },
    {
     "data": {
      "image/png": "[encoded data removed]",
      "text/plain": [
       "<Figure size 432x288 with 1 Axes>"
      ]
     },
     "metadata": {
      "needs_background": "light"
     },
     "output_type": "display_data"
    }
   ],
   "source": [
    "plt.imshow(X_train[20000].reshape(W,H),cmap='gray')"
   ]
  },
  {
   "cell_type": "code",
   "execution_count": 20,
   "metadata": {},
   "outputs": [
    {
     "data": {
      "image/png": "[encoded data removed]",
      "text/plain": [
       "<Figure size 648x432 with 10 Axes>"
      ]
     },
     "metadata": {},
     "output_type": "display_data"
    }
   ],
   "source": [
    "row = 2\n",
    "col = 5\n",
    "\n",
    "grid = range(10)\n",
    "fig,axs = plt.subplots(nrows= row, ncols= col, figsize=(9,6),\n",
    "           subplot_kw={'xticks':[],'yticks':[]})\n",
    "\n",
    "\n",
    "for ax, idx in zip(axs.flat,grid):\n",
    "    ax.imshow(X_train[idx].reshape(W,H), cmap='gray')\n",
    "    \n",
    "plt.show()"
   ]
  },
  {
   "cell_type": "code",
   "execution_count": null,
   "metadata": {},
   "outputs": [],
   "source": []
  },
  {
   "cell_type": "code",
   "execution_count": null,
   "metadata": {},
   "outputs": [],
   "source": []
  },
  {
   "cell_type": "code",
   "execution_count": null,
   "metadata": {},
   "outputs": [],
   "source": []
  },
  {
   "cell_type": "code",
   "execution_count": null,
   "metadata": {},
   "outputs": [],
   "source": []
  },
  {
   "cell_type": "code",
   "execution_count": null,
   "metadata": {},
   "outputs": [],
   "source": []
  }
 ],
 "metadata": {
  "kernelspec": {
   "display_name": "Python 3",
   "language": "python",
   "name": "python3"
  },
  "language_info": {
   "codemirror_mode": {
    "name": "ipython",
    "version": 3
   },
   "file_extension": ".py",
   "mimetype": "text/x-python",
   "name": "python",
   "nbconvert_exporter": "python",
   "pygments_lexer": "ipython3",
   "version": "3.7.7"
  }
 },
 "nbformat": 4,
 "nbformat_minor": 4
}
