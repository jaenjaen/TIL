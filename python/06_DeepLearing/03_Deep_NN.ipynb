{
 "cells": [
  {
   "cell_type": "code",
   "execution_count": 1,
   "metadata": {},
   "outputs": [],
   "source": [
    "import torch\n",
    "import torch.nn as nn\n",
    "import numpy as np\n",
    "import matplotlib.pyplot as plt"
   ]
  },
  {
   "cell_type": "markdown",
   "metadata": {},
   "source": [
    "## Generator Toy DataSet"
   ]
  },
  {
   "cell_type": "code",
   "execution_count": 2,
   "metadata": {},
   "outputs": [],
   "source": [
    "# Toy dataset\n",
    "x_train = np.array([[3.3], [4.4], [5.5], [6.71], [6.93], [4.168], \n",
    "                    [9.779], [6.182], [7.59], [2.167], [7.042], \n",
    "                    [10.791], [5.313], [7.997], [3.1]], dtype=np.float32)\n",
    "\n",
    "y_train = np.array([[1.7], [2.76], [2.09], [3.19], [1.694], [1.573], \n",
    "                    [3.366], [2.596], [2.53], [1.221], [2.827], \n",
    "                    [3.465], [1.65], [2.904], [1.3]], dtype=np.float32)\n"
   ]
  },
  {
   "cell_type": "markdown",
   "metadata": {},
   "source": [
    "### Hyper Parameter "
   ]
  },
  {
   "cell_type": "code",
   "execution_count": 5,
   "metadata": {},
   "outputs": [],
   "source": [
    "input_size = 1 # 1차원\n",
    "output_size = 1\n",
    "num_epochs=100\n",
    "learning_rate=0.01"
   ]
  },
  {
   "cell_type": "code",
   "execution_count": 6,
   "metadata": {},
   "outputs": [],
   "source": [
    "#1. linear model Generation\n",
    "model = nn.Linear(input_size,output_size)\n",
    "\n",
    "#2. loss와 optimizer 선정\n",
    "loss_function = nn.MSELoss()\n",
    "optimizer = torch. optim.SGD(model.parameters(),lr=learning_rate)"
   ]
  },
  {
   "cell_type": "code",
   "execution_count": 8,
   "metadata": {},
   "outputs": [
    {
     "name": "stdout",
     "output_type": "stream",
     "text": [
      "Epoch[5/100], loss: 0.346\n",
      "Epoch[10/100], loss: 0.342\n",
      "Epoch[15/100], loss: 0.337\n",
      "Epoch[20/100], loss: 0.333\n",
      "Epoch[25/100], loss: 0.329\n",
      "Epoch[30/100], loss: 0.325\n",
      "Epoch[35/100], loss: 0.321\n",
      "Epoch[40/100], loss: 0.317\n",
      "Epoch[45/100], loss: 0.313\n",
      "Epoch[50/100], loss: 0.310\n",
      "Epoch[55/100], loss: 0.306\n",
      "Epoch[60/100], loss: 0.303\n",
      "Epoch[65/100], loss: 0.299\n",
      "Epoch[70/100], loss: 0.296\n",
      "Epoch[75/100], loss: 0.293\n",
      "Epoch[80/100], loss: 0.290\n",
      "Epoch[85/100], loss: 0.287\n",
      "Epoch[90/100], loss: 0.284\n",
      "Epoch[95/100], loss: 0.281\n",
      "Epoch[100/100], loss: 0.278\n"
     ]
    }
   ],
   "source": [
    "#3. Train the Model\n",
    "for epoch in range(num_epochs):\n",
    "    inputs = torch.from_numpy(x_train)\n",
    "    targets = torch.from_numpy(y_train)\n",
    "    \n",
    "    #forward\n",
    "    outputs = model(inputs)\n",
    "    loss = loss_function(outputs,targets)\n",
    "    \n",
    "    optimizer.zero_grad()#안하면 에러 (초기화)\n",
    "    loss.backward()\n",
    "    \n",
    "    #학습진행\n",
    "    optimizer.step()\n",
    "    \n",
    "    if (epoch+1)%5==0:\n",
    "        print('Epoch[{}/{}], loss: {:.3f}'.format(epoch+1,num_epochs,loss.item()))"
   ]
  }
 ],
 "metadata": {
  "kernelspec": {
   "display_name": "Python 3",
   "language": "python",
   "name": "python3"
  },
  "language_info": {
   "codemirror_mode": {
    "name": "ipython",
    "version": 3
   },
   "file_extension": ".py",
   "mimetype": "text/x-python",
   "name": "python",
   "nbconvert_exporter": "python",
   "pygments_lexer": "ipython3",
   "version": "3.7.7"
  }
 },
 "nbformat": 4,
 "nbformat_minor": 4
}
