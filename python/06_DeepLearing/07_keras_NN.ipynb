{
 "cells": [
  {
   "cell_type": "code",
   "execution_count": 1,
   "metadata": {},
   "outputs": [],
   "source": [
    "import keras\n",
    "from keras import models, layers\n",
    "import numpy as np"
   ]
  },
  {
   "cell_type": "code",
   "execution_count": 2,
   "metadata": {},
   "outputs": [
    {
     "name": "stdout",
     "output_type": "stream",
     "text": [
      "[0 1 2 3 4]\n",
      "[1 3 5 7 9]\n"
     ]
    }
   ],
   "source": [
    "x = np.array([0,1,2,3,4])\n",
    "y = 2*x+1\n",
    "print(x)\n",
    "print(y)"
   ]
  },
  {
   "cell_type": "code",
   "execution_count": 3,
   "metadata": {},
   "outputs": [],
   "source": [
    "#2. Model Generator\n",
    "model = models.Sequential()\n",
    "'''\n",
    "dense는 FCN만들때 쓰고\n",
    " **kwargs : input_shape는 지정된 변수가 아니기때문에 꼭 알아서 잘 넣어주고 튜플 형태로 넣어야함\n",
    "units - 히든레이어 유닛의 갯수\n",
    "'''\n",
    "model.add(layers.Dense(1,input_shape=(1,)))"
   ]
  },
  {
   "cell_type": "code",
   "execution_count": 4,
   "metadata": {},
   "outputs": [],
   "source": [
    "#3. optimizer에 해당하는 부분, loss에 해당하는 부분\n",
    "model.compile(optimizer=keras.optimizers.SGD(0.01),loss='mse',metrics=['accuracy'])"
   ]
  },
  {
   "cell_type": "code",
   "execution_count": 6,
   "metadata": {},
   "outputs": [
    {
     "data": {
      "text/plain": [
       "<tensorflow.python.keras.callbacks.History at 0x25b1e930e48>"
      ]
     },
     "execution_count": 6,
     "metadata": {},
     "output_type": "execute_result"
    }
   ],
   "source": [
    "#4. 학습을 진행\n",
    "model.fit(x[:4],y[:4],epochs=100,verbose=0) #verbose = 0 model tracing안함"
   ]
  },
  {
   "cell_type": "code",
   "execution_count": 11,
   "metadata": {},
   "outputs": [
    {
     "name": "stdout",
     "output_type": "stream",
     "text": [
      "Prediction:  [[7.06136]\n",
      " [9.1323 ]] [7 9]\n"
     ]
    }
   ],
   "source": [
    "#5.예측 \n",
    "print('Prediction: ',model.predict(x[3:]),y[3:])"
   ]
  },
  {
   "cell_type": "code",
   "execution_count": 12,
   "metadata": {},
   "outputs": [
    {
     "name": "stdout",
     "output_type": "stream",
     "text": [
      "1/1 [==============================] - 0s 0s/step - loss: 0.0106 - accuracy: 0.0000e+00\n",
      "[0.010634212754666805, 0.0]\n"
     ]
    }
   ],
   "source": [
    "#6.Evaluate\n",
    "loss_function = model.evaluate(x[3:],y[3:])\n",
    "print(loss_function) #[0.010634212754666805, 0.0]  loss와 accuracy함께 출력"
   ]
  },
  {
   "cell_type": "code",
   "execution_count": 16,
   "metadata": {},
   "outputs": [
    {
     "name": "stdout",
     "output_type": "stream",
     "text": [
      "1/1 [==============================] - 0s 2ms/step - loss: 0.0106 - accuracy: 0.0000e+00\n",
      "Loss:0.010634212754666805, Accuracy: 0.0\n"
     ]
    }
   ],
   "source": [
    "eval_model = model.evaluate(x[3:],y[3:])\n",
    "print('Loss:{}, Accuracy: {}'.format(*eval_model)) #*안의 변수가 몇개인지 모를 때 *를 활용해서 출력"
   ]
  }
 ],
 "metadata": {
  "kernelspec": {
   "display_name": "Python 3",
   "language": "python",
   "name": "python3"
  },
  "language_info": {
   "codemirror_mode": {
    "name": "ipython",
    "version": 3
   },
   "file_extension": ".py",
   "mimetype": "text/x-python",
   "name": "python",
   "nbconvert_exporter": "python",
   "pygments_lexer": "ipython3",
   "version": "3.7.7"
  }
 },
 "nbformat": 4,
 "nbformat_minor": 4
}
