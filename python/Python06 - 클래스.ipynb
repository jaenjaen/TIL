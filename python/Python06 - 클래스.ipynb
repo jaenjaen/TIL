{
 "cells": [
  {
   "cell_type": "markdown",
   "metadata": {},
   "source": [
    "### Class"
   ]
  },
  {
   "cell_type": "code",
   "execution_count": 15,
   "metadata": {},
   "outputs": [],
   "source": [
    "class Person:\n",
    "    def __init__(self,name,age,addr): #초기화\n",
    "        self.name = name\n",
    "        self.age = age\n",
    "        self.addr = addr\n",
    "    \n",
    "    def greeting(self): #self - person Class의 Method란 의미\n",
    "        print('Hi?',self.name)\n",
    "    def sayHello(self):\n",
    "        self.greeting()\n",
    "        print('oh-e-oh!')"
   ]
  },
  {
   "cell_type": "code",
   "execution_count": 16,
   "metadata": {},
   "outputs": [],
   "source": [
    "person1 = Person('Rose',23,\"Au\")\n",
    "person2 = Person('JiSoo',25,\"Kr\")\n",
    "person3 = Person('Jennie',24,\"Nz\")\n",
    "person4 = Person('Risa',23,\"Th\")"
   ]
  },
  {
   "cell_type": "code",
   "execution_count": 17,
   "metadata": {},
   "outputs": [
    {
     "name": "stdout",
     "output_type": "stream",
     "text": [
      "Hi? Rose\n",
      "oh-e-oh!\n",
      "Hi? JiSoo\n",
      "oh-e-oh!\n",
      "Hi? Jennie\n",
      "oh-e-oh!\n",
      "Hi? Risa\n",
      "oh-e-oh!\n"
     ]
    }
   ],
   "source": [
    "person1.sayHello()\n",
    "person2.sayHello()\n",
    "person3.sayHello()\n",
    "person4.sayHello()"
   ]
  }
 ],
 "metadata": {
  "kernelspec": {
   "display_name": "Python 3",
   "language": "python",
   "name": "python3"
  },
  "language_info": {
   "codemirror_mode": {
    "name": "ipython",
    "version": 3
   },
   "file_extension": ".py",
   "mimetype": "text/x-python",
   "name": "python",
   "nbconvert_exporter": "python",
   "pygments_lexer": "ipython3",
   "version": "3.7.6"
  }
 },
 "nbformat": 4,
 "nbformat_minor": 4
}
