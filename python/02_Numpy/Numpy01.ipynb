{
 "cells": [
  {
   "cell_type": "markdown",
   "metadata": {},
   "source": [
    "### numpy 배열 생성하기\n",
    "\n",
    "1. import 해야 사용가능하고\n",
    "2. array() 사용\n",
    "3. random의 함수들 사용"
   ]
  },
  {
   "cell_type": "code",
   "execution_count": 1,
   "metadata": {},
   "outputs": [],
   "source": [
    "import numpy as np"
   ]
  },
  {
   "cell_type": "code",
   "execution_count": 6,
   "metadata": {
    "collapsed": true
   },
   "outputs": [
    {
     "name": "stdout",
     "output_type": "stream",
     "text": [
      "[4, 5, 6, 7]\n",
      "[4 5 6 7]\n",
      "<class 'list'>\n",
      "<class 'numpy.ndarray'>\n"
     ]
    }
   ],
   "source": [
    "#1. array()를 사용해서 np배열을 생성\n",
    "'''\n",
    "1. list는 출력결과가 [] 안에 ,로 구분\n",
    "2. npArray는 출력결과가 [] 안에 ,로 구분되지 않음. (정식적으로 print안에 넣어서 출력시)\n",
    "3. np배열은 nparr객체 타입으로 나온다.\n",
    "   ndarray객체 다차원 행렬구조를 지원하는 numpy의 핵심 구조이다.\n",
    "'''\n",
    "\n",
    "myList = [4,5,6,7]\n",
    "print(myList)\n",
    "\n",
    "myArr = np.array(myList)\n",
    "print(myArr)\n",
    "\n",
    "print(type(myList))\n",
    "print(type(myArr))"
   ]
  },
  {
   "cell_type": "code",
   "execution_count": 18,
   "metadata": {
    "collapsed": true
   },
   "outputs": [
    {
     "name": "stdout",
     "output_type": "stream",
     "text": [
      "[5, 6]\n",
      "[-5  6]\n",
      "[-5, 6]\n",
      "[-5  6]\n",
      "[4, 5, 6, 7]\n",
      "[ 4 -5  6  7]\n"
     ]
    }
   ],
   "source": [
    "subL = myList[1:3]\n",
    "print(subL)\n",
    "\n",
    "subA = myArr[1:3]\n",
    "print(subA)\n",
    "\n",
    "subL[0] =-5\n",
    "subA[0] = -5\n",
    "\n",
    "print(subL)\n",
    "print(subA)\n",
    "\n",
    "print(myList)\n",
    "print(myArr) #numpy 배열은 리스트와 동일하지만, 슬라이싱한 객체를 변경하면 원본객체도 변경됨"
   ]
  },
  {
   "cell_type": "code",
   "execution_count": 102,
   "metadata": {
    "collapsed": true
   },
   "outputs": [
    {
     "name": "stdout",
     "output_type": "stream",
     "text": [
      "[0.64278724 0.75568852 0.43866655 0.0831498  0.65137002]\n",
      "<class 'numpy.ndarray'>\n",
      "[4 6 2 8 4]\n",
      "[ 1.63493131  1.36808741 -1.56929857 -0.91085874 -1.73342579 -0.64964521\n",
      "  0.37896396  0.84512045  0.05617546  0.90340244]\n"
     ]
    }
   ],
   "source": [
    "#2. 랜덤함수 사용해서 생성.\n",
    "# rand(개수), randint()\n",
    "\n",
    "a= np.random.rand(5)\n",
    "print(a)\n",
    "print(type(a)) \n",
    "\n",
    "b= np. random.randint(1,10,5) #1~9\n",
    "print(b)\n",
    "\n",
    "c = np.random.randn(10)#가우시안 정규분포\n",
    "print(c)"
   ]
  },
  {
   "cell_type": "code",
   "execution_count": 29,
   "metadata": {
    "collapsed": true
   },
   "outputs": [
    {
     "name": "stdout",
     "output_type": "stream",
     "text": [
      "[1, 2, 3, '4', 5, 6, 7]\n",
      "['1' '2' '3' '4' '5' '6' '7']\n",
      "[ 1.  2.  3.  4. 33.  2.  5.]\n",
      "[1 2 3 4 5]\n"
     ]
    }
   ],
   "source": [
    "#list와의 차이점\n",
    "'''\n",
    "list는 서로 다른 자료형이 묶일 수 있음\n",
    "array는 서로 다른 자료형이 묶일 수 없음\n",
    "    - 서로 다른 자료형을 넣으면 범위가 큰 데이터 타입으로 묶인다 (정수vs문자->문자 정수vs실수->실수)\n",
    "아래와 같은 제약을 가지는 이유는 내부 원소에 대한 접근과 반복문 실행을 빨리하기 위함임\n",
    "'''\n",
    "li = [1,2,3,'4',5,6,7] \n",
    "arr = np.array(li) \n",
    "arr2 = np.array([1,2,3,4.0,33,2,5])\n",
    "arr3 = np.array([1.0,2.0,3.0,4.0,5.0], dtype=\"int32\") #dtype :int32 , float32.. \n",
    "print(li)\n",
    "print(arr)\n",
    "print(arr2)\n",
    "print(arr3)"
   ]
  },
  {
   "cell_type": "markdown",
   "metadata": {},
   "source": [
    "### 배열 초기화"
   ]
  },
  {
   "cell_type": "code",
   "execution_count": 25,
   "metadata": {
    "collapsed": true
   },
   "outputs": [
    {
     "name": "stdout",
     "output_type": "stream",
     "text": [
      "[0. 0. 0. 0. 0. 0. 0. 0. 0. 0.]\n",
      "[1. 1. 1. 1. 1. 1. 1. 1. 1. 1.]\n",
      "[3. 3. 3. 3. 3. 3. 3. 3. 3. 3.]\n",
      "[[1. 0. 0.]\n",
      " [0. 1. 0.]\n",
      " [0. 0. 1.]]\n",
      "[0 1 2]\n",
      "[0 1 2]\n",
      "[3 5 7 9]\n",
      "[[-11 -11 -11 -11 -11]\n",
      " [-11 -11 -11 -11 -11]\n",
      " [-11 -11 -11 -11 -11]\n",
      " [-11 -11 -11 -11 -11]\n",
      " [-11 -11 -11 -11 -11]]\n"
     ]
    }
   ],
   "source": [
    "# 1. 0 값으로 초기화 zeros()로 사용\n",
    "az = np.zeros(10) # 0.0으로 초기화 됨\n",
    "print(az)\n",
    "\n",
    "#2. 1값으로 초기화 ones()\n",
    "ao = np.ones(10)\n",
    "print(ao)\n",
    "\n",
    "#3. 3값으로 초기화? \n",
    "am = np.zeros(10)+3\n",
    "print(am)\n",
    "\n",
    "#4.\n",
    "ae = np.eye(3) #3자리에 n을 넣으면 n*n 초기화의 의미보다 그냥 행렬을 만들어 놓는것\n",
    "print(ae)\n",
    "\n",
    "#5. arrage()\n",
    "print(np.arange(3))\n",
    "print(np.arange(0,3))\n",
    "print(np.arange(3,10,2))\n",
    "\n",
    "#6. full()\n",
    "af = np.full((5,5),-11.0, dtype='int32') #shape:행과열 (1차원 배열은 숫자만, 2차원배열은 (n,n)의 형태) dtype은 값의 형태\n",
    "print(af)"
   ]
  },
  {
   "cell_type": "markdown",
   "metadata": {},
   "source": [
    "### Numpy 배열의 속성과 기본함수\n",
    "1. ndim : 차원 확인\n",
    "2. shape : 몇행 몇열인지?\n",
    "3. reshape : 1차원을 2차원으로 바꿀 수 있음(차원을 바꿈, 전체 데이터 개수는 동일)\n",
    "4. size : 요소의 개수\n",
    "5. dtype : 속성\n",
    "6. type(): 객체의 변수값을 알 수 있음"
   ]
  },
  {
   "cell_type": "code",
   "execution_count": 33,
   "metadata": {
    "collapsed": true
   },
   "outputs": [
    {
     "name": "stdout",
     "output_type": "stream",
     "text": [
      "[[1 2 3]\n",
      " [4 5 6]]\n"
     ]
    }
   ],
   "source": [
    "# arr1= np.array([[1.0,2,3],[4,5,6]],dtype=\"int32\")\n",
    "arr1= np.array([[1.0,2,3],[4,5,6]],dtype = np.int32)\n",
    "print(arr1)"
   ]
  },
  {
   "cell_type": "code",
   "execution_count": 46,
   "metadata": {
    "collapsed": true
   },
   "outputs": [
    {
     "name": "stdout",
     "output_type": "stream",
     "text": [
      "<class 'numpy.ndarray'>\n",
      "2\n",
      "(2, 3)\n",
      "6\n",
      "\n",
      "******************************\n",
      "\n",
      "[[1. 2. 3.]\n",
      " [4. 5. 6.]]\n",
      "<class 'numpy.ndarray'>\n",
      "\n",
      "******************************\n",
      "\n",
      "[ 0  1  2  3  4  5  6  7  8  9 10 11 12 13 14 15 16 17 18 19 20 21 22 23\n",
      " 24 25 26 27 28 29 30 31]\n",
      "[[ 0  1  2  3]\n",
      " [ 4  5  6  7]\n",
      " [ 8  9 10 11]\n",
      " [12 13 14 15]\n",
      " [16 17 18 19]\n",
      " [20 21 22 23]\n",
      " [24 25 26 27]\n",
      " [28 29 30 31]]\n"
     ]
    }
   ],
   "source": [
    "print(type(arr1))\n",
    "print(np.ndim(arr1))\n",
    "print(np.shape(arr1))\n",
    "print(np.size(arr1))\n",
    "print()\n",
    "print('*'*30)\n",
    "print()\n",
    "#arr1 배열의 요소값 타입을 한번에 바꿀때 사용\n",
    "arr1_1 = arr1.astype(np.float64) # astype() == dtype 요소에 해당하는것들을 변경해줌\n",
    "print(arr1_1)\n",
    "print(type(arr1_1))\n",
    "print()\n",
    "print('*'*30)\n",
    "print()\n",
    "arr2 = np.arange(32)\n",
    "arr2_1 = arr2.reshape(8,4)\n",
    "print(arr2)\n",
    "print(arr2_1)"
   ]
  },
  {
   "cell_type": "markdown",
   "metadata": {},
   "source": [
    "### 랜덤함수와 seed값 설정하기 \n",
    "\n",
    "Numpy의 Random 모듈(SubPackage)에는 난수를 생성하는 다양한 함수들이 존재\n",
    "그 중에서 가장 많이 사용되는 3가지를 정리\n",
    "\n",
    "- rand(행,열): 0~1사이의 실수값을 반환\n",
    "- randn(행,열) : 가우시안 정규분포값\n",
    "- randint(row,high,size) :\n",
    "\n",
    "seed : random이지만 특정한 시작 숫자를 정하고 싶으면 seed사용"
   ]
  },
  {
   "cell_type": "code",
   "execution_count": 48,
   "metadata": {},
   "outputs": [
    {
     "data": {
      "text/plain": [
       "array([[-0.33301831, -0.39556019, -0.17045541, -1.72289011],\n",
       "       [-0.84563038, -0.42696902, -0.05909355,  0.6742449 ],\n",
       "       [-0.29702644, -0.69544038,  1.17745178,  1.5172785 ],\n",
       "       [-0.88485359,  1.34253173, -1.62058557,  0.47549103]])"
      ]
     },
     "execution_count": 48,
     "metadata": {},
     "output_type": "execute_result"
    }
   ],
   "source": [
    "arr3 = np.random.randn(4,4)\n",
    "arr3"
   ]
  },
  {
   "cell_type": "code",
   "execution_count": 50,
   "metadata": {},
   "outputs": [
    {
     "data": {
      "text/plain": [
       "array([[-1.18269089,  1.33746165, -0.31430504,  0.5566431 ],\n",
       "       [-0.20929933, -0.01180037,  1.23493345, -0.04341894],\n",
       "       [-0.68178724,  1.20069197,  1.34394438, -0.834109  ],\n",
       "       [ 1.0359977 ,  1.6657991 ,  0.94947856,  1.06700952]])"
      ]
     },
     "execution_count": 50,
     "metadata": {},
     "output_type": "execute_result"
    }
   ],
   "source": [
    "# seed값 설정하기\n",
    "#특정한 시작 숫자를 제공해서 난수를 발생-> 고정적인 난수가 발생\n",
    "#실행할때마다 난수값이 바뀌지 않기 때문에 분석결과를 확인하는데 용이하다\n",
    "#seed값은 한번만 정해주면 계속 유지되고 음수값은 안됨\n",
    "\n",
    "np.random.seed(404) # 시드값이 같으면 랜덤값도 같음\n",
    "arr3 = np.random.randn(4,4)\n",
    "arr3"
   ]
  },
  {
   "cell_type": "code",
   "execution_count": null,
   "metadata": {},
   "outputs": [],
   "source": []
  },
  {
   "cell_type": "code",
   "execution_count": null,
   "metadata": {},
   "outputs": [],
   "source": []
  },
  {
   "cell_type": "code",
   "execution_count": null,
   "metadata": {},
   "outputs": [],
   "source": []
  },
  {
   "cell_type": "code",
   "execution_count": null,
   "metadata": {},
   "outputs": [],
   "source": []
  },
  {
   "cell_type": "code",
   "execution_count": null,
   "metadata": {},
   "outputs": [],
   "source": []
  },
  {
   "cell_type": "code",
   "execution_count": null,
   "metadata": {},
   "outputs": [],
   "source": []
  },
  {
   "cell_type": "code",
   "execution_count": null,
   "metadata": {},
   "outputs": [],
   "source": []
  }
 ],
 "metadata": {
  "kernelspec": {
   "display_name": "Python 3",
   "language": "python",
   "name": "python3"
  },
  "language_info": {
   "codemirror_mode": {
    "name": "ipython",
    "version": 3
   },
   "file_extension": ".py",
   "mimetype": "text/x-python",
   "name": "python",
   "nbconvert_exporter": "python",
   "pygments_lexer": "ipython3",
   "version": "3.7.6"
  }
 },
 "nbformat": 4,
 "nbformat_minor": 4
}
