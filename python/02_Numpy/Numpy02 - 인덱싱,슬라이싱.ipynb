{
 "cells": [
  {
   "cell_type": "markdown",
   "metadata": {},
   "source": [
    "### 인덱싱, 슬라이싱"
   ]
  },
  {
   "cell_type": "code",
   "execution_count": 1,
   "metadata": {},
   "outputs": [],
   "source": [
    "import numpy as np"
   ]
  },
  {
   "cell_type": "code",
   "execution_count": 3,
   "metadata": {},
   "outputs": [
    {
     "data": {
      "text/plain": [
       "array([0, 1, 2, 3, 4])"
      ]
     },
     "execution_count": 3,
     "metadata": {},
     "output_type": "execute_result"
    }
   ],
   "source": [
    "narr = np.arange(5)\n",
    "narr"
   ]
  },
  {
   "cell_type": "code",
   "execution_count": 9,
   "metadata": {},
   "outputs": [
    {
     "name": "stdout",
     "output_type": "stream",
     "text": [
      "1 4\n",
      "[1 2 3 4]\n",
      "[0 1 2 3 4]\n",
      "[2 3]\n"
     ]
    }
   ],
   "source": [
    "print(narr[1],narr[-1])\n",
    "print(narr[1:])\n",
    "print(narr[:])\n",
    "print(narr[2:4])"
   ]
  },
  {
   "cell_type": "code",
   "execution_count": null,
   "metadata": {},
   "outputs": [],
   "source": [
    "'''\n",
    "2차원 배열에서의 인덱싱, 슬라이싱\n",
    "인덱스는 [,] 콤마를 기준으로 두개의 인자를 받는다\n",
    "앞 인자값은 행의 idx, 뒤의 인자값은 열의 idx\n",
    "\n",
    ",없이 넣으면 모든 행과 모든 열을 포함한다.\n",
    "'''"
   ]
  },
  {
   "cell_type": "code",
   "execution_count": 35,
   "metadata": {},
   "outputs": [
    {
     "name": "stdout",
     "output_type": "stream",
     "text": [
      "[[ 8  3  7 15]\n",
      " [16 10  2  2]\n",
      " [ 2 14  2 17]\n",
      " [16 15  4 11]]\n"
     ]
    }
   ],
   "source": [
    "np.random.seed(100) #seed는 한번만 줘도 전체페이지에서 적용됨\n",
    "narr1 = np.random.randint(0,20,16).reshape(4,4)\n",
    "print(narr1)"
   ]
  },
  {
   "cell_type": "code",
   "execution_count": 46,
   "metadata": {},
   "outputs": [
    {
     "name": "stdout",
     "output_type": "stream",
     "text": [
      "7\n",
      "[16 10  2  2]\n",
      "[16 10  2  2]\n",
      "[16 10  2  2]\n",
      "[[16 10  2  2]]\n",
      "[15  2 17 11]\n",
      "[15  2 17 11]\n",
      "[[15]\n",
      " [ 2]\n",
      " [17]\n",
      " [11]]\n",
      "[[15]\n",
      " [ 2]\n",
      " [17]\n",
      " [11]]\n",
      "[[ 3  7]\n",
      " [10  2]\n",
      " [14  2]\n",
      " [15  4]]\n"
     ]
    }
   ],
   "source": [
    "#1. narr1에서 첫번째줄 7을 가져올것\n",
    "print(narr1[0,2])\n",
    "\n",
    "#2. 두번째라인 [16,10,2,2]\n",
    "print(narr1[1,])\n",
    "print(narr1[1,0:])\n",
    "print(narr1[1,:])\n",
    "print(narr1[1:2,:]) #2차원으로 출력됨\n",
    "\n",
    "#3. 전체행에 대해서 4번째 열만 다 가져오려면? \n",
    "print(narr1[:,3])\n",
    "print(narr1[0:4,3])\n",
    "print(narr1[0:4,3:4])\n",
    "print(narr1[0:4,3:])\n",
    "# print(narr1[,3]) 안됨\n",
    "\n",
    "#4. 전체행에 대해서 1,2번째 열만 가져올것.\n",
    "print(narr1[:,1:3])"
   ]
  },
  {
   "cell_type": "markdown",
   "metadata": {},
   "source": [
    "### 인덱싱과 조건 슬라이싱"
   ]
  },
  {
   "cell_type": "code",
   "execution_count": 75,
   "metadata": {},
   "outputs": [
    {
     "name": "stdout",
     "output_type": "stream",
     "text": [
      "[[ 1.76405235  0.40015721  0.97873798  2.2408932 ]\n",
      " [ 1.86755799 -0.97727788  0.95008842 -0.15135721]\n",
      " [-0.10321885  0.4105985   0.14404357  1.45427351]\n",
      " [ 0.76103773  0.12167502  0.44386323  0.33367433]]\n"
     ]
    }
   ],
   "source": [
    "np.random.seed(0)\n",
    "arr3 = np.random.randn(4,4)\n",
    "print(arr3)"
   ]
  },
  {
   "cell_type": "code",
   "execution_count": 54,
   "metadata": {},
   "outputs": [
    {
     "name": "stdout",
     "output_type": "stream",
     "text": [
      "[1.76405235 0.40015721 0.97873798 2.2408932  1.86755799 0.95008842\n",
      " 0.4105985  0.14404357 1.45427351 0.76103773 0.12167502 0.44386323\n",
      " 0.33367433]\n",
      "[-0.97727788 -0.15135721 -0.10321885]\n",
      "[[1.76405235 0.40015721 0.97873798 2.2408932 ]\n",
      " [1.86755799 0.         0.95008842 0.        ]\n",
      " [0.         0.4105985  0.14404357 1.45427351]\n",
      " [0.76103773 0.12167502 0.44386323 0.33367433]]\n"
     ]
    }
   ],
   "source": [
    "#1. 논리연산자 사용\n",
    "print(arr3[arr3>0])\n",
    "print(arr3[arr3<0])\n",
    "\n",
    "#2. 0보다 작은 값은 전부 0으로 치환\n",
    "arr3[arr3<0] = 0\n",
    "print(arr3) #원본도 바뀜 "
   ]
  },
  {
   "cell_type": "markdown",
   "metadata": {},
   "source": [
    "### 3. WHERE 함수\n"
   ]
  },
  {
   "cell_type": "code",
   "execution_count": 65,
   "metadata": {},
   "outputs": [
    {
     "name": "stdout",
     "output_type": "stream",
     "text": [
      "[[ 1.76405235  0.40015721  0.97873798  2.2408932 ]\n",
      " [ 1.86755799 -1.          0.95008842 -1.        ]\n",
      " [-1.          0.4105985   0.14404357  1.45427351]\n",
      " [ 0.76103773  0.12167502  0.44386323  0.33367433]]\n"
     ]
    }
   ],
   "source": [
    "'''\n",
    "arr3가 0보다 크면 arr3를 그대로 리턴\n",
    "arr3가 0 보다 작으면 -1로 리턴\n",
    "'''\n",
    "\n",
    "arr3_1 =np.where(arr3>0,arr3,-1) #각각의 항을 조건식과 비교한 다음 명시된 값으로 변경해줌\n",
    "print(arr3_1)"
   ]
  },
  {
   "cell_type": "code",
   "execution_count": 71,
   "metadata": {},
   "outputs": [
    {
     "name": "stdout",
     "output_type": "stream",
     "text": [
      "[3 4 5 6]\n"
     ]
    }
   ],
   "source": [
    "a = np.array([[1,2],[3,4],[5,6]])\n",
    "bool_a = (a>2)\n",
    "print(a[bool_a]) #알아서 비교해서 TRUE인 값만 출력"
   ]
  },
  {
   "cell_type": "markdown",
   "metadata": {},
   "source": [
    "###  통계함수\n",
    "- sum(데이터,axis) : 합 axis=0 행끼리의 합(한 열을 다 더하는것) axis=1 열끼리의 합(한 행을 다 더하는 것)\n",
    "- min() : 최소\n",
    "- max() : 최대\n",
    "- mean() : 평균\n",
    "- argmin() :\n",
    "- argmax() :\n",
    "- comsum() : 누적합"
   ]
  },
  {
   "cell_type": "code",
   "execution_count": 76,
   "metadata": {},
   "outputs": [
    {
     "name": "stdout",
     "output_type": "stream",
     "text": [
      "[[18  3 17 19]\n",
      " [19 19 14  7]\n",
      " [ 0  1  9  0]\n",
      " [10  3 11 18]]\n"
     ]
    }
   ],
   "source": [
    "arr4 = np.random.randint(0,20,16).reshape(4,4)\n",
    "print(arr4)"
   ]
  },
  {
   "cell_type": "code",
   "execution_count": 87,
   "metadata": {},
   "outputs": [
    {
     "name": "stdout",
     "output_type": "stream",
     "text": [
      "168\n",
      "[47 26 51 44]\n",
      "[57 59 10 42]\n",
      "[[18  3 17 19]\n",
      " [37 22 31 26]\n",
      " [37 23 40 26]\n",
      " [47 26 51 44]]\n",
      "[1 1 0 0]\n"
     ]
    }
   ],
   "source": [
    "print(np.sum(arr4))\n",
    "print(np.sum(arr4,axis=0))\n",
    "print(np.sum(arr4,axis=1))\n",
    "print(np.cumsum(arr4, axis=0)) # 첫째행+둘째행+,,,+n번째행\n",
    "\n",
    "print(np.argmax(arr4,axis=0)) #제일 큰 값의 인덱스를 반황함"
   ]
  }
 ],
 "metadata": {
  "kernelspec": {
   "display_name": "Python 3",
   "language": "python",
   "name": "python3"
  },
  "language_info": {
   "codemirror_mode": {
    "name": "ipython",
    "version": 3
   },
   "file_extension": ".py",
   "mimetype": "text/x-python",
   "name": "python",
   "nbconvert_exporter": "python",
   "pygments_lexer": "ipython3",
   "version": "3.7.6"
  }
 },
 "nbformat": 4,
 "nbformat_minor": 4
}
