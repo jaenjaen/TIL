{
 "cells": [
  {
   "cell_type": "markdown",
   "metadata": {},
   "source": [
    "### 조건문,제어문(if, elif, else)"
   ]
  },
  {
   "cell_type": "code",
   "execution_count": 2,
   "metadata": {},
   "outputs": [
    {
     "name": "stdout",
     "output_type": "stream",
     "text": [
      "a is 3\n"
     ]
    }
   ],
   "source": [
    "a = 3\n",
    "if a%2 == 0:\n",
    "    print('even')\n",
    "else:\n",
    "    if(a==1):\n",
    "        print('a is 1')\n",
    "    elif(a==3):\n",
    "        print('a is 3')"
   ]
  },
  {
   "cell_type": "code",
   "execution_count": 5,
   "metadata": {},
   "outputs": [
    {
     "name": "stdout",
     "output_type": "stream",
     "text": [
      "성적을 입력하세요: 77\n",
      "C\n"
     ]
    }
   ],
   "source": [
    "#연습문제 2-69p\n",
    "\n",
    "num = int(input(\"성적을 입력하세요: \"))\n",
    "grade = 'D'\n",
    "\n",
    "if num >=90:\n",
    "    grade = 'A'\n",
    "elif num>=80:\n",
    "    grade = 'B'\n",
    "elif num>=70:\n",
    "    grade = 'C'\n",
    "else :\n",
    "    grade = 'D'\n",
    "\n",
    "print(grade)"
   ]
  },
  {
   "cell_type": "markdown",
   "metadata": {},
   "source": [
    "### 반복문(for, while) --- range()"
   ]
  },
  {
   "cell_type": "code",
   "execution_count": 8,
   "metadata": {},
   "outputs": [
    {
     "name": "stdout",
     "output_type": "stream",
     "text": [
      "신비한 동물 사전\n",
      "#살아있다\n",
      "결백\n",
      "기생충\n",
      "아가씨\n",
      "시계태엽오렌지\n",
      "******************************\n",
      "신비한 동물 사전\n",
      "#살아있다\n",
      "결백\n",
      "기생충\n",
      "아가씨\n",
      "시계태엽오렌지\n"
     ]
    }
   ],
   "source": [
    "mov = ['신비한 동물 사전','#살아있다','결백','기생충','아가씨','시계태엽오렌지']\n",
    "\n",
    "for m in mov:\n",
    "    print(m)\n",
    "\n",
    "print('*'*30)\n",
    "\n",
    "for i in range(len(mov)):\n",
    "    print(mov[i])"
   ]
  },
  {
   "cell_type": "code",
   "execution_count": null,
   "metadata": {},
   "outputs": [],
   "source": []
  },
  {
   "cell_type": "code",
   "execution_count": null,
   "metadata": {},
   "outputs": [],
   "source": []
  },
  {
   "cell_type": "code",
   "execution_count": null,
   "metadata": {},
   "outputs": [],
   "source": []
  },
  {
   "cell_type": "code",
   "execution_count": null,
   "metadata": {},
   "outputs": [],
   "source": []
  },
  {
   "cell_type": "code",
   "execution_count": null,
   "metadata": {},
   "outputs": [],
   "source": []
  },
  {
   "cell_type": "code",
   "execution_count": null,
   "metadata": {},
   "outputs": [],
   "source": []
  },
  {
   "cell_type": "code",
   "execution_count": null,
   "metadata": {},
   "outputs": [],
   "source": []
  }
 ],
 "metadata": {
  "kernelspec": {
   "display_name": "Python 3",
   "language": "python",
   "name": "python3"
  },
  "language_info": {
   "codemirror_mode": {
    "name": "ipython",
    "version": 3
   },
   "file_extension": ".py",
   "mimetype": "text/x-python",
   "name": "python",
   "nbconvert_exporter": "python",
   "pygments_lexer": "ipython3",
   "version": "3.7.6"
  }
 },
 "nbformat": 4,
 "nbformat_minor": 4
}
